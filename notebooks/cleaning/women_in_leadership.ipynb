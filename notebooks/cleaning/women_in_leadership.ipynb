{
 "metadata": {
  "language_info": {
   "codemirror_mode": {
    "name": "ipython",
    "version": 3
   },
   "file_extension": ".py",
   "mimetype": "text/x-python",
   "name": "python",
   "nbconvert_exporter": "python",
   "pygments_lexer": "ipython3",
   "version": "3.8.5-final"
  },
  "orig_nbformat": 2,
  "kernelspec": {
   "name": "python_defaultSpec_1599834749191",
   "display_name": "Python 3.8.5 64-bit"
  }
 },
 "nbformat": 4,
 "nbformat_minor": 2,
 "cells": [
  {
   "cell_type": "code",
   "execution_count": 1,
   "metadata": {},
   "outputs": [],
   "source": [
    "import mypathsetup\n",
    "import config\n",
    "import pandas as pd"
   ]
  },
  {
   "cell_type": "code",
   "execution_count": 2,
   "metadata": {},
   "outputs": [
    {
     "output_type": "execute_result",
     "data": {
      "text/plain": "    Year  Total  Men  Women\n0   2009    207  147     60\n1   2010    193  133     60\n2   2011    182  126     56\n3   2012    179  124     55\n4   2013    179  120     59\n5   2014    169  117     52\n6   2015    160  102     58\n7   2016    156   98     58\n8   2017    154   94     60\n9   2018    155   94     61\n10  2019    156   91     65",
      "text/html": "<div>\n<style scoped>\n    .dataframe tbody tr th:only-of-type {\n        vertical-align: middle;\n    }\n\n    .dataframe tbody tr th {\n        vertical-align: top;\n    }\n\n    .dataframe thead th {\n        text-align: right;\n    }\n</style>\n<table border=\"1\" class=\"dataframe\">\n  <thead>\n    <tr style=\"text-align: right;\">\n      <th></th>\n      <th>Year</th>\n      <th>Total</th>\n      <th>Men</th>\n      <th>Women</th>\n    </tr>\n  </thead>\n  <tbody>\n    <tr>\n      <th>0</th>\n      <td>2009</td>\n      <td>207</td>\n      <td>147</td>\n      <td>60</td>\n    </tr>\n    <tr>\n      <th>1</th>\n      <td>2010</td>\n      <td>193</td>\n      <td>133</td>\n      <td>60</td>\n    </tr>\n    <tr>\n      <th>2</th>\n      <td>2011</td>\n      <td>182</td>\n      <td>126</td>\n      <td>56</td>\n    </tr>\n    <tr>\n      <th>3</th>\n      <td>2012</td>\n      <td>179</td>\n      <td>124</td>\n      <td>55</td>\n    </tr>\n    <tr>\n      <th>4</th>\n      <td>2013</td>\n      <td>179</td>\n      <td>120</td>\n      <td>59</td>\n    </tr>\n    <tr>\n      <th>5</th>\n      <td>2014</td>\n      <td>169</td>\n      <td>117</td>\n      <td>52</td>\n    </tr>\n    <tr>\n      <th>6</th>\n      <td>2015</td>\n      <td>160</td>\n      <td>102</td>\n      <td>58</td>\n    </tr>\n    <tr>\n      <th>7</th>\n      <td>2016</td>\n      <td>156</td>\n      <td>98</td>\n      <td>58</td>\n    </tr>\n    <tr>\n      <th>8</th>\n      <td>2017</td>\n      <td>154</td>\n      <td>94</td>\n      <td>60</td>\n    </tr>\n    <tr>\n      <th>9</th>\n      <td>2018</td>\n      <td>155</td>\n      <td>94</td>\n      <td>61</td>\n    </tr>\n    <tr>\n      <th>10</th>\n      <td>2019</td>\n      <td>156</td>\n      <td>91</td>\n      <td>65</td>\n    </tr>\n  </tbody>\n</table>\n</div>"
     },
     "metadata": {},
     "execution_count": 2
    }
   ],
   "source": [
    "df = pd.read_csv(config.r_women_lead_data / 'directors_govt_agencies_2009_2019.csv')\n",
    "df"
   ]
  },
  {
   "cell_type": "code",
   "execution_count": 3,
   "metadata": {},
   "outputs": [],
   "source": [
    "df.Year = df.Year.astype(str)"
   ]
  },
  {
   "cell_type": "code",
   "execution_count": 4,
   "metadata": {},
   "outputs": [
    {
     "output_type": "execute_result",
     "data": {
      "text/plain": "    Year    Sex  n_directors\n0   2009  Total          207\n1   2010  Total          193\n2   2011  Total          182\n3   2012  Total          179\n4   2013  Total          179\n5   2014  Total          169\n6   2015  Total          160\n7   2016  Total          156\n8   2017  Total          154\n9   2018  Total          155\n10  2019  Total          156\n11  2009    Men          147\n12  2010    Men          133\n13  2011    Men          126\n14  2012    Men          124\n15  2013    Men          120\n16  2014    Men          117\n17  2015    Men          102\n18  2016    Men           98\n19  2017    Men           94\n20  2018    Men           94\n21  2019    Men           91\n22  2009  Women           60\n23  2010  Women           60\n24  2011  Women           56\n25  2012  Women           55\n26  2013  Women           59\n27  2014  Women           52\n28  2015  Women           58\n29  2016  Women           58\n30  2017  Women           60\n31  2018  Women           61\n32  2019  Women           65",
      "text/html": "<div>\n<style scoped>\n    .dataframe tbody tr th:only-of-type {\n        vertical-align: middle;\n    }\n\n    .dataframe tbody tr th {\n        vertical-align: top;\n    }\n\n    .dataframe thead th {\n        text-align: right;\n    }\n</style>\n<table border=\"1\" class=\"dataframe\">\n  <thead>\n    <tr style=\"text-align: right;\">\n      <th></th>\n      <th>Year</th>\n      <th>Sex</th>\n      <th>n_directors</th>\n    </tr>\n  </thead>\n  <tbody>\n    <tr>\n      <th>0</th>\n      <td>2009</td>\n      <td>Total</td>\n      <td>207</td>\n    </tr>\n    <tr>\n      <th>1</th>\n      <td>2010</td>\n      <td>Total</td>\n      <td>193</td>\n    </tr>\n    <tr>\n      <th>2</th>\n      <td>2011</td>\n      <td>Total</td>\n      <td>182</td>\n    </tr>\n    <tr>\n      <th>3</th>\n      <td>2012</td>\n      <td>Total</td>\n      <td>179</td>\n    </tr>\n    <tr>\n      <th>4</th>\n      <td>2013</td>\n      <td>Total</td>\n      <td>179</td>\n    </tr>\n    <tr>\n      <th>5</th>\n      <td>2014</td>\n      <td>Total</td>\n      <td>169</td>\n    </tr>\n    <tr>\n      <th>6</th>\n      <td>2015</td>\n      <td>Total</td>\n      <td>160</td>\n    </tr>\n    <tr>\n      <th>7</th>\n      <td>2016</td>\n      <td>Total</td>\n      <td>156</td>\n    </tr>\n    <tr>\n      <th>8</th>\n      <td>2017</td>\n      <td>Total</td>\n      <td>154</td>\n    </tr>\n    <tr>\n      <th>9</th>\n      <td>2018</td>\n      <td>Total</td>\n      <td>155</td>\n    </tr>\n    <tr>\n      <th>10</th>\n      <td>2019</td>\n      <td>Total</td>\n      <td>156</td>\n    </tr>\n    <tr>\n      <th>11</th>\n      <td>2009</td>\n      <td>Men</td>\n      <td>147</td>\n    </tr>\n    <tr>\n      <th>12</th>\n      <td>2010</td>\n      <td>Men</td>\n      <td>133</td>\n    </tr>\n    <tr>\n      <th>13</th>\n      <td>2011</td>\n      <td>Men</td>\n      <td>126</td>\n    </tr>\n    <tr>\n      <th>14</th>\n      <td>2012</td>\n      <td>Men</td>\n      <td>124</td>\n    </tr>\n    <tr>\n      <th>15</th>\n      <td>2013</td>\n      <td>Men</td>\n      <td>120</td>\n    </tr>\n    <tr>\n      <th>16</th>\n      <td>2014</td>\n      <td>Men</td>\n      <td>117</td>\n    </tr>\n    <tr>\n      <th>17</th>\n      <td>2015</td>\n      <td>Men</td>\n      <td>102</td>\n    </tr>\n    <tr>\n      <th>18</th>\n      <td>2016</td>\n      <td>Men</td>\n      <td>98</td>\n    </tr>\n    <tr>\n      <th>19</th>\n      <td>2017</td>\n      <td>Men</td>\n      <td>94</td>\n    </tr>\n    <tr>\n      <th>20</th>\n      <td>2018</td>\n      <td>Men</td>\n      <td>94</td>\n    </tr>\n    <tr>\n      <th>21</th>\n      <td>2019</td>\n      <td>Men</td>\n      <td>91</td>\n    </tr>\n    <tr>\n      <th>22</th>\n      <td>2009</td>\n      <td>Women</td>\n      <td>60</td>\n    </tr>\n    <tr>\n      <th>23</th>\n      <td>2010</td>\n      <td>Women</td>\n      <td>60</td>\n    </tr>\n    <tr>\n      <th>24</th>\n      <td>2011</td>\n      <td>Women</td>\n      <td>56</td>\n    </tr>\n    <tr>\n      <th>25</th>\n      <td>2012</td>\n      <td>Women</td>\n      <td>55</td>\n    </tr>\n    <tr>\n      <th>26</th>\n      <td>2013</td>\n      <td>Women</td>\n      <td>59</td>\n    </tr>\n    <tr>\n      <th>27</th>\n      <td>2014</td>\n      <td>Women</td>\n      <td>52</td>\n    </tr>\n    <tr>\n      <th>28</th>\n      <td>2015</td>\n      <td>Women</td>\n      <td>58</td>\n    </tr>\n    <tr>\n      <th>29</th>\n      <td>2016</td>\n      <td>Women</td>\n      <td>58</td>\n    </tr>\n    <tr>\n      <th>30</th>\n      <td>2017</td>\n      <td>Women</td>\n      <td>60</td>\n    </tr>\n    <tr>\n      <th>31</th>\n      <td>2018</td>\n      <td>Women</td>\n      <td>61</td>\n    </tr>\n    <tr>\n      <th>32</th>\n      <td>2019</td>\n      <td>Women</td>\n      <td>65</td>\n    </tr>\n  </tbody>\n</table>\n</div>"
     },
     "metadata": {},
     "execution_count": 4
    }
   ],
   "source": [
    "df = pd.melt(df, id_vars='Year', var_name='Sex', value_name='n_directors')\n",
    "df"
   ]
  },
  {
   "cell_type": "code",
   "execution_count": 5,
   "metadata": {
    "tags": []
   },
   "outputs": [
    {
     "output_type": "stream",
     "name": "stdout",
     "text": "<class 'pandas.core.frame.DataFrame'>\nRangeIndex: 33 entries, 0 to 32\nData columns (total 3 columns):\n #   Column       Non-Null Count  Dtype \n---  ------       --------------  ----- \n 0   Year         33 non-null     object\n 1   Sex          33 non-null     object\n 2   n_directors  33 non-null     int64 \ndtypes: int64(1), object(2)\nmemory usage: 920.0+ bytes\n"
    }
   ],
   "source": [
    "df.info()"
   ]
  },
  {
   "cell_type": "code",
   "execution_count": 6,
   "metadata": {},
   "outputs": [],
   "source": [
    "# to csv\n",
    "data_path = config.c_women_lead_data / 'directors_govt_agencies_2009_2019.csv'\n",
    "df.to_csv(data_path, index=False)"
   ]
  }
 ]
}