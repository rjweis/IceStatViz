{
 "metadata": {
  "language_info": {
   "codemirror_mode": {
    "name": "ipython",
    "version": 3
   },
   "file_extension": ".py",
   "mimetype": "text/x-python",
   "name": "python",
   "nbconvert_exporter": "python",
   "pygments_lexer": "ipython3",
   "version": "3.8.5-final"
  },
  "orig_nbformat": 2,
  "kernelspec": {
   "name": "python_defaultSpec_1599818466518",
   "display_name": "Python 3.8.5 64-bit ('icestaviz': conda)"
  }
 },
 "nbformat": 4,
 "nbformat_minor": 2,
 "cells": [
  {
   "cell_type": "code",
   "execution_count": 27,
   "metadata": {},
   "outputs": [],
   "source": [
    "import mypathsetup\n",
    "import config\n",
    "import pandas as pd"
   ]
  },
  {
   "cell_type": "markdown",
   "metadata": {},
   "source": [
    "# distribution_1990_2019"
   ]
  },
  {
   "cell_type": "code",
   "execution_count": 28,
   "metadata": {},
   "outputs": [
    {
     "output_type": "execute_result",
     "data": {
      "text/plain": "       Sex                  Unit                 Age   1990   1991   1992  \\\n0    Total                   10%               Total    265    290    288   \n1    Total                   10%       16 - 24 years    170    184    164   \n2    Total                   10%       16 - 64 years    253    275    272   \n3    Total                   10%       16 - 74 years    262    286    284   \n4    Total                   10%       18 - 66 years    298    325    331   \n..     ...                   ...                 ...    ...    ...    ...   \n424  Women  Number - conditional       25 - 64 years  54957  56268  57293   \n425  Women  Number - conditional       25 - 74 years  62959  64486  65657   \n426  Women  Number - conditional       55 - 74 years  17897  18137  18245   \n427  Women  Number - conditional  67 years and older  12809  13150  13400   \n428  Women  Number - conditional  75 years and older   6517   6741   6924   \n\n      1993   1994   1995   1996  ...   2010   2011   2012   2013   2014  \\\n0      285    304    329    371  ...    924   1058   1148   1238   1294   \n1      148    147    153    177  ...    200    245    280    329    326   \n2      266    286    309    352  ...    824    949   1028   1111   1155   \n3      280    300    325    368  ...    893   1026   1112   1201   1255   \n4      328    355    393    442  ...   1139   1232   1326   1411   1507   \n..     ...    ...    ...    ...  ...    ...    ...    ...    ...    ...   \n424  58119  58777  59040  59275  ...  74495  74328  74627  75309  75984   \n425  66620  67485  67972  68284  ...  84557  84667  85408  86652  87764   \n426  18316  18453  18582  18630  ...  26010  26766  27688  28635  29580   \n427  13670  14007  14220  14466  ...  17897  18135  18617  19127  19573   \n428   7046   7193   7341   7513  ...  10332  10361  10477  10638  10704   \n\n      2015   2016   2017   2018   2019  \n0     1393   1576   1775   1915   1958  \n1      384    468    550    540    464  \n2     1234   1401   1591   1697   1727  \n3     1350   1531   1730   1856   1894  \n4     1634   1834   1995   2140   2199  \n..     ...    ...    ...    ...    ...  \n424  76868  77402  78301  79812  81893  \n425  89007  89999  91234  93174  95710  \n426  30354  30991  31726  32452  33448  \n427  20016  20431  20864  21403  22028  \n428  10760  10857  10978  11183  11472  \n\n[429 rows x 33 columns]",
      "text/html": "<div>\n<style scoped>\n    .dataframe tbody tr th:only-of-type {\n        vertical-align: middle;\n    }\n\n    .dataframe tbody tr th {\n        vertical-align: top;\n    }\n\n    .dataframe thead th {\n        text-align: right;\n    }\n</style>\n<table border=\"1\" class=\"dataframe\">\n  <thead>\n    <tr style=\"text-align: right;\">\n      <th></th>\n      <th>Sex</th>\n      <th>Unit</th>\n      <th>Age</th>\n      <th>1990</th>\n      <th>1991</th>\n      <th>1992</th>\n      <th>1993</th>\n      <th>1994</th>\n      <th>1995</th>\n      <th>1996</th>\n      <th>...</th>\n      <th>2010</th>\n      <th>2011</th>\n      <th>2012</th>\n      <th>2013</th>\n      <th>2014</th>\n      <th>2015</th>\n      <th>2016</th>\n      <th>2017</th>\n      <th>2018</th>\n      <th>2019</th>\n    </tr>\n  </thead>\n  <tbody>\n    <tr>\n      <th>0</th>\n      <td>Total</td>\n      <td>10%</td>\n      <td>Total</td>\n      <td>265</td>\n      <td>290</td>\n      <td>288</td>\n      <td>285</td>\n      <td>304</td>\n      <td>329</td>\n      <td>371</td>\n      <td>...</td>\n      <td>924</td>\n      <td>1058</td>\n      <td>1148</td>\n      <td>1238</td>\n      <td>1294</td>\n      <td>1393</td>\n      <td>1576</td>\n      <td>1775</td>\n      <td>1915</td>\n      <td>1958</td>\n    </tr>\n    <tr>\n      <th>1</th>\n      <td>Total</td>\n      <td>10%</td>\n      <td>16 - 24 years</td>\n      <td>170</td>\n      <td>184</td>\n      <td>164</td>\n      <td>148</td>\n      <td>147</td>\n      <td>153</td>\n      <td>177</td>\n      <td>...</td>\n      <td>200</td>\n      <td>245</td>\n      <td>280</td>\n      <td>329</td>\n      <td>326</td>\n      <td>384</td>\n      <td>468</td>\n      <td>550</td>\n      <td>540</td>\n      <td>464</td>\n    </tr>\n    <tr>\n      <th>2</th>\n      <td>Total</td>\n      <td>10%</td>\n      <td>16 - 64 years</td>\n      <td>253</td>\n      <td>275</td>\n      <td>272</td>\n      <td>266</td>\n      <td>286</td>\n      <td>309</td>\n      <td>352</td>\n      <td>...</td>\n      <td>824</td>\n      <td>949</td>\n      <td>1028</td>\n      <td>1111</td>\n      <td>1155</td>\n      <td>1234</td>\n      <td>1401</td>\n      <td>1591</td>\n      <td>1697</td>\n      <td>1727</td>\n    </tr>\n    <tr>\n      <th>3</th>\n      <td>Total</td>\n      <td>10%</td>\n      <td>16 - 74 years</td>\n      <td>262</td>\n      <td>286</td>\n      <td>284</td>\n      <td>280</td>\n      <td>300</td>\n      <td>325</td>\n      <td>368</td>\n      <td>...</td>\n      <td>893</td>\n      <td>1026</td>\n      <td>1112</td>\n      <td>1201</td>\n      <td>1255</td>\n      <td>1350</td>\n      <td>1531</td>\n      <td>1730</td>\n      <td>1856</td>\n      <td>1894</td>\n    </tr>\n    <tr>\n      <th>4</th>\n      <td>Total</td>\n      <td>10%</td>\n      <td>18 - 66 years</td>\n      <td>298</td>\n      <td>325</td>\n      <td>331</td>\n      <td>328</td>\n      <td>355</td>\n      <td>393</td>\n      <td>442</td>\n      <td>...</td>\n      <td>1139</td>\n      <td>1232</td>\n      <td>1326</td>\n      <td>1411</td>\n      <td>1507</td>\n      <td>1634</td>\n      <td>1834</td>\n      <td>1995</td>\n      <td>2140</td>\n      <td>2199</td>\n    </tr>\n    <tr>\n      <th>...</th>\n      <td>...</td>\n      <td>...</td>\n      <td>...</td>\n      <td>...</td>\n      <td>...</td>\n      <td>...</td>\n      <td>...</td>\n      <td>...</td>\n      <td>...</td>\n      <td>...</td>\n      <td>...</td>\n      <td>...</td>\n      <td>...</td>\n      <td>...</td>\n      <td>...</td>\n      <td>...</td>\n      <td>...</td>\n      <td>...</td>\n      <td>...</td>\n      <td>...</td>\n      <td>...</td>\n    </tr>\n    <tr>\n      <th>424</th>\n      <td>Women</td>\n      <td>Number - conditional</td>\n      <td>25 - 64 years</td>\n      <td>54957</td>\n      <td>56268</td>\n      <td>57293</td>\n      <td>58119</td>\n      <td>58777</td>\n      <td>59040</td>\n      <td>59275</td>\n      <td>...</td>\n      <td>74495</td>\n      <td>74328</td>\n      <td>74627</td>\n      <td>75309</td>\n      <td>75984</td>\n      <td>76868</td>\n      <td>77402</td>\n      <td>78301</td>\n      <td>79812</td>\n      <td>81893</td>\n    </tr>\n    <tr>\n      <th>425</th>\n      <td>Women</td>\n      <td>Number - conditional</td>\n      <td>25 - 74 years</td>\n      <td>62959</td>\n      <td>64486</td>\n      <td>65657</td>\n      <td>66620</td>\n      <td>67485</td>\n      <td>67972</td>\n      <td>68284</td>\n      <td>...</td>\n      <td>84557</td>\n      <td>84667</td>\n      <td>85408</td>\n      <td>86652</td>\n      <td>87764</td>\n      <td>89007</td>\n      <td>89999</td>\n      <td>91234</td>\n      <td>93174</td>\n      <td>95710</td>\n    </tr>\n    <tr>\n      <th>426</th>\n      <td>Women</td>\n      <td>Number - conditional</td>\n      <td>55 - 74 years</td>\n      <td>17897</td>\n      <td>18137</td>\n      <td>18245</td>\n      <td>18316</td>\n      <td>18453</td>\n      <td>18582</td>\n      <td>18630</td>\n      <td>...</td>\n      <td>26010</td>\n      <td>26766</td>\n      <td>27688</td>\n      <td>28635</td>\n      <td>29580</td>\n      <td>30354</td>\n      <td>30991</td>\n      <td>31726</td>\n      <td>32452</td>\n      <td>33448</td>\n    </tr>\n    <tr>\n      <th>427</th>\n      <td>Women</td>\n      <td>Number - conditional</td>\n      <td>67 years and older</td>\n      <td>12809</td>\n      <td>13150</td>\n      <td>13400</td>\n      <td>13670</td>\n      <td>14007</td>\n      <td>14220</td>\n      <td>14466</td>\n      <td>...</td>\n      <td>17897</td>\n      <td>18135</td>\n      <td>18617</td>\n      <td>19127</td>\n      <td>19573</td>\n      <td>20016</td>\n      <td>20431</td>\n      <td>20864</td>\n      <td>21403</td>\n      <td>22028</td>\n    </tr>\n    <tr>\n      <th>428</th>\n      <td>Women</td>\n      <td>Number - conditional</td>\n      <td>75 years and older</td>\n      <td>6517</td>\n      <td>6741</td>\n      <td>6924</td>\n      <td>7046</td>\n      <td>7193</td>\n      <td>7341</td>\n      <td>7513</td>\n      <td>...</td>\n      <td>10332</td>\n      <td>10361</td>\n      <td>10477</td>\n      <td>10638</td>\n      <td>10704</td>\n      <td>10760</td>\n      <td>10857</td>\n      <td>10978</td>\n      <td>11183</td>\n      <td>11472</td>\n    </tr>\n  </tbody>\n</table>\n<p>429 rows × 33 columns</p>\n</div>"
     },
     "metadata": {},
     "execution_count": 28
    }
   ],
   "source": [
    "df = pd.read_csv(config.r_income_data / 'distribution_1990_2019.csv')\n",
    "df"
   ]
  },
  {
   "cell_type": "code",
   "execution_count": 29,
   "metadata": {},
   "outputs": [
    {
     "output_type": "execute_result",
     "data": {
      "text/plain": "array(['10%', '20%', '30%', '40%', '50%', '60%', '70%', '80%', '90%',\n       '95%', '99%', 'Mean - conditional', 'Number - conditional'],\n      dtype=object)"
     },
     "metadata": {},
     "execution_count": 29
    }
   ],
   "source": [
    "df.Unit.unique()"
   ]
  },
  {
   "cell_type": "code",
   "execution_count": 30,
   "metadata": {},
   "outputs": [
    {
     "output_type": "execute_result",
     "data": {
      "text/plain": "         Sex                  Unit                 Age  Year  value\n0      Total                   10%               Total  1990    265\n1      Total                   10%       16 - 24 years  1990    170\n2      Total                   10%       16 - 64 years  1990    253\n3      Total                   10%       16 - 74 years  1990    262\n4      Total                   10%       18 - 66 years  1990    298\n...      ...                   ...                 ...   ...    ...\n12865  Women  Number - conditional       25 - 64 years  2019  81893\n12866  Women  Number - conditional       25 - 74 years  2019  95710\n12867  Women  Number - conditional       55 - 74 years  2019  33448\n12868  Women  Number - conditional  67 years and older  2019  22028\n12869  Women  Number - conditional  75 years and older  2019  11472\n\n[12870 rows x 5 columns]",
      "text/html": "<div>\n<style scoped>\n    .dataframe tbody tr th:only-of-type {\n        vertical-align: middle;\n    }\n\n    .dataframe tbody tr th {\n        vertical-align: top;\n    }\n\n    .dataframe thead th {\n        text-align: right;\n    }\n</style>\n<table border=\"1\" class=\"dataframe\">\n  <thead>\n    <tr style=\"text-align: right;\">\n      <th></th>\n      <th>Sex</th>\n      <th>Unit</th>\n      <th>Age</th>\n      <th>Year</th>\n      <th>value</th>\n    </tr>\n  </thead>\n  <tbody>\n    <tr>\n      <th>0</th>\n      <td>Total</td>\n      <td>10%</td>\n      <td>Total</td>\n      <td>1990</td>\n      <td>265</td>\n    </tr>\n    <tr>\n      <th>1</th>\n      <td>Total</td>\n      <td>10%</td>\n      <td>16 - 24 years</td>\n      <td>1990</td>\n      <td>170</td>\n    </tr>\n    <tr>\n      <th>2</th>\n      <td>Total</td>\n      <td>10%</td>\n      <td>16 - 64 years</td>\n      <td>1990</td>\n      <td>253</td>\n    </tr>\n    <tr>\n      <th>3</th>\n      <td>Total</td>\n      <td>10%</td>\n      <td>16 - 74 years</td>\n      <td>1990</td>\n      <td>262</td>\n    </tr>\n    <tr>\n      <th>4</th>\n      <td>Total</td>\n      <td>10%</td>\n      <td>18 - 66 years</td>\n      <td>1990</td>\n      <td>298</td>\n    </tr>\n    <tr>\n      <th>...</th>\n      <td>...</td>\n      <td>...</td>\n      <td>...</td>\n      <td>...</td>\n      <td>...</td>\n    </tr>\n    <tr>\n      <th>12865</th>\n      <td>Women</td>\n      <td>Number - conditional</td>\n      <td>25 - 64 years</td>\n      <td>2019</td>\n      <td>81893</td>\n    </tr>\n    <tr>\n      <th>12866</th>\n      <td>Women</td>\n      <td>Number - conditional</td>\n      <td>25 - 74 years</td>\n      <td>2019</td>\n      <td>95710</td>\n    </tr>\n    <tr>\n      <th>12867</th>\n      <td>Women</td>\n      <td>Number - conditional</td>\n      <td>55 - 74 years</td>\n      <td>2019</td>\n      <td>33448</td>\n    </tr>\n    <tr>\n      <th>12868</th>\n      <td>Women</td>\n      <td>Number - conditional</td>\n      <td>67 years and older</td>\n      <td>2019</td>\n      <td>22028</td>\n    </tr>\n    <tr>\n      <th>12869</th>\n      <td>Women</td>\n      <td>Number - conditional</td>\n      <td>75 years and older</td>\n      <td>2019</td>\n      <td>11472</td>\n    </tr>\n  </tbody>\n</table>\n<p>12870 rows × 5 columns</p>\n</div>"
     },
     "metadata": {},
     "execution_count": 30
    }
   ],
   "source": [
    "df = pd.melt(df, id_vars=['Sex', 'Unit', 'Age'], var_name=['Year'], value_name='value')\n",
    "df"
   ]
  },
  {
   "cell_type": "code",
   "execution_count": 31,
   "metadata": {},
   "outputs": [
    {
     "output_type": "execute_result",
     "data": {
      "text/plain": "         Sex                  Unit                 Age  Year  value\n0      Total                   10%               Total  1990  26500\n1      Total                   10%       16 - 24 years  1990  17000\n2      Total                   10%       16 - 64 years  1990  25300\n3      Total                   10%       16 - 74 years  1990  26200\n4      Total                   10%       18 - 66 years  1990  29800\n...      ...                   ...                 ...   ...    ...\n12865  Women  Number - conditional       25 - 64 years  2019  81893\n12866  Women  Number - conditional       25 - 74 years  2019  95710\n12867  Women  Number - conditional       55 - 74 years  2019  33448\n12868  Women  Number - conditional  67 years and older  2019  22028\n12869  Women  Number - conditional  75 years and older  2019  11472\n\n[12870 rows x 5 columns]",
      "text/html": "<div>\n<style scoped>\n    .dataframe tbody tr th:only-of-type {\n        vertical-align: middle;\n    }\n\n    .dataframe tbody tr th {\n        vertical-align: top;\n    }\n\n    .dataframe thead th {\n        text-align: right;\n    }\n</style>\n<table border=\"1\" class=\"dataframe\">\n  <thead>\n    <tr style=\"text-align: right;\">\n      <th></th>\n      <th>Sex</th>\n      <th>Unit</th>\n      <th>Age</th>\n      <th>Year</th>\n      <th>value</th>\n    </tr>\n  </thead>\n  <tbody>\n    <tr>\n      <th>0</th>\n      <td>Total</td>\n      <td>10%</td>\n      <td>Total</td>\n      <td>1990</td>\n      <td>26500</td>\n    </tr>\n    <tr>\n      <th>1</th>\n      <td>Total</td>\n      <td>10%</td>\n      <td>16 - 24 years</td>\n      <td>1990</td>\n      <td>17000</td>\n    </tr>\n    <tr>\n      <th>2</th>\n      <td>Total</td>\n      <td>10%</td>\n      <td>16 - 64 years</td>\n      <td>1990</td>\n      <td>25300</td>\n    </tr>\n    <tr>\n      <th>3</th>\n      <td>Total</td>\n      <td>10%</td>\n      <td>16 - 74 years</td>\n      <td>1990</td>\n      <td>26200</td>\n    </tr>\n    <tr>\n      <th>4</th>\n      <td>Total</td>\n      <td>10%</td>\n      <td>18 - 66 years</td>\n      <td>1990</td>\n      <td>29800</td>\n    </tr>\n    <tr>\n      <th>...</th>\n      <td>...</td>\n      <td>...</td>\n      <td>...</td>\n      <td>...</td>\n      <td>...</td>\n    </tr>\n    <tr>\n      <th>12865</th>\n      <td>Women</td>\n      <td>Number - conditional</td>\n      <td>25 - 64 years</td>\n      <td>2019</td>\n      <td>81893</td>\n    </tr>\n    <tr>\n      <th>12866</th>\n      <td>Women</td>\n      <td>Number - conditional</td>\n      <td>25 - 74 years</td>\n      <td>2019</td>\n      <td>95710</td>\n    </tr>\n    <tr>\n      <th>12867</th>\n      <td>Women</td>\n      <td>Number - conditional</td>\n      <td>55 - 74 years</td>\n      <td>2019</td>\n      <td>33448</td>\n    </tr>\n    <tr>\n      <th>12868</th>\n      <td>Women</td>\n      <td>Number - conditional</td>\n      <td>67 years and older</td>\n      <td>2019</td>\n      <td>22028</td>\n    </tr>\n    <tr>\n      <th>12869</th>\n      <td>Women</td>\n      <td>Number - conditional</td>\n      <td>75 years and older</td>\n      <td>2019</td>\n      <td>11472</td>\n    </tr>\n  </tbody>\n</table>\n<p>12870 rows × 5 columns</p>\n</div>"
     },
     "metadata": {},
     "execution_count": 31
    }
   ],
   "source": [
    "# multiply income amounts by 100 to get correct amount in ISK\n",
    "def change_income(unit, income):\n",
    "    if unit != 'Number - conditional':\n",
    "        new_inc = income * 100\n",
    "        return(new_inc)\n",
    "    return(income)\n",
    "\n",
    "df.value = df.apply(lambda x: change_income(x.Unit, x.value), axis=1)\n",
    "df\n"
   ]
  },
  {
   "cell_type": "code",
   "execution_count": 32,
   "metadata": {
    "tags": []
   },
   "outputs": [
    {
     "output_type": "stream",
     "name": "stdout",
     "text": "<class 'pandas.core.frame.DataFrame'>\nRangeIndex: 12870 entries, 0 to 12869\nData columns (total 5 columns):\n #   Column  Non-Null Count  Dtype \n---  ------  --------------  ----- \n 0   Sex     12870 non-null  object\n 1   Unit    12870 non-null  object\n 2   Age     12870 non-null  object\n 3   Year    12870 non-null  object\n 4   value   12870 non-null  int64 \ndtypes: int64(1), object(4)\nmemory usage: 502.9+ KB\n"
    }
   ],
   "source": [
    "df.info()"
   ]
  },
  {
   "cell_type": "code",
   "execution_count": 33,
   "metadata": {},
   "outputs": [
    {
     "output_type": "execute_result",
     "data": {
      "text/plain": "       Year    Sex                 Age                  Unit  value\n0      1990  Total               Total                   10%  26500\n1      1990  Total       16 - 24 years                   10%  17000\n2      1990  Total       16 - 64 years                   10%  25300\n3      1990  Total       16 - 74 years                   10%  26200\n4      1990  Total       18 - 66 years                   10%  29800\n...     ...    ...                 ...                   ...    ...\n12865  2019  Women       25 - 64 years  Number - conditional  81893\n12866  2019  Women       25 - 74 years  Number - conditional  95710\n12867  2019  Women       55 - 74 years  Number - conditional  33448\n12868  2019  Women  67 years and older  Number - conditional  22028\n12869  2019  Women  75 years and older  Number - conditional  11472\n\n[12870 rows x 5 columns]",
      "text/html": "<div>\n<style scoped>\n    .dataframe tbody tr th:only-of-type {\n        vertical-align: middle;\n    }\n\n    .dataframe tbody tr th {\n        vertical-align: top;\n    }\n\n    .dataframe thead th {\n        text-align: right;\n    }\n</style>\n<table border=\"1\" class=\"dataframe\">\n  <thead>\n    <tr style=\"text-align: right;\">\n      <th></th>\n      <th>Year</th>\n      <th>Sex</th>\n      <th>Age</th>\n      <th>Unit</th>\n      <th>value</th>\n    </tr>\n  </thead>\n  <tbody>\n    <tr>\n      <th>0</th>\n      <td>1990</td>\n      <td>Total</td>\n      <td>Total</td>\n      <td>10%</td>\n      <td>26500</td>\n    </tr>\n    <tr>\n      <th>1</th>\n      <td>1990</td>\n      <td>Total</td>\n      <td>16 - 24 years</td>\n      <td>10%</td>\n      <td>17000</td>\n    </tr>\n    <tr>\n      <th>2</th>\n      <td>1990</td>\n      <td>Total</td>\n      <td>16 - 64 years</td>\n      <td>10%</td>\n      <td>25300</td>\n    </tr>\n    <tr>\n      <th>3</th>\n      <td>1990</td>\n      <td>Total</td>\n      <td>16 - 74 years</td>\n      <td>10%</td>\n      <td>26200</td>\n    </tr>\n    <tr>\n      <th>4</th>\n      <td>1990</td>\n      <td>Total</td>\n      <td>18 - 66 years</td>\n      <td>10%</td>\n      <td>29800</td>\n    </tr>\n    <tr>\n      <th>...</th>\n      <td>...</td>\n      <td>...</td>\n      <td>...</td>\n      <td>...</td>\n      <td>...</td>\n    </tr>\n    <tr>\n      <th>12865</th>\n      <td>2019</td>\n      <td>Women</td>\n      <td>25 - 64 years</td>\n      <td>Number - conditional</td>\n      <td>81893</td>\n    </tr>\n    <tr>\n      <th>12866</th>\n      <td>2019</td>\n      <td>Women</td>\n      <td>25 - 74 years</td>\n      <td>Number - conditional</td>\n      <td>95710</td>\n    </tr>\n    <tr>\n      <th>12867</th>\n      <td>2019</td>\n      <td>Women</td>\n      <td>55 - 74 years</td>\n      <td>Number - conditional</td>\n      <td>33448</td>\n    </tr>\n    <tr>\n      <th>12868</th>\n      <td>2019</td>\n      <td>Women</td>\n      <td>67 years and older</td>\n      <td>Number - conditional</td>\n      <td>22028</td>\n    </tr>\n    <tr>\n      <th>12869</th>\n      <td>2019</td>\n      <td>Women</td>\n      <td>75 years and older</td>\n      <td>Number - conditional</td>\n      <td>11472</td>\n    </tr>\n  </tbody>\n</table>\n<p>12870 rows × 5 columns</p>\n</div>"
     },
     "metadata": {},
     "execution_count": 33
    }
   ],
   "source": [
    "# reorder columns\n",
    "df = df[['Year', 'Sex', 'Age', 'Unit', 'value']]\n",
    "df"
   ]
  },
  {
   "cell_type": "code",
   "execution_count": 34,
   "metadata": {},
   "outputs": [],
   "source": [
    "# to csv\n",
    "data_path = config.c_income_data / 'distribution_1990_2019.csv'\n",
    "df.to_csv(data_path, index=False) "
   ]
  },
  {
   "cell_type": "markdown",
   "metadata": {},
   "source": [
    "# distribution_sector_2014_2018"
   ]
  },
  {
   "cell_type": "code",
   "execution_count": 62,
   "metadata": {},
   "outputs": [
    {
     "output_type": "execute_result",
     "data": {
      "text/plain": "      Year                            Economic activity  \\\n0     2014                                        Total   \n1     2014                                        Total   \n2     2014                                        Total   \n3     2014                                        Total   \n4     2014                                        Total   \n...    ...                                          ...   \n4285  2018  Human health and social work activities (Q)   \n4286  2018  Human health and social work activities (Q)   \n4287  2018  Human health and social work activities (Q)   \n4288  2018  Human health and social work activities (Q)   \n4289  2018  Human health and social work activities (Q)   \n\n                            Occupational group    Sex  \\\n0                                        Total  Total   \n1                                        Total  Total   \n2                                        Total    Men   \n3                                        Total    Men   \n4                                        Total  Women   \n...                                        ...    ...   \n4285  General, machine and specialized workers  Total   \n4286  General, machine and specialized workers    Men   \n4287  General, machine and specialized workers    Men   \n4288  General, machine and specialized workers  Women   \n4289  General, machine and specialized workers  Women   \n\n     Earnings and working hours   Mean    10%    20% 25% (1st quartile)  \\\n0                Total earnings    563    321    375                396   \n1                    Hours paid  184.5  162.5  170.9              173.3   \n2                Total earnings    625    353    410                434   \n3                    Hours paid  188.6  162.5  171.5              173.3   \n4                Total earnings    492    296    346                367   \n...                         ...    ...    ...    ...                ...   \n4285                 Hours paid  191.8  170.3  174.9              176.5   \n4286             Total earnings    571    366    424                433   \n4287                 Hours paid  199.0  173.8  182.4              184.7   \n4288             Total earnings    436    344    376                387   \n4289                 Hours paid  186.8  170.0  173.3              174.6   \n\n        30%    40% 50% (median)    60%    70% 75% (3rd quartile)    80%  \\\n0       415    452          493    540    602                644    694   \n1     173.3  173.8        178.1  183.3  189.1              193.2  197.5   \n2       456    500          544    598    667                714    767   \n3     173.3  175.4        182.7  188.8  195.7              200.4  206.2   \n4       384    415          446    480    527                557    596   \n...     ...    ...          ...    ...    ...                ...    ...   \n4285  181.0  184.9        189.1  193.6  198.7              202.6  206.9   \n4286    455    478          516    570    624                646    678   \n4287  188.3  192.7        196.5  204.6  210.9              214.0  215.3   \n4288    392    407          427    449    467                478    487   \n4289  175.4  181.4        184.9  188.3  193.5              195.4  197.5   \n\n        90% Observations Weighted bservations  \n0       852        39190                56460  \n1     212.7      39190.0              56460.0  \n2       932        19230                30070  \n3     220.4      19230.0              30070.0  \n4       728        19950                26390  \n...     ...          ...                  ...  \n4285  217.2        320.0                310.0  \n4286    886          130                  130  \n4287  226.8        130.0                130.0  \n4288    551          190                  180  \n4289  206.7        190.0                180.0  \n\n[4290 rows x 19 columns]",
      "text/html": "<div>\n<style scoped>\n    .dataframe tbody tr th:only-of-type {\n        vertical-align: middle;\n    }\n\n    .dataframe tbody tr th {\n        vertical-align: top;\n    }\n\n    .dataframe thead th {\n        text-align: right;\n    }\n</style>\n<table border=\"1\" class=\"dataframe\">\n  <thead>\n    <tr style=\"text-align: right;\">\n      <th></th>\n      <th>Year</th>\n      <th>Economic activity</th>\n      <th>Occupational group</th>\n      <th>Sex</th>\n      <th>Earnings and working hours</th>\n      <th>Mean</th>\n      <th>10%</th>\n      <th>20%</th>\n      <th>25% (1st quartile)</th>\n      <th>30%</th>\n      <th>40%</th>\n      <th>50% (median)</th>\n      <th>60%</th>\n      <th>70%</th>\n      <th>75% (3rd quartile)</th>\n      <th>80%</th>\n      <th>90%</th>\n      <th>Observations</th>\n      <th>Weighted bservations</th>\n    </tr>\n  </thead>\n  <tbody>\n    <tr>\n      <th>0</th>\n      <td>2014</td>\n      <td>Total</td>\n      <td>Total</td>\n      <td>Total</td>\n      <td>Total earnings</td>\n      <td>563</td>\n      <td>321</td>\n      <td>375</td>\n      <td>396</td>\n      <td>415</td>\n      <td>452</td>\n      <td>493</td>\n      <td>540</td>\n      <td>602</td>\n      <td>644</td>\n      <td>694</td>\n      <td>852</td>\n      <td>39190</td>\n      <td>56460</td>\n    </tr>\n    <tr>\n      <th>1</th>\n      <td>2014</td>\n      <td>Total</td>\n      <td>Total</td>\n      <td>Total</td>\n      <td>Hours paid</td>\n      <td>184.5</td>\n      <td>162.5</td>\n      <td>170.9</td>\n      <td>173.3</td>\n      <td>173.3</td>\n      <td>173.8</td>\n      <td>178.1</td>\n      <td>183.3</td>\n      <td>189.1</td>\n      <td>193.2</td>\n      <td>197.5</td>\n      <td>212.7</td>\n      <td>39190.0</td>\n      <td>56460.0</td>\n    </tr>\n    <tr>\n      <th>2</th>\n      <td>2014</td>\n      <td>Total</td>\n      <td>Total</td>\n      <td>Men</td>\n      <td>Total earnings</td>\n      <td>625</td>\n      <td>353</td>\n      <td>410</td>\n      <td>434</td>\n      <td>456</td>\n      <td>500</td>\n      <td>544</td>\n      <td>598</td>\n      <td>667</td>\n      <td>714</td>\n      <td>767</td>\n      <td>932</td>\n      <td>19230</td>\n      <td>30070</td>\n    </tr>\n    <tr>\n      <th>3</th>\n      <td>2014</td>\n      <td>Total</td>\n      <td>Total</td>\n      <td>Men</td>\n      <td>Hours paid</td>\n      <td>188.6</td>\n      <td>162.5</td>\n      <td>171.5</td>\n      <td>173.3</td>\n      <td>173.3</td>\n      <td>175.4</td>\n      <td>182.7</td>\n      <td>188.8</td>\n      <td>195.7</td>\n      <td>200.4</td>\n      <td>206.2</td>\n      <td>220.4</td>\n      <td>19230.0</td>\n      <td>30070.0</td>\n    </tr>\n    <tr>\n      <th>4</th>\n      <td>2014</td>\n      <td>Total</td>\n      <td>Total</td>\n      <td>Women</td>\n      <td>Total earnings</td>\n      <td>492</td>\n      <td>296</td>\n      <td>346</td>\n      <td>367</td>\n      <td>384</td>\n      <td>415</td>\n      <td>446</td>\n      <td>480</td>\n      <td>527</td>\n      <td>557</td>\n      <td>596</td>\n      <td>728</td>\n      <td>19950</td>\n      <td>26390</td>\n    </tr>\n    <tr>\n      <th>...</th>\n      <td>...</td>\n      <td>...</td>\n      <td>...</td>\n      <td>...</td>\n      <td>...</td>\n      <td>...</td>\n      <td>...</td>\n      <td>...</td>\n      <td>...</td>\n      <td>...</td>\n      <td>...</td>\n      <td>...</td>\n      <td>...</td>\n      <td>...</td>\n      <td>...</td>\n      <td>...</td>\n      <td>...</td>\n      <td>...</td>\n      <td>...</td>\n    </tr>\n    <tr>\n      <th>4285</th>\n      <td>2018</td>\n      <td>Human health and social work activities (Q)</td>\n      <td>General, machine and specialized workers</td>\n      <td>Total</td>\n      <td>Hours paid</td>\n      <td>191.8</td>\n      <td>170.3</td>\n      <td>174.9</td>\n      <td>176.5</td>\n      <td>181.0</td>\n      <td>184.9</td>\n      <td>189.1</td>\n      <td>193.6</td>\n      <td>198.7</td>\n      <td>202.6</td>\n      <td>206.9</td>\n      <td>217.2</td>\n      <td>320.0</td>\n      <td>310.0</td>\n    </tr>\n    <tr>\n      <th>4286</th>\n      <td>2018</td>\n      <td>Human health and social work activities (Q)</td>\n      <td>General, machine and specialized workers</td>\n      <td>Men</td>\n      <td>Total earnings</td>\n      <td>571</td>\n      <td>366</td>\n      <td>424</td>\n      <td>433</td>\n      <td>455</td>\n      <td>478</td>\n      <td>516</td>\n      <td>570</td>\n      <td>624</td>\n      <td>646</td>\n      <td>678</td>\n      <td>886</td>\n      <td>130</td>\n      <td>130</td>\n    </tr>\n    <tr>\n      <th>4287</th>\n      <td>2018</td>\n      <td>Human health and social work activities (Q)</td>\n      <td>General, machine and specialized workers</td>\n      <td>Men</td>\n      <td>Hours paid</td>\n      <td>199.0</td>\n      <td>173.8</td>\n      <td>182.4</td>\n      <td>184.7</td>\n      <td>188.3</td>\n      <td>192.7</td>\n      <td>196.5</td>\n      <td>204.6</td>\n      <td>210.9</td>\n      <td>214.0</td>\n      <td>215.3</td>\n      <td>226.8</td>\n      <td>130.0</td>\n      <td>130.0</td>\n    </tr>\n    <tr>\n      <th>4288</th>\n      <td>2018</td>\n      <td>Human health and social work activities (Q)</td>\n      <td>General, machine and specialized workers</td>\n      <td>Women</td>\n      <td>Total earnings</td>\n      <td>436</td>\n      <td>344</td>\n      <td>376</td>\n      <td>387</td>\n      <td>392</td>\n      <td>407</td>\n      <td>427</td>\n      <td>449</td>\n      <td>467</td>\n      <td>478</td>\n      <td>487</td>\n      <td>551</td>\n      <td>190</td>\n      <td>180</td>\n    </tr>\n    <tr>\n      <th>4289</th>\n      <td>2018</td>\n      <td>Human health and social work activities (Q)</td>\n      <td>General, machine and specialized workers</td>\n      <td>Women</td>\n      <td>Hours paid</td>\n      <td>186.8</td>\n      <td>170.0</td>\n      <td>173.3</td>\n      <td>174.6</td>\n      <td>175.4</td>\n      <td>181.4</td>\n      <td>184.9</td>\n      <td>188.3</td>\n      <td>193.5</td>\n      <td>195.4</td>\n      <td>197.5</td>\n      <td>206.7</td>\n      <td>190.0</td>\n      <td>180.0</td>\n    </tr>\n  </tbody>\n</table>\n<p>4290 rows × 19 columns</p>\n</div>"
     },
     "metadata": {},
     "execution_count": 62
    }
   ],
   "source": [
    "df = pd.read_csv(config.r_income_data / 'distribution_sector_2014_2018.csv')\n",
    "df"
   ]
  },
  {
   "cell_type": "code",
   "execution_count": 36,
   "metadata": {},
   "outputs": [
    {
     "output_type": "execute_result",
     "data": {
      "text/plain": "array(['Total', 'Manufacturing (C)',\n       'Electricity, gas, steam, and air conditioning supply (D)',\n       'Water supply; sewerage, waste management etc. (E)',\n       'Construction (F)',\n       'Wholesale and retail trade; repair of motor vehicles (G)',\n       'Transportation and storage (H)',\n       'Accommodation and food service activites (I)',\n       'Information and communication (J)',\n       'Financial and insurance activities (K)',\n       'Public administration and defence; compulsory social sec. (O)',\n       'Education (P)', 'Human health and social work activities (Q)'],\n      dtype=object)"
     },
     "metadata": {},
     "execution_count": 36
    }
   ],
   "source": [
    "df['Economic activity'].unique()"
   ]
  },
  {
   "cell_type": "code",
   "execution_count": 63,
   "metadata": {},
   "outputs": [
    {
     "output_type": "execute_result",
     "data": {
      "text/plain": "      Year                                   sector  \\\n0     2014                                    Total   \n1     2014                                    Total   \n2     2014                                    Total   \n3     2014                                    Total   \n4     2014                                    Total   \n...    ...                                      ...   \n4285  2018  Human health and social work activities   \n4286  2018  Human health and social work activities   \n4287  2018  Human health and social work activities   \n4288  2018  Human health and social work activities   \n4289  2018  Human health and social work activities   \n\n                            Occupational group    Sex  \\\n0                                        Total  Total   \n1                                        Total  Total   \n2                                        Total    Men   \n3                                        Total    Men   \n4                                        Total  Women   \n...                                        ...    ...   \n4285  General, machine and specialized workers  Total   \n4286  General, machine and specialized workers    Men   \n4287  General, machine and specialized workers    Men   \n4288  General, machine and specialized workers  Women   \n4289  General, machine and specialized workers  Women   \n\n     Earnings and working hours   Mean    10%    20% 25% (1st quartile)  \\\n0                Total earnings    563    321    375                396   \n1                    Hours paid  184.5  162.5  170.9              173.3   \n2                Total earnings    625    353    410                434   \n3                    Hours paid  188.6  162.5  171.5              173.3   \n4                Total earnings    492    296    346                367   \n...                         ...    ...    ...    ...                ...   \n4285                 Hours paid  191.8  170.3  174.9              176.5   \n4286             Total earnings    571    366    424                433   \n4287                 Hours paid  199.0  173.8  182.4              184.7   \n4288             Total earnings    436    344    376                387   \n4289                 Hours paid  186.8  170.0  173.3              174.6   \n\n        30%    40% 50% (median)    60%    70% 75% (3rd quartile)    80%  \\\n0       415    452          493    540    602                644    694   \n1     173.3  173.8        178.1  183.3  189.1              193.2  197.5   \n2       456    500          544    598    667                714    767   \n3     173.3  175.4        182.7  188.8  195.7              200.4  206.2   \n4       384    415          446    480    527                557    596   \n...     ...    ...          ...    ...    ...                ...    ...   \n4285  181.0  184.9        189.1  193.6  198.7              202.6  206.9   \n4286    455    478          516    570    624                646    678   \n4287  188.3  192.7        196.5  204.6  210.9              214.0  215.3   \n4288    392    407          427    449    467                478    487   \n4289  175.4  181.4        184.9  188.3  193.5              195.4  197.5   \n\n        90% Observations Weighted bservations  \n0       852        39190                56460  \n1     212.7      39190.0              56460.0  \n2       932        19230                30070  \n3     220.4      19230.0              30070.0  \n4       728        19950                26390  \n...     ...          ...                  ...  \n4285  217.2        320.0                310.0  \n4286    886          130                  130  \n4287  226.8        130.0                130.0  \n4288    551          190                  180  \n4289  206.7        190.0                180.0  \n\n[4290 rows x 19 columns]",
      "text/html": "<div>\n<style scoped>\n    .dataframe tbody tr th:only-of-type {\n        vertical-align: middle;\n    }\n\n    .dataframe tbody tr th {\n        vertical-align: top;\n    }\n\n    .dataframe thead th {\n        text-align: right;\n    }\n</style>\n<table border=\"1\" class=\"dataframe\">\n  <thead>\n    <tr style=\"text-align: right;\">\n      <th></th>\n      <th>Year</th>\n      <th>sector</th>\n      <th>Occupational group</th>\n      <th>Sex</th>\n      <th>Earnings and working hours</th>\n      <th>Mean</th>\n      <th>10%</th>\n      <th>20%</th>\n      <th>25% (1st quartile)</th>\n      <th>30%</th>\n      <th>40%</th>\n      <th>50% (median)</th>\n      <th>60%</th>\n      <th>70%</th>\n      <th>75% (3rd quartile)</th>\n      <th>80%</th>\n      <th>90%</th>\n      <th>Observations</th>\n      <th>Weighted bservations</th>\n    </tr>\n  </thead>\n  <tbody>\n    <tr>\n      <th>0</th>\n      <td>2014</td>\n      <td>Total</td>\n      <td>Total</td>\n      <td>Total</td>\n      <td>Total earnings</td>\n      <td>563</td>\n      <td>321</td>\n      <td>375</td>\n      <td>396</td>\n      <td>415</td>\n      <td>452</td>\n      <td>493</td>\n      <td>540</td>\n      <td>602</td>\n      <td>644</td>\n      <td>694</td>\n      <td>852</td>\n      <td>39190</td>\n      <td>56460</td>\n    </tr>\n    <tr>\n      <th>1</th>\n      <td>2014</td>\n      <td>Total</td>\n      <td>Total</td>\n      <td>Total</td>\n      <td>Hours paid</td>\n      <td>184.5</td>\n      <td>162.5</td>\n      <td>170.9</td>\n      <td>173.3</td>\n      <td>173.3</td>\n      <td>173.8</td>\n      <td>178.1</td>\n      <td>183.3</td>\n      <td>189.1</td>\n      <td>193.2</td>\n      <td>197.5</td>\n      <td>212.7</td>\n      <td>39190.0</td>\n      <td>56460.0</td>\n    </tr>\n    <tr>\n      <th>2</th>\n      <td>2014</td>\n      <td>Total</td>\n      <td>Total</td>\n      <td>Men</td>\n      <td>Total earnings</td>\n      <td>625</td>\n      <td>353</td>\n      <td>410</td>\n      <td>434</td>\n      <td>456</td>\n      <td>500</td>\n      <td>544</td>\n      <td>598</td>\n      <td>667</td>\n      <td>714</td>\n      <td>767</td>\n      <td>932</td>\n      <td>19230</td>\n      <td>30070</td>\n    </tr>\n    <tr>\n      <th>3</th>\n      <td>2014</td>\n      <td>Total</td>\n      <td>Total</td>\n      <td>Men</td>\n      <td>Hours paid</td>\n      <td>188.6</td>\n      <td>162.5</td>\n      <td>171.5</td>\n      <td>173.3</td>\n      <td>173.3</td>\n      <td>175.4</td>\n      <td>182.7</td>\n      <td>188.8</td>\n      <td>195.7</td>\n      <td>200.4</td>\n      <td>206.2</td>\n      <td>220.4</td>\n      <td>19230.0</td>\n      <td>30070.0</td>\n    </tr>\n    <tr>\n      <th>4</th>\n      <td>2014</td>\n      <td>Total</td>\n      <td>Total</td>\n      <td>Women</td>\n      <td>Total earnings</td>\n      <td>492</td>\n      <td>296</td>\n      <td>346</td>\n      <td>367</td>\n      <td>384</td>\n      <td>415</td>\n      <td>446</td>\n      <td>480</td>\n      <td>527</td>\n      <td>557</td>\n      <td>596</td>\n      <td>728</td>\n      <td>19950</td>\n      <td>26390</td>\n    </tr>\n    <tr>\n      <th>...</th>\n      <td>...</td>\n      <td>...</td>\n      <td>...</td>\n      <td>...</td>\n      <td>...</td>\n      <td>...</td>\n      <td>...</td>\n      <td>...</td>\n      <td>...</td>\n      <td>...</td>\n      <td>...</td>\n      <td>...</td>\n      <td>...</td>\n      <td>...</td>\n      <td>...</td>\n      <td>...</td>\n      <td>...</td>\n      <td>...</td>\n      <td>...</td>\n    </tr>\n    <tr>\n      <th>4285</th>\n      <td>2018</td>\n      <td>Human health and social work activities</td>\n      <td>General, machine and specialized workers</td>\n      <td>Total</td>\n      <td>Hours paid</td>\n      <td>191.8</td>\n      <td>170.3</td>\n      <td>174.9</td>\n      <td>176.5</td>\n      <td>181.0</td>\n      <td>184.9</td>\n      <td>189.1</td>\n      <td>193.6</td>\n      <td>198.7</td>\n      <td>202.6</td>\n      <td>206.9</td>\n      <td>217.2</td>\n      <td>320.0</td>\n      <td>310.0</td>\n    </tr>\n    <tr>\n      <th>4286</th>\n      <td>2018</td>\n      <td>Human health and social work activities</td>\n      <td>General, machine and specialized workers</td>\n      <td>Men</td>\n      <td>Total earnings</td>\n      <td>571</td>\n      <td>366</td>\n      <td>424</td>\n      <td>433</td>\n      <td>455</td>\n      <td>478</td>\n      <td>516</td>\n      <td>570</td>\n      <td>624</td>\n      <td>646</td>\n      <td>678</td>\n      <td>886</td>\n      <td>130</td>\n      <td>130</td>\n    </tr>\n    <tr>\n      <th>4287</th>\n      <td>2018</td>\n      <td>Human health and social work activities</td>\n      <td>General, machine and specialized workers</td>\n      <td>Men</td>\n      <td>Hours paid</td>\n      <td>199.0</td>\n      <td>173.8</td>\n      <td>182.4</td>\n      <td>184.7</td>\n      <td>188.3</td>\n      <td>192.7</td>\n      <td>196.5</td>\n      <td>204.6</td>\n      <td>210.9</td>\n      <td>214.0</td>\n      <td>215.3</td>\n      <td>226.8</td>\n      <td>130.0</td>\n      <td>130.0</td>\n    </tr>\n    <tr>\n      <th>4288</th>\n      <td>2018</td>\n      <td>Human health and social work activities</td>\n      <td>General, machine and specialized workers</td>\n      <td>Women</td>\n      <td>Total earnings</td>\n      <td>436</td>\n      <td>344</td>\n      <td>376</td>\n      <td>387</td>\n      <td>392</td>\n      <td>407</td>\n      <td>427</td>\n      <td>449</td>\n      <td>467</td>\n      <td>478</td>\n      <td>487</td>\n      <td>551</td>\n      <td>190</td>\n      <td>180</td>\n    </tr>\n    <tr>\n      <th>4289</th>\n      <td>2018</td>\n      <td>Human health and social work activities</td>\n      <td>General, machine and specialized workers</td>\n      <td>Women</td>\n      <td>Hours paid</td>\n      <td>186.8</td>\n      <td>170.0</td>\n      <td>173.3</td>\n      <td>174.6</td>\n      <td>175.4</td>\n      <td>181.4</td>\n      <td>184.9</td>\n      <td>188.3</td>\n      <td>193.5</td>\n      <td>195.4</td>\n      <td>197.5</td>\n      <td>206.7</td>\n      <td>190.0</td>\n      <td>180.0</td>\n    </tr>\n  </tbody>\n</table>\n<p>4290 rows × 19 columns</p>\n</div>"
     },
     "metadata": {},
     "execution_count": 63
    }
   ],
   "source": [
    "# rename to sector\n",
    "df = df.rename(columns={'Economic activity': 'sector'})\n",
    "\n",
    "# remove last letter\n",
    "def remove_last_letter(sector):\n",
    "    split_words = sector.split()\n",
    "    if len(split_words) > 1:\n",
    "        letter_removed = split_words[:-1]\n",
    "        formatted_sector = ' '.join(letter_removed)\n",
    "        return(formatted_sector)\n",
    "    return(sector)\n",
    "\n",
    "df['sector'] = df.sector.apply(remove_last_letter)\n",
    "\n",
    "df"
   ]
  },
  {
   "cell_type": "code",
   "execution_count": 39,
   "metadata": {},
   "outputs": [
    {
     "output_type": "execute_result",
     "data": {
      "text/plain": "array(['Total', 'Managers (1)', 'Professionals (2)',\n       'Technicians and associate professionals (3)', 'Clerks (4)',\n       'Service workers and shop and market sales workers (5)',\n       'Craft and related trades workers (7)',\n       'Plant and machine operators and assemblers (8)',\n       'Elementary occupations (9)', 'Craft workers',\n       'General, machine and specialized workers'], dtype=object)"
     },
     "metadata": {},
     "execution_count": 39
    }
   ],
   "source": [
    "df['Occupational group'].unique()"
   ]
  },
  {
   "cell_type": "code",
   "execution_count": 64,
   "metadata": {},
   "outputs": [
    {
     "output_type": "execute_result",
     "data": {
      "text/plain": "array(['Total', 'Managers', 'Professionals',\n       'Technicians and associate professionals', 'Clerks',\n       'Service workers and shop and market sales workers',\n       'Craft and related trades workers',\n       'Plant and machine operators and assemblers',\n       'Elementary occupations', 'Craft',\n       'General, machine and specialized'], dtype=object)"
     },
     "metadata": {},
     "execution_count": 64
    }
   ],
   "source": [
    "# format occupational group by also removing last number\n",
    "remove_last_number = remove_last_letter\n",
    "\n",
    "df['Occupational group'] = df['Occupational group'].apply(remove_last_number)\n",
    "\n",
    "df['Occupational group'].unique()"
   ]
  },
  {
   "cell_type": "code",
   "execution_count": 42,
   "metadata": {},
   "outputs": [
    {
     "output_type": "execute_result",
     "data": {
      "text/plain": "array(['Total earnings', 'Hours paid'], dtype=object)"
     },
     "metadata": {},
     "execution_count": 42
    }
   ],
   "source": [
    "df['Earnings and working hours'].unique()"
   ]
  },
  {
   "cell_type": "code",
   "execution_count": 65,
   "metadata": {},
   "outputs": [
    {
     "output_type": "execute_result",
     "data": {
      "text/plain": "       Year    Sex                                   sector  \\\n0      2014  Total                                    Total   \n1      2014  Total                                    Total   \n2      2014    Men                                    Total   \n3      2014    Men                                    Total   \n4      2014  Women                                    Total   \n...     ...    ...                                      ...   \n60055  2018  Total  Human health and social work activities   \n60056  2018    Men  Human health and social work activities   \n60057  2018    Men  Human health and social work activities   \n60058  2018  Women  Human health and social work activities   \n60059  2018  Women  Human health and social work activities   \n\n                     Occupational group Earnings and working hours  \\\n0                                 Total             Total earnings   \n1                                 Total                 Hours paid   \n2                                 Total             Total earnings   \n3                                 Total                 Hours paid   \n4                                 Total             Total earnings   \n...                                 ...                        ...   \n60055  General, machine and specialized                 Hours paid   \n60056  General, machine and specialized             Total earnings   \n60057  General, machine and specialized                 Hours paid   \n60058  General, machine and specialized             Total earnings   \n60059  General, machine and specialized                 Hours paid   \n\n                       Unit  Value  \n0                      Mean    563  \n1                      Mean  184.5  \n2                      Mean    625  \n3                      Mean  188.6  \n4                      Mean    492  \n...                     ...    ...  \n60055  Weighted bservations  310.0  \n60056  Weighted bservations    130  \n60057  Weighted bservations  130.0  \n60058  Weighted bservations    180  \n60059  Weighted bservations  180.0  \n\n[60060 rows x 7 columns]",
      "text/html": "<div>\n<style scoped>\n    .dataframe tbody tr th:only-of-type {\n        vertical-align: middle;\n    }\n\n    .dataframe tbody tr th {\n        vertical-align: top;\n    }\n\n    .dataframe thead th {\n        text-align: right;\n    }\n</style>\n<table border=\"1\" class=\"dataframe\">\n  <thead>\n    <tr style=\"text-align: right;\">\n      <th></th>\n      <th>Year</th>\n      <th>Sex</th>\n      <th>sector</th>\n      <th>Occupational group</th>\n      <th>Earnings and working hours</th>\n      <th>Unit</th>\n      <th>Value</th>\n    </tr>\n  </thead>\n  <tbody>\n    <tr>\n      <th>0</th>\n      <td>2014</td>\n      <td>Total</td>\n      <td>Total</td>\n      <td>Total</td>\n      <td>Total earnings</td>\n      <td>Mean</td>\n      <td>563</td>\n    </tr>\n    <tr>\n      <th>1</th>\n      <td>2014</td>\n      <td>Total</td>\n      <td>Total</td>\n      <td>Total</td>\n      <td>Hours paid</td>\n      <td>Mean</td>\n      <td>184.5</td>\n    </tr>\n    <tr>\n      <th>2</th>\n      <td>2014</td>\n      <td>Men</td>\n      <td>Total</td>\n      <td>Total</td>\n      <td>Total earnings</td>\n      <td>Mean</td>\n      <td>625</td>\n    </tr>\n    <tr>\n      <th>3</th>\n      <td>2014</td>\n      <td>Men</td>\n      <td>Total</td>\n      <td>Total</td>\n      <td>Hours paid</td>\n      <td>Mean</td>\n      <td>188.6</td>\n    </tr>\n    <tr>\n      <th>4</th>\n      <td>2014</td>\n      <td>Women</td>\n      <td>Total</td>\n      <td>Total</td>\n      <td>Total earnings</td>\n      <td>Mean</td>\n      <td>492</td>\n    </tr>\n    <tr>\n      <th>...</th>\n      <td>...</td>\n      <td>...</td>\n      <td>...</td>\n      <td>...</td>\n      <td>...</td>\n      <td>...</td>\n      <td>...</td>\n    </tr>\n    <tr>\n      <th>60055</th>\n      <td>2018</td>\n      <td>Total</td>\n      <td>Human health and social work activities</td>\n      <td>General, machine and specialized</td>\n      <td>Hours paid</td>\n      <td>Weighted bservations</td>\n      <td>310.0</td>\n    </tr>\n    <tr>\n      <th>60056</th>\n      <td>2018</td>\n      <td>Men</td>\n      <td>Human health and social work activities</td>\n      <td>General, machine and specialized</td>\n      <td>Total earnings</td>\n      <td>Weighted bservations</td>\n      <td>130</td>\n    </tr>\n    <tr>\n      <th>60057</th>\n      <td>2018</td>\n      <td>Men</td>\n      <td>Human health and social work activities</td>\n      <td>General, machine and specialized</td>\n      <td>Hours paid</td>\n      <td>Weighted bservations</td>\n      <td>130.0</td>\n    </tr>\n    <tr>\n      <th>60058</th>\n      <td>2018</td>\n      <td>Women</td>\n      <td>Human health and social work activities</td>\n      <td>General, machine and specialized</td>\n      <td>Total earnings</td>\n      <td>Weighted bservations</td>\n      <td>180</td>\n    </tr>\n    <tr>\n      <th>60059</th>\n      <td>2018</td>\n      <td>Women</td>\n      <td>Human health and social work activities</td>\n      <td>General, machine and specialized</td>\n      <td>Hours paid</td>\n      <td>Weighted bservations</td>\n      <td>180.0</td>\n    </tr>\n  </tbody>\n</table>\n<p>60060 rows × 7 columns</p>\n</div>"
     },
     "metadata": {},
     "execution_count": 65
    }
   ],
   "source": [
    "df = pd.melt(\n",
    "    df, \n",
    "    id_vars=['Year', 'Sex', 'sector', 'Occupational group', 'Earnings and working hours'], \n",
    "    var_name='Unit', \n",
    "    value_name='Value')\n",
    "df"
   ]
  },
  {
   "cell_type": "code",
   "execution_count": 46,
   "metadata": {},
   "outputs": [
    {
     "output_type": "execute_result",
     "data": {
      "text/plain": "array(['Mean', '10%', '20%', '25% (1st quartile)', '30%', '40%',\n       '50% (median)', '60%', '70%', '75% (3rd quartile)', '80%', '90%',\n       'Observations', 'Weighted bservations'], dtype=object)"
     },
     "metadata": {},
     "execution_count": 46
    }
   ],
   "source": [
    "df.Unit.unique()"
   ]
  },
  {
   "cell_type": "code",
   "execution_count": 66,
   "metadata": {},
   "outputs": [
    {
     "output_type": "execute_result",
     "data": {
      "text/plain": "array(['Mean', '10%', '20%', '25% (1st quartile)', '30%', '40%',\n       '50% (median)', '60%', '70%', '75% (3rd quartile)', '80%', '90%',\n       'Observations', 'Weighted observations'], dtype=object)"
     },
     "metadata": {},
     "execution_count": 66
    }
   ],
   "source": [
    "# rename weighted observations to fix typo\n",
    "df['Unit'] = df.Unit.apply(lambda x: 'Weighted observations' if x == 'Weighted bservations' else x)\n",
    "df.Unit.unique()"
   ]
  },
  {
   "cell_type": "code",
   "execution_count": 50,
   "metadata": {},
   "outputs": [
    {
     "output_type": "execute_result",
     "data": {
      "text/plain": "Index(['Year', 'Sex', 'sector', 'Occupational group',\n       'Earnings and working hours', 'Unit', 'Value'],\n      dtype='object')"
     },
     "metadata": {},
     "execution_count": 50
    }
   ],
   "source": [
    "df.columns"
   ]
  },
  {
   "cell_type": "code",
   "execution_count": 52,
   "metadata": {},
   "outputs": [
    {
     "output_type": "execute_result",
     "data": {
      "text/plain": "       Year    Sex                                   sector  \\\n0      2014  Total                                    Total   \n1      2014  Total                                    Total   \n2      2014    Men                                    Total   \n3      2014    Men                                    Total   \n4      2014  Women                                    Total   \n...     ...    ...                                      ...   \n60055  2018  Total  Human health and social work activities   \n60056  2018    Men  Human health and social work activities   \n60057  2018    Men  Human health and social work activities   \n60058  2018  Women  Human health and social work activities   \n60059  2018  Women  Human health and social work activities   \n\n                     Occupational group Earnings and working hours  \\\n0                                 Total             Total earnings   \n1                                 Total                 Hours paid   \n2                                 Total             Total earnings   \n3                                 Total                 Hours paid   \n4                                 Total             Total earnings   \n...                                 ...                        ...   \n60055  General, machine and specialized                 Hours paid   \n60056  General, machine and specialized             Total earnings   \n60057  General, machine and specialized                 Hours paid   \n60058  General, machine and specialized             Total earnings   \n60059  General, machine and specialized                 Hours paid   \n\n                        Unit  Value  \n0                       Mean    563  \n1                       Mean  184.5  \n2                       Mean    625  \n3                       Mean  188.6  \n4                       Mean    492  \n...                      ...    ...  \n60055  Weighted observations  310.0  \n60056  Weighted observations    130  \n60057  Weighted observations  130.0  \n60058  Weighted observations    180  \n60059  Weighted observations  180.0  \n\n[60060 rows x 7 columns]",
      "text/html": "<div>\n<style scoped>\n    .dataframe tbody tr th:only-of-type {\n        vertical-align: middle;\n    }\n\n    .dataframe tbody tr th {\n        vertical-align: top;\n    }\n\n    .dataframe thead th {\n        text-align: right;\n    }\n</style>\n<table border=\"1\" class=\"dataframe\">\n  <thead>\n    <tr style=\"text-align: right;\">\n      <th></th>\n      <th>Year</th>\n      <th>Sex</th>\n      <th>sector</th>\n      <th>Occupational group</th>\n      <th>Earnings and working hours</th>\n      <th>Unit</th>\n      <th>Value</th>\n    </tr>\n  </thead>\n  <tbody>\n    <tr>\n      <th>0</th>\n      <td>2014</td>\n      <td>Total</td>\n      <td>Total</td>\n      <td>Total</td>\n      <td>Total earnings</td>\n      <td>Mean</td>\n      <td>563</td>\n    </tr>\n    <tr>\n      <th>1</th>\n      <td>2014</td>\n      <td>Total</td>\n      <td>Total</td>\n      <td>Total</td>\n      <td>Hours paid</td>\n      <td>Mean</td>\n      <td>184.5</td>\n    </tr>\n    <tr>\n      <th>2</th>\n      <td>2014</td>\n      <td>Men</td>\n      <td>Total</td>\n      <td>Total</td>\n      <td>Total earnings</td>\n      <td>Mean</td>\n      <td>625</td>\n    </tr>\n    <tr>\n      <th>3</th>\n      <td>2014</td>\n      <td>Men</td>\n      <td>Total</td>\n      <td>Total</td>\n      <td>Hours paid</td>\n      <td>Mean</td>\n      <td>188.6</td>\n    </tr>\n    <tr>\n      <th>4</th>\n      <td>2014</td>\n      <td>Women</td>\n      <td>Total</td>\n      <td>Total</td>\n      <td>Total earnings</td>\n      <td>Mean</td>\n      <td>492</td>\n    </tr>\n    <tr>\n      <th>...</th>\n      <td>...</td>\n      <td>...</td>\n      <td>...</td>\n      <td>...</td>\n      <td>...</td>\n      <td>...</td>\n      <td>...</td>\n    </tr>\n    <tr>\n      <th>60055</th>\n      <td>2018</td>\n      <td>Total</td>\n      <td>Human health and social work activities</td>\n      <td>General, machine and specialized</td>\n      <td>Hours paid</td>\n      <td>Weighted observations</td>\n      <td>310.0</td>\n    </tr>\n    <tr>\n      <th>60056</th>\n      <td>2018</td>\n      <td>Men</td>\n      <td>Human health and social work activities</td>\n      <td>General, machine and specialized</td>\n      <td>Total earnings</td>\n      <td>Weighted observations</td>\n      <td>130</td>\n    </tr>\n    <tr>\n      <th>60057</th>\n      <td>2018</td>\n      <td>Men</td>\n      <td>Human health and social work activities</td>\n      <td>General, machine and specialized</td>\n      <td>Hours paid</td>\n      <td>Weighted observations</td>\n      <td>130.0</td>\n    </tr>\n    <tr>\n      <th>60058</th>\n      <td>2018</td>\n      <td>Women</td>\n      <td>Human health and social work activities</td>\n      <td>General, machine and specialized</td>\n      <td>Total earnings</td>\n      <td>Weighted observations</td>\n      <td>180</td>\n    </tr>\n    <tr>\n      <th>60059</th>\n      <td>2018</td>\n      <td>Women</td>\n      <td>Human health and social work activities</td>\n      <td>General, machine and specialized</td>\n      <td>Hours paid</td>\n      <td>Weighted observations</td>\n      <td>180.0</td>\n    </tr>\n  </tbody>\n</table>\n<p>60060 rows × 7 columns</p>\n</div>"
     },
     "metadata": {},
     "execution_count": 52
    }
   ],
   "source": [
    "df"
   ]
  },
  {
   "cell_type": "code",
   "execution_count": 53,
   "metadata": {},
   "outputs": [
    {
     "output_type": "execute_result",
     "data": {
      "text/plain": "0        5635635635635635635635635635635635635635635635...\n1                                                    184.5\n2        6256256256256256256256256256256256256256256256...\n3                                                    188.6\n4        4924924924924924924924924924924924924924924924...\n                               ...                        \n60055                                                310.0\n60056                                                  130\n60057                                                130.0\n60058                                                  180\n60059                                                180.0\nLength: 60060, dtype: object"
     },
     "metadata": {},
     "execution_count": 53
    }
   ],
   "source": [
    "# multiply by 1000 if earnings = 'Total earnings' and unit != 'Weighted observations'\n",
    "def format_income(cat, unit, value):\n",
    "    if cat == 'Total earnings' and unit not in ['Observations', 'Weighted observations']:\n",
    "        formatted_income = value * 1000\n",
    "        return(formatted_income)\n",
    "    return(value)\n",
    "\n",
    "df.apply(\n",
    "    lambda x: format_income(\n",
    "        x['Earnings and working hours'], \n",
    "        x['Unit'],\n",
    "        x['Value']\n",
    "    ),\n",
    "    axis=1 \n",
    ")"
   ]
  },
  {
   "cell_type": "code",
   "execution_count": 54,
   "metadata": {},
   "outputs": [
    {
     "output_type": "error",
     "ename": "ValueError",
     "evalue": "could not convert string to float: '.'",
     "traceback": [
      "\u001b[1;31m---------------------------------------------------------------------------\u001b[0m",
      "\u001b[1;31mValueError\u001b[0m                                Traceback (most recent call last)",
      "\u001b[1;32m<ipython-input-54-033e9e59e19c>\u001b[0m in \u001b[0;36m<module>\u001b[1;34m\u001b[0m\n\u001b[0;32m      1\u001b[0m \u001b[1;31m# format value as float, then try again\u001b[0m\u001b[1;33m\u001b[0m\u001b[1;33m\u001b[0m\u001b[1;33m\u001b[0m\u001b[0m\n\u001b[1;32m----> 2\u001b[1;33m \u001b[0mdf\u001b[0m\u001b[1;33m[\u001b[0m\u001b[1;34m'Value'\u001b[0m\u001b[1;33m]\u001b[0m\u001b[1;33m.\u001b[0m\u001b[0mastype\u001b[0m\u001b[1;33m(\u001b[0m\u001b[0mfloat\u001b[0m\u001b[1;33m)\u001b[0m\u001b[1;33m\u001b[0m\u001b[1;33m\u001b[0m\u001b[0m\n\u001b[0m",
      "\u001b[1;32m~\\miniconda3\\envs\\icestaviz\\lib\\site-packages\\pandas\\core\\generic.py\u001b[0m in \u001b[0;36mastype\u001b[1;34m(self, dtype, copy, errors)\u001b[0m\n\u001b[0;32m   5535\u001b[0m         \u001b[1;32melse\u001b[0m\u001b[1;33m:\u001b[0m\u001b[1;33m\u001b[0m\u001b[1;33m\u001b[0m\u001b[0m\n\u001b[0;32m   5536\u001b[0m             \u001b[1;31m# else, only a single dtype is given\u001b[0m\u001b[1;33m\u001b[0m\u001b[1;33m\u001b[0m\u001b[1;33m\u001b[0m\u001b[0m\n\u001b[1;32m-> 5537\u001b[1;33m             \u001b[0mnew_data\u001b[0m \u001b[1;33m=\u001b[0m \u001b[0mself\u001b[0m\u001b[1;33m.\u001b[0m\u001b[0m_mgr\u001b[0m\u001b[1;33m.\u001b[0m\u001b[0mastype\u001b[0m\u001b[1;33m(\u001b[0m\u001b[0mdtype\u001b[0m\u001b[1;33m=\u001b[0m\u001b[0mdtype\u001b[0m\u001b[1;33m,\u001b[0m \u001b[0mcopy\u001b[0m\u001b[1;33m=\u001b[0m\u001b[0mcopy\u001b[0m\u001b[1;33m,\u001b[0m \u001b[0merrors\u001b[0m\u001b[1;33m=\u001b[0m\u001b[0merrors\u001b[0m\u001b[1;33m,\u001b[0m\u001b[1;33m)\u001b[0m\u001b[1;33m\u001b[0m\u001b[1;33m\u001b[0m\u001b[0m\n\u001b[0m\u001b[0;32m   5538\u001b[0m             \u001b[1;32mreturn\u001b[0m \u001b[0mself\u001b[0m\u001b[1;33m.\u001b[0m\u001b[0m_constructor\u001b[0m\u001b[1;33m(\u001b[0m\u001b[0mnew_data\u001b[0m\u001b[1;33m)\u001b[0m\u001b[1;33m.\u001b[0m\u001b[0m__finalize__\u001b[0m\u001b[1;33m(\u001b[0m\u001b[0mself\u001b[0m\u001b[1;33m,\u001b[0m \u001b[0mmethod\u001b[0m\u001b[1;33m=\u001b[0m\u001b[1;34m\"astype\"\u001b[0m\u001b[1;33m)\u001b[0m\u001b[1;33m\u001b[0m\u001b[1;33m\u001b[0m\u001b[0m\n\u001b[0;32m   5539\u001b[0m \u001b[1;33m\u001b[0m\u001b[0m\n",
      "\u001b[1;32m~\\miniconda3\\envs\\icestaviz\\lib\\site-packages\\pandas\\core\\internals\\managers.py\u001b[0m in \u001b[0;36mastype\u001b[1;34m(self, dtype, copy, errors)\u001b[0m\n\u001b[0;32m    593\u001b[0m         \u001b[0mself\u001b[0m\u001b[1;33m,\u001b[0m \u001b[0mdtype\u001b[0m\u001b[1;33m,\u001b[0m \u001b[0mcopy\u001b[0m\u001b[1;33m:\u001b[0m \u001b[0mbool\u001b[0m \u001b[1;33m=\u001b[0m \u001b[1;32mFalse\u001b[0m\u001b[1;33m,\u001b[0m \u001b[0merrors\u001b[0m\u001b[1;33m:\u001b[0m \u001b[0mstr\u001b[0m \u001b[1;33m=\u001b[0m \u001b[1;34m\"raise\"\u001b[0m\u001b[1;33m\u001b[0m\u001b[1;33m\u001b[0m\u001b[0m\n\u001b[0;32m    594\u001b[0m     ) -> \"BlockManager\":\n\u001b[1;32m--> 595\u001b[1;33m         \u001b[1;32mreturn\u001b[0m \u001b[0mself\u001b[0m\u001b[1;33m.\u001b[0m\u001b[0mapply\u001b[0m\u001b[1;33m(\u001b[0m\u001b[1;34m\"astype\"\u001b[0m\u001b[1;33m,\u001b[0m \u001b[0mdtype\u001b[0m\u001b[1;33m=\u001b[0m\u001b[0mdtype\u001b[0m\u001b[1;33m,\u001b[0m \u001b[0mcopy\u001b[0m\u001b[1;33m=\u001b[0m\u001b[0mcopy\u001b[0m\u001b[1;33m,\u001b[0m \u001b[0merrors\u001b[0m\u001b[1;33m=\u001b[0m\u001b[0merrors\u001b[0m\u001b[1;33m)\u001b[0m\u001b[1;33m\u001b[0m\u001b[1;33m\u001b[0m\u001b[0m\n\u001b[0m\u001b[0;32m    596\u001b[0m \u001b[1;33m\u001b[0m\u001b[0m\n\u001b[0;32m    597\u001b[0m     def convert(\n",
      "\u001b[1;32m~\\miniconda3\\envs\\icestaviz\\lib\\site-packages\\pandas\\core\\internals\\managers.py\u001b[0m in \u001b[0;36mapply\u001b[1;34m(self, f, align_keys, **kwargs)\u001b[0m\n\u001b[0;32m    404\u001b[0m                 \u001b[0mapplied\u001b[0m \u001b[1;33m=\u001b[0m \u001b[0mb\u001b[0m\u001b[1;33m.\u001b[0m\u001b[0mapply\u001b[0m\u001b[1;33m(\u001b[0m\u001b[0mf\u001b[0m\u001b[1;33m,\u001b[0m \u001b[1;33m**\u001b[0m\u001b[0mkwargs\u001b[0m\u001b[1;33m)\u001b[0m\u001b[1;33m\u001b[0m\u001b[1;33m\u001b[0m\u001b[0m\n\u001b[0;32m    405\u001b[0m             \u001b[1;32melse\u001b[0m\u001b[1;33m:\u001b[0m\u001b[1;33m\u001b[0m\u001b[1;33m\u001b[0m\u001b[0m\n\u001b[1;32m--> 406\u001b[1;33m                 \u001b[0mapplied\u001b[0m \u001b[1;33m=\u001b[0m \u001b[0mgetattr\u001b[0m\u001b[1;33m(\u001b[0m\u001b[0mb\u001b[0m\u001b[1;33m,\u001b[0m \u001b[0mf\u001b[0m\u001b[1;33m)\u001b[0m\u001b[1;33m(\u001b[0m\u001b[1;33m**\u001b[0m\u001b[0mkwargs\u001b[0m\u001b[1;33m)\u001b[0m\u001b[1;33m\u001b[0m\u001b[1;33m\u001b[0m\u001b[0m\n\u001b[0m\u001b[0;32m    407\u001b[0m             \u001b[0mresult_blocks\u001b[0m \u001b[1;33m=\u001b[0m \u001b[0m_extend_blocks\u001b[0m\u001b[1;33m(\u001b[0m\u001b[0mapplied\u001b[0m\u001b[1;33m,\u001b[0m \u001b[0mresult_blocks\u001b[0m\u001b[1;33m)\u001b[0m\u001b[1;33m\u001b[0m\u001b[1;33m\u001b[0m\u001b[0m\n\u001b[0;32m    408\u001b[0m \u001b[1;33m\u001b[0m\u001b[0m\n",
      "\u001b[1;32m~\\miniconda3\\envs\\icestaviz\\lib\\site-packages\\pandas\\core\\internals\\blocks.py\u001b[0m in \u001b[0;36mastype\u001b[1;34m(self, dtype, copy, errors)\u001b[0m\n\u001b[0;32m    587\u001b[0m             \u001b[0mvals1d\u001b[0m \u001b[1;33m=\u001b[0m \u001b[0mvalues\u001b[0m\u001b[1;33m.\u001b[0m\u001b[0mravel\u001b[0m\u001b[1;33m(\u001b[0m\u001b[1;33m)\u001b[0m\u001b[1;33m\u001b[0m\u001b[1;33m\u001b[0m\u001b[0m\n\u001b[0;32m    588\u001b[0m             \u001b[1;32mtry\u001b[0m\u001b[1;33m:\u001b[0m\u001b[1;33m\u001b[0m\u001b[1;33m\u001b[0m\u001b[0m\n\u001b[1;32m--> 589\u001b[1;33m                 \u001b[0mvalues\u001b[0m \u001b[1;33m=\u001b[0m \u001b[0mastype_nansafe\u001b[0m\u001b[1;33m(\u001b[0m\u001b[0mvals1d\u001b[0m\u001b[1;33m,\u001b[0m \u001b[0mdtype\u001b[0m\u001b[1;33m,\u001b[0m \u001b[0mcopy\u001b[0m\u001b[1;33m=\u001b[0m\u001b[1;32mTrue\u001b[0m\u001b[1;33m)\u001b[0m\u001b[1;33m\u001b[0m\u001b[1;33m\u001b[0m\u001b[0m\n\u001b[0m\u001b[0;32m    590\u001b[0m             \u001b[1;32mexcept\u001b[0m \u001b[1;33m(\u001b[0m\u001b[0mValueError\u001b[0m\u001b[1;33m,\u001b[0m \u001b[0mTypeError\u001b[0m\u001b[1;33m)\u001b[0m\u001b[1;33m:\u001b[0m\u001b[1;33m\u001b[0m\u001b[1;33m\u001b[0m\u001b[0m\n\u001b[0;32m    591\u001b[0m                 \u001b[1;31m# e.g. astype_nansafe can fail on object-dtype of strings\u001b[0m\u001b[1;33m\u001b[0m\u001b[1;33m\u001b[0m\u001b[1;33m\u001b[0m\u001b[0m\n",
      "\u001b[1;32m~\\miniconda3\\envs\\icestaviz\\lib\\site-packages\\pandas\\core\\dtypes\\cast.py\u001b[0m in \u001b[0;36mastype_nansafe\u001b[1;34m(arr, dtype, copy, skipna)\u001b[0m\n\u001b[0;32m    987\u001b[0m     \u001b[1;32mif\u001b[0m \u001b[0mcopy\u001b[0m \u001b[1;32mor\u001b[0m \u001b[0mis_object_dtype\u001b[0m\u001b[1;33m(\u001b[0m\u001b[0marr\u001b[0m\u001b[1;33m)\u001b[0m \u001b[1;32mor\u001b[0m \u001b[0mis_object_dtype\u001b[0m\u001b[1;33m(\u001b[0m\u001b[0mdtype\u001b[0m\u001b[1;33m)\u001b[0m\u001b[1;33m:\u001b[0m\u001b[1;33m\u001b[0m\u001b[1;33m\u001b[0m\u001b[0m\n\u001b[0;32m    988\u001b[0m         \u001b[1;31m# Explicit copy, or required since NumPy can't view from / to object.\u001b[0m\u001b[1;33m\u001b[0m\u001b[1;33m\u001b[0m\u001b[1;33m\u001b[0m\u001b[0m\n\u001b[1;32m--> 989\u001b[1;33m         \u001b[1;32mreturn\u001b[0m \u001b[0marr\u001b[0m\u001b[1;33m.\u001b[0m\u001b[0mastype\u001b[0m\u001b[1;33m(\u001b[0m\u001b[0mdtype\u001b[0m\u001b[1;33m,\u001b[0m \u001b[0mcopy\u001b[0m\u001b[1;33m=\u001b[0m\u001b[1;32mTrue\u001b[0m\u001b[1;33m)\u001b[0m\u001b[1;33m\u001b[0m\u001b[1;33m\u001b[0m\u001b[0m\n\u001b[0m\u001b[0;32m    990\u001b[0m \u001b[1;33m\u001b[0m\u001b[0m\n\u001b[0;32m    991\u001b[0m     \u001b[1;32mreturn\u001b[0m \u001b[0marr\u001b[0m\u001b[1;33m.\u001b[0m\u001b[0mview\u001b[0m\u001b[1;33m(\u001b[0m\u001b[0mdtype\u001b[0m\u001b[1;33m)\u001b[0m\u001b[1;33m\u001b[0m\u001b[1;33m\u001b[0m\u001b[0m\n",
      "\u001b[1;31mValueError\u001b[0m: could not convert string to float: '.'"
     ]
    }
   ],
   "source": [
    "# format value as float, then try again\n",
    "df['Value'].astype(float)"
   ]
  },
  {
   "cell_type": "code",
   "execution_count": 55,
   "metadata": {},
   "outputs": [
    {
     "output_type": "execute_result",
     "data": {
      "text/plain": "       Year    Sex                                   sector  \\\n56     2014    Men                                    Total   \n57     2014    Men                                    Total   \n58     2014  Women                                    Total   \n59     2014  Women                                    Total   \n92     2014    Men                            Manufacturing   \n...     ...    ...                                      ...   \n60049  2018  Total  Human health and social work activities   \n60050  2018    Men  Human health and social work activities   \n60051  2018    Men  Human health and social work activities   \n60052  2018  Women  Human health and social work activities   \n60053  2018  Women  Human health and social work activities   \n\n      Occupational group Earnings and working hours                   Unit  \\\n56                 Craft             Total earnings                   Mean   \n57                 Craft                 Hours paid                   Mean   \n58                 Craft             Total earnings                   Mean   \n59                 Craft                 Hours paid                   Mean   \n92                Clerks             Total earnings                   Mean   \n...                  ...                        ...                    ...   \n60049              Craft                 Hours paid  Weighted observations   \n60050              Craft             Total earnings  Weighted observations   \n60051              Craft                 Hours paid  Weighted observations   \n60052              Craft             Total earnings  Weighted observations   \n60053              Craft                 Hours paid  Weighted observations   \n\n      Value  \n56        .  \n57        .  \n58        .  \n59        .  \n92        .  \n...     ...  \n60049     .  \n60050     .  \n60051     .  \n60052     .  \n60053     .  \n\n[28252 rows x 7 columns]",
      "text/html": "<div>\n<style scoped>\n    .dataframe tbody tr th:only-of-type {\n        vertical-align: middle;\n    }\n\n    .dataframe tbody tr th {\n        vertical-align: top;\n    }\n\n    .dataframe thead th {\n        text-align: right;\n    }\n</style>\n<table border=\"1\" class=\"dataframe\">\n  <thead>\n    <tr style=\"text-align: right;\">\n      <th></th>\n      <th>Year</th>\n      <th>Sex</th>\n      <th>sector</th>\n      <th>Occupational group</th>\n      <th>Earnings and working hours</th>\n      <th>Unit</th>\n      <th>Value</th>\n    </tr>\n  </thead>\n  <tbody>\n    <tr>\n      <th>56</th>\n      <td>2014</td>\n      <td>Men</td>\n      <td>Total</td>\n      <td>Craft</td>\n      <td>Total earnings</td>\n      <td>Mean</td>\n      <td>.</td>\n    </tr>\n    <tr>\n      <th>57</th>\n      <td>2014</td>\n      <td>Men</td>\n      <td>Total</td>\n      <td>Craft</td>\n      <td>Hours paid</td>\n      <td>Mean</td>\n      <td>.</td>\n    </tr>\n    <tr>\n      <th>58</th>\n      <td>2014</td>\n      <td>Women</td>\n      <td>Total</td>\n      <td>Craft</td>\n      <td>Total earnings</td>\n      <td>Mean</td>\n      <td>.</td>\n    </tr>\n    <tr>\n      <th>59</th>\n      <td>2014</td>\n      <td>Women</td>\n      <td>Total</td>\n      <td>Craft</td>\n      <td>Hours paid</td>\n      <td>Mean</td>\n      <td>.</td>\n    </tr>\n    <tr>\n      <th>92</th>\n      <td>2014</td>\n      <td>Men</td>\n      <td>Manufacturing</td>\n      <td>Clerks</td>\n      <td>Total earnings</td>\n      <td>Mean</td>\n      <td>.</td>\n    </tr>\n    <tr>\n      <th>...</th>\n      <td>...</td>\n      <td>...</td>\n      <td>...</td>\n      <td>...</td>\n      <td>...</td>\n      <td>...</td>\n      <td>...</td>\n    </tr>\n    <tr>\n      <th>60049</th>\n      <td>2018</td>\n      <td>Total</td>\n      <td>Human health and social work activities</td>\n      <td>Craft</td>\n      <td>Hours paid</td>\n      <td>Weighted observations</td>\n      <td>.</td>\n    </tr>\n    <tr>\n      <th>60050</th>\n      <td>2018</td>\n      <td>Men</td>\n      <td>Human health and social work activities</td>\n      <td>Craft</td>\n      <td>Total earnings</td>\n      <td>Weighted observations</td>\n      <td>.</td>\n    </tr>\n    <tr>\n      <th>60051</th>\n      <td>2018</td>\n      <td>Men</td>\n      <td>Human health and social work activities</td>\n      <td>Craft</td>\n      <td>Hours paid</td>\n      <td>Weighted observations</td>\n      <td>.</td>\n    </tr>\n    <tr>\n      <th>60052</th>\n      <td>2018</td>\n      <td>Women</td>\n      <td>Human health and social work activities</td>\n      <td>Craft</td>\n      <td>Total earnings</td>\n      <td>Weighted observations</td>\n      <td>.</td>\n    </tr>\n    <tr>\n      <th>60053</th>\n      <td>2018</td>\n      <td>Women</td>\n      <td>Human health and social work activities</td>\n      <td>Craft</td>\n      <td>Hours paid</td>\n      <td>Weighted observations</td>\n      <td>.</td>\n    </tr>\n  </tbody>\n</table>\n<p>28252 rows × 7 columns</p>\n</div>"
     },
     "metadata": {},
     "execution_count": 55
    }
   ],
   "source": [
    "df[df['Value'] == '.']"
   ]
  },
  {
   "cell_type": "code",
   "execution_count": 67,
   "metadata": {
    "tags": []
   },
   "outputs": [
    {
     "output_type": "stream",
     "name": "stdout",
     "text": "<class 'pandas.core.frame.DataFrame'>\nRangeIndex: 60060 entries, 0 to 60059\nData columns (total 7 columns):\n #   Column                      Non-Null Count  Dtype \n---  ------                      --------------  ----- \n 0   Year                        60060 non-null  int64 \n 1   Sex                         60060 non-null  object\n 2   sector                      60060 non-null  object\n 3   Occupational group          60060 non-null  object\n 4   Earnings and working hours  60060 non-null  object\n 5   Unit                        60060 non-null  object\n 6   Value                       31808 non-null  object\ndtypes: int64(1), object(6)\nmemory usage: 3.2+ MB\n"
    }
   ],
   "source": [
    "df['Value'] = df['Value'].apply(lambda x: float('NaN') if x == '.' else x)\n",
    "df.info()"
   ]
  },
  {
   "cell_type": "code",
   "execution_count": 68,
   "metadata": {},
   "outputs": [
    {
     "output_type": "execute_result",
     "data": {
      "text/plain": "0        563.0\n1        184.5\n2        625.0\n3        188.6\n4        492.0\n         ...  \n60055    310.0\n60056    130.0\n60057    130.0\n60058    180.0\n60059    180.0\nName: Value, Length: 60060, dtype: float64"
     },
     "metadata": {},
     "execution_count": 68
    }
   ],
   "source": [
    "df['Value'] = df['Value'].astype(float)\n",
    "df['Value']"
   ]
  },
  {
   "cell_type": "code",
   "execution_count": 69,
   "metadata": {},
   "outputs": [
    {
     "output_type": "execute_result",
     "data": {
      "text/plain": "       Year    Sex                                   sector  \\\n0      2014  Total                                    Total   \n1      2014  Total                                    Total   \n2      2014    Men                                    Total   \n3      2014    Men                                    Total   \n4      2014  Women                                    Total   \n...     ...    ...                                      ...   \n60055  2018  Total  Human health and social work activities   \n60056  2018    Men  Human health and social work activities   \n60057  2018    Men  Human health and social work activities   \n60058  2018  Women  Human health and social work activities   \n60059  2018  Women  Human health and social work activities   \n\n                     Occupational group Earnings and working hours  \\\n0                                 Total             Total earnings   \n1                                 Total                 Hours paid   \n2                                 Total             Total earnings   \n3                                 Total                 Hours paid   \n4                                 Total             Total earnings   \n...                                 ...                        ...   \n60055  General, machine and specialized                 Hours paid   \n60056  General, machine and specialized             Total earnings   \n60057  General, machine and specialized                 Hours paid   \n60058  General, machine and specialized             Total earnings   \n60059  General, machine and specialized                 Hours paid   \n\n                        Unit     Value  \n0                       Mean  563000.0  \n1                       Mean     184.5  \n2                       Mean  625000.0  \n3                       Mean     188.6  \n4                       Mean  492000.0  \n...                      ...       ...  \n60055  Weighted observations     310.0  \n60056  Weighted observations     130.0  \n60057  Weighted observations     130.0  \n60058  Weighted observations     180.0  \n60059  Weighted observations     180.0  \n\n[60060 rows x 7 columns]",
      "text/html": "<div>\n<style scoped>\n    .dataframe tbody tr th:only-of-type {\n        vertical-align: middle;\n    }\n\n    .dataframe tbody tr th {\n        vertical-align: top;\n    }\n\n    .dataframe thead th {\n        text-align: right;\n    }\n</style>\n<table border=\"1\" class=\"dataframe\">\n  <thead>\n    <tr style=\"text-align: right;\">\n      <th></th>\n      <th>Year</th>\n      <th>Sex</th>\n      <th>sector</th>\n      <th>Occupational group</th>\n      <th>Earnings and working hours</th>\n      <th>Unit</th>\n      <th>Value</th>\n    </tr>\n  </thead>\n  <tbody>\n    <tr>\n      <th>0</th>\n      <td>2014</td>\n      <td>Total</td>\n      <td>Total</td>\n      <td>Total</td>\n      <td>Total earnings</td>\n      <td>Mean</td>\n      <td>563000.0</td>\n    </tr>\n    <tr>\n      <th>1</th>\n      <td>2014</td>\n      <td>Total</td>\n      <td>Total</td>\n      <td>Total</td>\n      <td>Hours paid</td>\n      <td>Mean</td>\n      <td>184.5</td>\n    </tr>\n    <tr>\n      <th>2</th>\n      <td>2014</td>\n      <td>Men</td>\n      <td>Total</td>\n      <td>Total</td>\n      <td>Total earnings</td>\n      <td>Mean</td>\n      <td>625000.0</td>\n    </tr>\n    <tr>\n      <th>3</th>\n      <td>2014</td>\n      <td>Men</td>\n      <td>Total</td>\n      <td>Total</td>\n      <td>Hours paid</td>\n      <td>Mean</td>\n      <td>188.6</td>\n    </tr>\n    <tr>\n      <th>4</th>\n      <td>2014</td>\n      <td>Women</td>\n      <td>Total</td>\n      <td>Total</td>\n      <td>Total earnings</td>\n      <td>Mean</td>\n      <td>492000.0</td>\n    </tr>\n    <tr>\n      <th>...</th>\n      <td>...</td>\n      <td>...</td>\n      <td>...</td>\n      <td>...</td>\n      <td>...</td>\n      <td>...</td>\n      <td>...</td>\n    </tr>\n    <tr>\n      <th>60055</th>\n      <td>2018</td>\n      <td>Total</td>\n      <td>Human health and social work activities</td>\n      <td>General, machine and specialized</td>\n      <td>Hours paid</td>\n      <td>Weighted observations</td>\n      <td>310.0</td>\n    </tr>\n    <tr>\n      <th>60056</th>\n      <td>2018</td>\n      <td>Men</td>\n      <td>Human health and social work activities</td>\n      <td>General, machine and specialized</td>\n      <td>Total earnings</td>\n      <td>Weighted observations</td>\n      <td>130.0</td>\n    </tr>\n    <tr>\n      <th>60057</th>\n      <td>2018</td>\n      <td>Men</td>\n      <td>Human health and social work activities</td>\n      <td>General, machine and specialized</td>\n      <td>Hours paid</td>\n      <td>Weighted observations</td>\n      <td>130.0</td>\n    </tr>\n    <tr>\n      <th>60058</th>\n      <td>2018</td>\n      <td>Women</td>\n      <td>Human health and social work activities</td>\n      <td>General, machine and specialized</td>\n      <td>Total earnings</td>\n      <td>Weighted observations</td>\n      <td>180.0</td>\n    </tr>\n    <tr>\n      <th>60059</th>\n      <td>2018</td>\n      <td>Women</td>\n      <td>Human health and social work activities</td>\n      <td>General, machine and specialized</td>\n      <td>Hours paid</td>\n      <td>Weighted observations</td>\n      <td>180.0</td>\n    </tr>\n  </tbody>\n</table>\n<p>60060 rows × 7 columns</p>\n</div>"
     },
     "metadata": {},
     "execution_count": 69
    }
   ],
   "source": [
    "df['Value'] = df.apply(\n",
    "        lambda x: format_income(\n",
    "            x['Earnings and working hours'], \n",
    "            x['Unit'],\n",
    "            x['Value']\n",
    "        ),\n",
    "        axis=1 \n",
    "    )\n",
    "\n",
    "df"
   ]
  },
  {
   "cell_type": "code",
   "execution_count": 70,
   "metadata": {},
   "outputs": [],
   "source": [
    "# to csv\n",
    "data_path = config.c_income_data / 'distribution_sector_2014_2018.csv'\n",
    "df.to_csv(data_path, index=False)"
   ]
  },
  {
   "cell_type": "markdown",
   "metadata": {},
   "source": [
    "# income_by_education_sex_age_1990_2018"
   ]
  },
  {
   "cell_type": "code",
   "execution_count": 99,
   "metadata": {},
   "outputs": [
    {
     "output_type": "execute_result",
     "data": {
      "text/plain": "         Income and taxes                        Unit  \\\n0     Total annual income                Mean - total   \n1     Total annual income                Mean - total   \n2     Total annual income                Mean - total   \n3     Total annual income                Mean - total   \n4     Total annual income                Mean - total   \n...                   ...                         ...   \n2875    Disposable income  Standard deviation - total   \n2876    Disposable income  Standard deviation - total   \n2877    Disposable income  Standard deviation - total   \n2878    Disposable income  Standard deviation - total   \n2879    Disposable income  Standard deviation - total   \n\n                         Education    Sex                Age  1990  1991  \\\n0                            Total  Total              Total  1116  1224   \n1                            Total  Total      16 - 24 years   625   670   \n2                            Total  Total      25 - 54 years    ..    ..   \n3                            Total  Total      55 - 74 years    ..    ..   \n4                            Total  Total  67 years and over    ..    ..   \n...                            ...    ...                ...   ...   ...   \n2875  Doctoral or equivalent level  Women      16 - 24 years     .     .   \n2876  Doctoral or equivalent level  Women      25 - 54 years    ..    ..   \n2877  Doctoral or equivalent level  Women      55 - 74 years    ..    ..   \n2878  Doctoral or equivalent level  Women  67 years and over    ..    ..   \n2879  Doctoral or equivalent level  Women  75 years and over     .     .   \n\n      1992  1993  1994  ...  2009  2010  2011  2012  2013  2014  2015  2016  \\\n0     1235  1237  1272  ...  4347  4019  4316  4524  4782  5089  5407  5911   \n1      648   630   647  ...  1501  1495  1631  1752  1867  1959  2123  2359   \n2       ..    ..    ..  ...    ..    ..    ..    ..    ..    ..    ..    ..   \n3       ..    ..    ..  ...    ..    ..    ..    ..    ..    ..    ..    ..   \n4       ..    ..    ..  ...    ..    ..    ..    ..    ..    ..    ..    ..   \n...    ...   ...   ...  ...   ...   ...   ...   ...   ...   ...   ...   ...   \n2875     .     .     .  ...     .     .     .     .     .     .     .     .   \n2876    ..    ..    ..  ...    ..    ..    ..    ..    ..    ..    ..    ..   \n2877    ..    ..    ..  ...    ..    ..    ..    ..    ..    ..    ..    ..   \n2878    ..    ..    ..  ...    ..    ..    ..    ..    ..    ..    ..    ..   \n2879     .     .     .  ...     .     .     .     .     .     .     .     .   \n\n      2017  2018  \n0     6419  6641  \n1     2587  2729  \n2       ..    ..  \n3       ..    ..  \n4       ..    ..  \n...    ...   ...  \n2875     .     .  \n2876    ..    ..  \n2877    ..    ..  \n2878    ..    ..  \n2879     .     .  \n\n[2880 rows x 34 columns]",
      "text/html": "<div>\n<style scoped>\n    .dataframe tbody tr th:only-of-type {\n        vertical-align: middle;\n    }\n\n    .dataframe tbody tr th {\n        vertical-align: top;\n    }\n\n    .dataframe thead th {\n        text-align: right;\n    }\n</style>\n<table border=\"1\" class=\"dataframe\">\n  <thead>\n    <tr style=\"text-align: right;\">\n      <th></th>\n      <th>Income and taxes</th>\n      <th>Unit</th>\n      <th>Education</th>\n      <th>Sex</th>\n      <th>Age</th>\n      <th>1990</th>\n      <th>1991</th>\n      <th>1992</th>\n      <th>1993</th>\n      <th>1994</th>\n      <th>...</th>\n      <th>2009</th>\n      <th>2010</th>\n      <th>2011</th>\n      <th>2012</th>\n      <th>2013</th>\n      <th>2014</th>\n      <th>2015</th>\n      <th>2016</th>\n      <th>2017</th>\n      <th>2018</th>\n    </tr>\n  </thead>\n  <tbody>\n    <tr>\n      <th>0</th>\n      <td>Total annual income</td>\n      <td>Mean - total</td>\n      <td>Total</td>\n      <td>Total</td>\n      <td>Total</td>\n      <td>1116</td>\n      <td>1224</td>\n      <td>1235</td>\n      <td>1237</td>\n      <td>1272</td>\n      <td>...</td>\n      <td>4347</td>\n      <td>4019</td>\n      <td>4316</td>\n      <td>4524</td>\n      <td>4782</td>\n      <td>5089</td>\n      <td>5407</td>\n      <td>5911</td>\n      <td>6419</td>\n      <td>6641</td>\n    </tr>\n    <tr>\n      <th>1</th>\n      <td>Total annual income</td>\n      <td>Mean - total</td>\n      <td>Total</td>\n      <td>Total</td>\n      <td>16 - 24 years</td>\n      <td>625</td>\n      <td>670</td>\n      <td>648</td>\n      <td>630</td>\n      <td>647</td>\n      <td>...</td>\n      <td>1501</td>\n      <td>1495</td>\n      <td>1631</td>\n      <td>1752</td>\n      <td>1867</td>\n      <td>1959</td>\n      <td>2123</td>\n      <td>2359</td>\n      <td>2587</td>\n      <td>2729</td>\n    </tr>\n    <tr>\n      <th>2</th>\n      <td>Total annual income</td>\n      <td>Mean - total</td>\n      <td>Total</td>\n      <td>Total</td>\n      <td>25 - 54 years</td>\n      <td>..</td>\n      <td>..</td>\n      <td>..</td>\n      <td>..</td>\n      <td>..</td>\n      <td>...</td>\n      <td>..</td>\n      <td>..</td>\n      <td>..</td>\n      <td>..</td>\n      <td>..</td>\n      <td>..</td>\n      <td>..</td>\n      <td>..</td>\n      <td>..</td>\n      <td>..</td>\n    </tr>\n    <tr>\n      <th>3</th>\n      <td>Total annual income</td>\n      <td>Mean - total</td>\n      <td>Total</td>\n      <td>Total</td>\n      <td>55 - 74 years</td>\n      <td>..</td>\n      <td>..</td>\n      <td>..</td>\n      <td>..</td>\n      <td>..</td>\n      <td>...</td>\n      <td>..</td>\n      <td>..</td>\n      <td>..</td>\n      <td>..</td>\n      <td>..</td>\n      <td>..</td>\n      <td>..</td>\n      <td>..</td>\n      <td>..</td>\n      <td>..</td>\n    </tr>\n    <tr>\n      <th>4</th>\n      <td>Total annual income</td>\n      <td>Mean - total</td>\n      <td>Total</td>\n      <td>Total</td>\n      <td>67 years and over</td>\n      <td>..</td>\n      <td>..</td>\n      <td>..</td>\n      <td>..</td>\n      <td>..</td>\n      <td>...</td>\n      <td>..</td>\n      <td>..</td>\n      <td>..</td>\n      <td>..</td>\n      <td>..</td>\n      <td>..</td>\n      <td>..</td>\n      <td>..</td>\n      <td>..</td>\n      <td>..</td>\n    </tr>\n    <tr>\n      <th>...</th>\n      <td>...</td>\n      <td>...</td>\n      <td>...</td>\n      <td>...</td>\n      <td>...</td>\n      <td>...</td>\n      <td>...</td>\n      <td>...</td>\n      <td>...</td>\n      <td>...</td>\n      <td>...</td>\n      <td>...</td>\n      <td>...</td>\n      <td>...</td>\n      <td>...</td>\n      <td>...</td>\n      <td>...</td>\n      <td>...</td>\n      <td>...</td>\n      <td>...</td>\n      <td>...</td>\n    </tr>\n    <tr>\n      <th>2875</th>\n      <td>Disposable income</td>\n      <td>Standard deviation - total</td>\n      <td>Doctoral or equivalent level</td>\n      <td>Women</td>\n      <td>16 - 24 years</td>\n      <td>.</td>\n      <td>.</td>\n      <td>.</td>\n      <td>.</td>\n      <td>.</td>\n      <td>...</td>\n      <td>.</td>\n      <td>.</td>\n      <td>.</td>\n      <td>.</td>\n      <td>.</td>\n      <td>.</td>\n      <td>.</td>\n      <td>.</td>\n      <td>.</td>\n      <td>.</td>\n    </tr>\n    <tr>\n      <th>2876</th>\n      <td>Disposable income</td>\n      <td>Standard deviation - total</td>\n      <td>Doctoral or equivalent level</td>\n      <td>Women</td>\n      <td>25 - 54 years</td>\n      <td>..</td>\n      <td>..</td>\n      <td>..</td>\n      <td>..</td>\n      <td>..</td>\n      <td>...</td>\n      <td>..</td>\n      <td>..</td>\n      <td>..</td>\n      <td>..</td>\n      <td>..</td>\n      <td>..</td>\n      <td>..</td>\n      <td>..</td>\n      <td>..</td>\n      <td>..</td>\n    </tr>\n    <tr>\n      <th>2877</th>\n      <td>Disposable income</td>\n      <td>Standard deviation - total</td>\n      <td>Doctoral or equivalent level</td>\n      <td>Women</td>\n      <td>55 - 74 years</td>\n      <td>..</td>\n      <td>..</td>\n      <td>..</td>\n      <td>..</td>\n      <td>..</td>\n      <td>...</td>\n      <td>..</td>\n      <td>..</td>\n      <td>..</td>\n      <td>..</td>\n      <td>..</td>\n      <td>..</td>\n      <td>..</td>\n      <td>..</td>\n      <td>..</td>\n      <td>..</td>\n    </tr>\n    <tr>\n      <th>2878</th>\n      <td>Disposable income</td>\n      <td>Standard deviation - total</td>\n      <td>Doctoral or equivalent level</td>\n      <td>Women</td>\n      <td>67 years and over</td>\n      <td>..</td>\n      <td>..</td>\n      <td>..</td>\n      <td>..</td>\n      <td>..</td>\n      <td>...</td>\n      <td>..</td>\n      <td>..</td>\n      <td>..</td>\n      <td>..</td>\n      <td>..</td>\n      <td>..</td>\n      <td>..</td>\n      <td>..</td>\n      <td>..</td>\n      <td>..</td>\n    </tr>\n    <tr>\n      <th>2879</th>\n      <td>Disposable income</td>\n      <td>Standard deviation - total</td>\n      <td>Doctoral or equivalent level</td>\n      <td>Women</td>\n      <td>75 years and over</td>\n      <td>.</td>\n      <td>.</td>\n      <td>.</td>\n      <td>.</td>\n      <td>.</td>\n      <td>...</td>\n      <td>.</td>\n      <td>.</td>\n      <td>.</td>\n      <td>.</td>\n      <td>.</td>\n      <td>.</td>\n      <td>.</td>\n      <td>.</td>\n      <td>.</td>\n      <td>.</td>\n    </tr>\n  </tbody>\n</table>\n<p>2880 rows × 34 columns</p>\n</div>"
     },
     "metadata": {},
     "execution_count": 99
    }
   ],
   "source": [
    "df = pd.read_csv(config.r_income_data / 'income_by_education_sex_age_1990_2018.csv')\n",
    "df"
   ]
  },
  {
   "cell_type": "code",
   "execution_count": 78,
   "metadata": {},
   "outputs": [
    {
     "output_type": "execute_result",
     "data": {
      "text/plain": "array(['Total annual income', 'Income from work', 'Taxes',\n       'Disposable income'], dtype=object)"
     },
     "metadata": {},
     "execution_count": 78
    }
   ],
   "source": [
    "df['Income and taxes'].unique()"
   ]
  },
  {
   "cell_type": "code",
   "execution_count": 72,
   "metadata": {},
   "outputs": [
    {
     "output_type": "execute_result",
     "data": {
      "text/plain": "array(['Mean - total', 'Median - total', 'Number - total',\n       'Standard deviation - total'], dtype=object)"
     },
     "metadata": {},
     "execution_count": 72
    }
   ],
   "source": [
    "df.Unit.unique()"
   ]
  },
  {
   "cell_type": "code",
   "execution_count": 73,
   "metadata": {},
   "outputs": [
    {
     "output_type": "execute_result",
     "data": {
      "text/plain": "array(['Total', 'Basic education', 'Upper secondary education',\n       '- Vocational education at the upper secondary level',\n       '- General education at the upper secondary level',\n       'Tertiary education', '- Short-cycle tertiary education',\n       '- Bachelor�s or equivalent level',\n       '- Master�s or equivalent level', 'Doctoral or equivalent level'],\n      dtype=object)"
     },
     "metadata": {},
     "execution_count": 73
    }
   ],
   "source": [
    "df.Education.unique()"
   ]
  },
  {
   "cell_type": "code",
   "execution_count": 100,
   "metadata": {},
   "outputs": [
    {
     "output_type": "execute_result",
     "data": {
      "text/plain": "array(['Total', 'Basic education', 'Upper secondary education',\n       'Upper secondary education: vocational',\n       'Upper secondary education: general', 'Tertiary education',\n       'Short-cycle tertiary education', \"Bachelor's or equivalent level\",\n       \"Master's or equivalent level\", 'Doctoral or equivalent level'],\n      dtype=object)"
     },
     "metadata": {},
     "execution_count": 100
    }
   ],
   "source": [
    "def format_education(edu):\n",
    "    if edu == '- Vocational education at the upper secondary level':\n",
    "        new_edu = 'Upper secondary education: vocational'\n",
    "        return(new_edu)\n",
    "    if edu == '- General education at the upper secondary level':\n",
    "        new_edu = 'Upper secondary education: general'\n",
    "        return(new_edu)\n",
    "    if edu == '- Short-cycle tertiary education':\n",
    "        new_edu = 'Short-cycle tertiary education'\n",
    "        return(new_edu)\n",
    "    if edu == '- Bachelor�s or equivalent level':\n",
    "        new_edu = \"Bachelor's or equivalent level\"\n",
    "        return(new_edu)\n",
    "    if edu == '- Master�s or equivalent level':\n",
    "        new_edu = \"Master's or equivalent level\"\n",
    "        return(new_edu)\n",
    "\n",
    "    return(edu)\n",
    "\n",
    "df['Education'] = df.Education.apply(format_education)\n",
    "df.Education.unique()"
   ]
  },
  {
   "cell_type": "code",
   "execution_count": 101,
   "metadata": {},
   "outputs": [
    {
     "output_type": "execute_result",
     "data": {
      "text/plain": "         Sex                Age                     Education  \\\n0      Total              Total                         Total   \n1      Total      16 - 24 years                         Total   \n2      Total      25 - 54 years                         Total   \n3      Total      55 - 74 years                         Total   \n4      Total  67 years and over                         Total   \n...      ...                ...                           ...   \n83515  Women      16 - 24 years  Doctoral or equivalent level   \n83516  Women      25 - 54 years  Doctoral or equivalent level   \n83517  Women      55 - 74 years  Doctoral or equivalent level   \n83518  Women  67 years and over  Doctoral or equivalent level   \n83519  Women  75 years and over  Doctoral or equivalent level   \n\n          Income and taxes                        Unit  Year Value  \n0      Total annual income                Mean - total  1990  1116  \n1      Total annual income                Mean - total  1990   625  \n2      Total annual income                Mean - total  1990    ..  \n3      Total annual income                Mean - total  1990    ..  \n4      Total annual income                Mean - total  1990    ..  \n...                    ...                         ...   ...   ...  \n83515    Disposable income  Standard deviation - total  2018     .  \n83516    Disposable income  Standard deviation - total  2018    ..  \n83517    Disposable income  Standard deviation - total  2018    ..  \n83518    Disposable income  Standard deviation - total  2018    ..  \n83519    Disposable income  Standard deviation - total  2018     .  \n\n[83520 rows x 7 columns]",
      "text/html": "<div>\n<style scoped>\n    .dataframe tbody tr th:only-of-type {\n        vertical-align: middle;\n    }\n\n    .dataframe tbody tr th {\n        vertical-align: top;\n    }\n\n    .dataframe thead th {\n        text-align: right;\n    }\n</style>\n<table border=\"1\" class=\"dataframe\">\n  <thead>\n    <tr style=\"text-align: right;\">\n      <th></th>\n      <th>Sex</th>\n      <th>Age</th>\n      <th>Education</th>\n      <th>Income and taxes</th>\n      <th>Unit</th>\n      <th>Year</th>\n      <th>Value</th>\n    </tr>\n  </thead>\n  <tbody>\n    <tr>\n      <th>0</th>\n      <td>Total</td>\n      <td>Total</td>\n      <td>Total</td>\n      <td>Total annual income</td>\n      <td>Mean - total</td>\n      <td>1990</td>\n      <td>1116</td>\n    </tr>\n    <tr>\n      <th>1</th>\n      <td>Total</td>\n      <td>16 - 24 years</td>\n      <td>Total</td>\n      <td>Total annual income</td>\n      <td>Mean - total</td>\n      <td>1990</td>\n      <td>625</td>\n    </tr>\n    <tr>\n      <th>2</th>\n      <td>Total</td>\n      <td>25 - 54 years</td>\n      <td>Total</td>\n      <td>Total annual income</td>\n      <td>Mean - total</td>\n      <td>1990</td>\n      <td>..</td>\n    </tr>\n    <tr>\n      <th>3</th>\n      <td>Total</td>\n      <td>55 - 74 years</td>\n      <td>Total</td>\n      <td>Total annual income</td>\n      <td>Mean - total</td>\n      <td>1990</td>\n      <td>..</td>\n    </tr>\n    <tr>\n      <th>4</th>\n      <td>Total</td>\n      <td>67 years and over</td>\n      <td>Total</td>\n      <td>Total annual income</td>\n      <td>Mean - total</td>\n      <td>1990</td>\n      <td>..</td>\n    </tr>\n    <tr>\n      <th>...</th>\n      <td>...</td>\n      <td>...</td>\n      <td>...</td>\n      <td>...</td>\n      <td>...</td>\n      <td>...</td>\n      <td>...</td>\n    </tr>\n    <tr>\n      <th>83515</th>\n      <td>Women</td>\n      <td>16 - 24 years</td>\n      <td>Doctoral or equivalent level</td>\n      <td>Disposable income</td>\n      <td>Standard deviation - total</td>\n      <td>2018</td>\n      <td>.</td>\n    </tr>\n    <tr>\n      <th>83516</th>\n      <td>Women</td>\n      <td>25 - 54 years</td>\n      <td>Doctoral or equivalent level</td>\n      <td>Disposable income</td>\n      <td>Standard deviation - total</td>\n      <td>2018</td>\n      <td>..</td>\n    </tr>\n    <tr>\n      <th>83517</th>\n      <td>Women</td>\n      <td>55 - 74 years</td>\n      <td>Doctoral or equivalent level</td>\n      <td>Disposable income</td>\n      <td>Standard deviation - total</td>\n      <td>2018</td>\n      <td>..</td>\n    </tr>\n    <tr>\n      <th>83518</th>\n      <td>Women</td>\n      <td>67 years and over</td>\n      <td>Doctoral or equivalent level</td>\n      <td>Disposable income</td>\n      <td>Standard deviation - total</td>\n      <td>2018</td>\n      <td>..</td>\n    </tr>\n    <tr>\n      <th>83519</th>\n      <td>Women</td>\n      <td>75 years and over</td>\n      <td>Doctoral or equivalent level</td>\n      <td>Disposable income</td>\n      <td>Standard deviation - total</td>\n      <td>2018</td>\n      <td>.</td>\n    </tr>\n  </tbody>\n</table>\n<p>83520 rows × 7 columns</p>\n</div>"
     },
     "metadata": {},
     "execution_count": 101
    }
   ],
   "source": [
    "df = pd.melt(\n",
    "    df, \n",
    "    id_vars=['Sex', 'Age', 'Education', 'Income and taxes', 'Unit'], \n",
    "    var_name='Year', \n",
    "    value_name='Value')\n",
    "\n",
    "df"
   ]
  },
  {
   "cell_type": "code",
   "execution_count": 102,
   "metadata": {},
   "outputs": [
    {
     "output_type": "execute_result",
     "data": {
      "text/plain": "         Sex                Age                     Education  \\\n0      Total              Total                         Total   \n1      Total      16 - 24 years                         Total   \n2      Total      25 - 54 years                         Total   \n3      Total      55 - 74 years                         Total   \n4      Total  67 years and over                         Total   \n...      ...                ...                           ...   \n83515  Women      16 - 24 years  Doctoral or equivalent level   \n83516  Women      25 - 54 years  Doctoral or equivalent level   \n83517  Women      55 - 74 years  Doctoral or equivalent level   \n83518  Women  67 years and over  Doctoral or equivalent level   \n83519  Women  75 years and over  Doctoral or equivalent level   \n\n          Income and taxes                        Unit  Year      Value  \n0      Total annual income                Mean - total  1990  1116000.0  \n1      Total annual income                Mean - total  1990   625000.0  \n2      Total annual income                Mean - total  1990        NaN  \n3      Total annual income                Mean - total  1990        NaN  \n4      Total annual income                Mean - total  1990        NaN  \n...                    ...                         ...   ...        ...  \n83515    Disposable income  Standard deviation - total  2018        NaN  \n83516    Disposable income  Standard deviation - total  2018        NaN  \n83517    Disposable income  Standard deviation - total  2018        NaN  \n83518    Disposable income  Standard deviation - total  2018        NaN  \n83519    Disposable income  Standard deviation - total  2018        NaN  \n\n[83520 rows x 7 columns]",
      "text/html": "<div>\n<style scoped>\n    .dataframe tbody tr th:only-of-type {\n        vertical-align: middle;\n    }\n\n    .dataframe tbody tr th {\n        vertical-align: top;\n    }\n\n    .dataframe thead th {\n        text-align: right;\n    }\n</style>\n<table border=\"1\" class=\"dataframe\">\n  <thead>\n    <tr style=\"text-align: right;\">\n      <th></th>\n      <th>Sex</th>\n      <th>Age</th>\n      <th>Education</th>\n      <th>Income and taxes</th>\n      <th>Unit</th>\n      <th>Year</th>\n      <th>Value</th>\n    </tr>\n  </thead>\n  <tbody>\n    <tr>\n      <th>0</th>\n      <td>Total</td>\n      <td>Total</td>\n      <td>Total</td>\n      <td>Total annual income</td>\n      <td>Mean - total</td>\n      <td>1990</td>\n      <td>1116000.0</td>\n    </tr>\n    <tr>\n      <th>1</th>\n      <td>Total</td>\n      <td>16 - 24 years</td>\n      <td>Total</td>\n      <td>Total annual income</td>\n      <td>Mean - total</td>\n      <td>1990</td>\n      <td>625000.0</td>\n    </tr>\n    <tr>\n      <th>2</th>\n      <td>Total</td>\n      <td>25 - 54 years</td>\n      <td>Total</td>\n      <td>Total annual income</td>\n      <td>Mean - total</td>\n      <td>1990</td>\n      <td>NaN</td>\n    </tr>\n    <tr>\n      <th>3</th>\n      <td>Total</td>\n      <td>55 - 74 years</td>\n      <td>Total</td>\n      <td>Total annual income</td>\n      <td>Mean - total</td>\n      <td>1990</td>\n      <td>NaN</td>\n    </tr>\n    <tr>\n      <th>4</th>\n      <td>Total</td>\n      <td>67 years and over</td>\n      <td>Total</td>\n      <td>Total annual income</td>\n      <td>Mean - total</td>\n      <td>1990</td>\n      <td>NaN</td>\n    </tr>\n    <tr>\n      <th>...</th>\n      <td>...</td>\n      <td>...</td>\n      <td>...</td>\n      <td>...</td>\n      <td>...</td>\n      <td>...</td>\n      <td>...</td>\n    </tr>\n    <tr>\n      <th>83515</th>\n      <td>Women</td>\n      <td>16 - 24 years</td>\n      <td>Doctoral or equivalent level</td>\n      <td>Disposable income</td>\n      <td>Standard deviation - total</td>\n      <td>2018</td>\n      <td>NaN</td>\n    </tr>\n    <tr>\n      <th>83516</th>\n      <td>Women</td>\n      <td>25 - 54 years</td>\n      <td>Doctoral or equivalent level</td>\n      <td>Disposable income</td>\n      <td>Standard deviation - total</td>\n      <td>2018</td>\n      <td>NaN</td>\n    </tr>\n    <tr>\n      <th>83517</th>\n      <td>Women</td>\n      <td>55 - 74 years</td>\n      <td>Doctoral or equivalent level</td>\n      <td>Disposable income</td>\n      <td>Standard deviation - total</td>\n      <td>2018</td>\n      <td>NaN</td>\n    </tr>\n    <tr>\n      <th>83518</th>\n      <td>Women</td>\n      <td>67 years and over</td>\n      <td>Doctoral or equivalent level</td>\n      <td>Disposable income</td>\n      <td>Standard deviation - total</td>\n      <td>2018</td>\n      <td>NaN</td>\n    </tr>\n    <tr>\n      <th>83519</th>\n      <td>Women</td>\n      <td>75 years and over</td>\n      <td>Doctoral or equivalent level</td>\n      <td>Disposable income</td>\n      <td>Standard deviation - total</td>\n      <td>2018</td>\n      <td>NaN</td>\n    </tr>\n  </tbody>\n</table>\n<p>83520 rows × 7 columns</p>\n</div>"
     },
     "metadata": {},
     "execution_count": 102
    }
   ],
   "source": [
    "# format value column\n",
    "df['Value'] = df.Value.apply(lambda x: float('NaN') if x in ['.', '..'] else int(x)*1000)\n",
    "\n",
    "df"
   ]
  },
  {
   "cell_type": "code",
   "execution_count": 103,
   "metadata": {},
   "outputs": [
    {
     "output_type": "execute_result",
     "data": {
      "text/plain": "       Year    Sex                Age                     Education  \\\n0      1990  Total              Total                         Total   \n1      1990  Total      16 - 24 years                         Total   \n2      1990  Total      25 - 54 years                         Total   \n3      1990  Total      55 - 74 years                         Total   \n4      1990  Total  67 years and over                         Total   \n...     ...    ...                ...                           ...   \n83515  2018  Women      16 - 24 years  Doctoral or equivalent level   \n83516  2018  Women      25 - 54 years  Doctoral or equivalent level   \n83517  2018  Women      55 - 74 years  Doctoral or equivalent level   \n83518  2018  Women  67 years and over  Doctoral or equivalent level   \n83519  2018  Women  75 years and over  Doctoral or equivalent level   \n\n          Income and taxes                        Unit      Value  \n0      Total annual income                Mean - total  1116000.0  \n1      Total annual income                Mean - total   625000.0  \n2      Total annual income                Mean - total        NaN  \n3      Total annual income                Mean - total        NaN  \n4      Total annual income                Mean - total        NaN  \n...                    ...                         ...        ...  \n83515    Disposable income  Standard deviation - total        NaN  \n83516    Disposable income  Standard deviation - total        NaN  \n83517    Disposable income  Standard deviation - total        NaN  \n83518    Disposable income  Standard deviation - total        NaN  \n83519    Disposable income  Standard deviation - total        NaN  \n\n[83520 rows x 7 columns]",
      "text/html": "<div>\n<style scoped>\n    .dataframe tbody tr th:only-of-type {\n        vertical-align: middle;\n    }\n\n    .dataframe tbody tr th {\n        vertical-align: top;\n    }\n\n    .dataframe thead th {\n        text-align: right;\n    }\n</style>\n<table border=\"1\" class=\"dataframe\">\n  <thead>\n    <tr style=\"text-align: right;\">\n      <th></th>\n      <th>Year</th>\n      <th>Sex</th>\n      <th>Age</th>\n      <th>Education</th>\n      <th>Income and taxes</th>\n      <th>Unit</th>\n      <th>Value</th>\n    </tr>\n  </thead>\n  <tbody>\n    <tr>\n      <th>0</th>\n      <td>1990</td>\n      <td>Total</td>\n      <td>Total</td>\n      <td>Total</td>\n      <td>Total annual income</td>\n      <td>Mean - total</td>\n      <td>1116000.0</td>\n    </tr>\n    <tr>\n      <th>1</th>\n      <td>1990</td>\n      <td>Total</td>\n      <td>16 - 24 years</td>\n      <td>Total</td>\n      <td>Total annual income</td>\n      <td>Mean - total</td>\n      <td>625000.0</td>\n    </tr>\n    <tr>\n      <th>2</th>\n      <td>1990</td>\n      <td>Total</td>\n      <td>25 - 54 years</td>\n      <td>Total</td>\n      <td>Total annual income</td>\n      <td>Mean - total</td>\n      <td>NaN</td>\n    </tr>\n    <tr>\n      <th>3</th>\n      <td>1990</td>\n      <td>Total</td>\n      <td>55 - 74 years</td>\n      <td>Total</td>\n      <td>Total annual income</td>\n      <td>Mean - total</td>\n      <td>NaN</td>\n    </tr>\n    <tr>\n      <th>4</th>\n      <td>1990</td>\n      <td>Total</td>\n      <td>67 years and over</td>\n      <td>Total</td>\n      <td>Total annual income</td>\n      <td>Mean - total</td>\n      <td>NaN</td>\n    </tr>\n    <tr>\n      <th>...</th>\n      <td>...</td>\n      <td>...</td>\n      <td>...</td>\n      <td>...</td>\n      <td>...</td>\n      <td>...</td>\n      <td>...</td>\n    </tr>\n    <tr>\n      <th>83515</th>\n      <td>2018</td>\n      <td>Women</td>\n      <td>16 - 24 years</td>\n      <td>Doctoral or equivalent level</td>\n      <td>Disposable income</td>\n      <td>Standard deviation - total</td>\n      <td>NaN</td>\n    </tr>\n    <tr>\n      <th>83516</th>\n      <td>2018</td>\n      <td>Women</td>\n      <td>25 - 54 years</td>\n      <td>Doctoral or equivalent level</td>\n      <td>Disposable income</td>\n      <td>Standard deviation - total</td>\n      <td>NaN</td>\n    </tr>\n    <tr>\n      <th>83517</th>\n      <td>2018</td>\n      <td>Women</td>\n      <td>55 - 74 years</td>\n      <td>Doctoral or equivalent level</td>\n      <td>Disposable income</td>\n      <td>Standard deviation - total</td>\n      <td>NaN</td>\n    </tr>\n    <tr>\n      <th>83518</th>\n      <td>2018</td>\n      <td>Women</td>\n      <td>67 years and over</td>\n      <td>Doctoral or equivalent level</td>\n      <td>Disposable income</td>\n      <td>Standard deviation - total</td>\n      <td>NaN</td>\n    </tr>\n    <tr>\n      <th>83519</th>\n      <td>2018</td>\n      <td>Women</td>\n      <td>75 years and over</td>\n      <td>Doctoral or equivalent level</td>\n      <td>Disposable income</td>\n      <td>Standard deviation - total</td>\n      <td>NaN</td>\n    </tr>\n  </tbody>\n</table>\n<p>83520 rows × 7 columns</p>\n</div>"
     },
     "metadata": {},
     "execution_count": 103
    }
   ],
   "source": [
    "# reorder columns\n",
    "df = df[['Year', 'Sex', 'Age', 'Education', 'Income and taxes', 'Unit', 'Value']]\n",
    "df"
   ]
  },
  {
   "cell_type": "code",
   "execution_count": 104,
   "metadata": {},
   "outputs": [],
   "source": [
    "# drop missing data\n",
    "df = df.dropna()"
   ]
  },
  {
   "cell_type": "code",
   "execution_count": 105,
   "metadata": {
    "tags": []
   },
   "outputs": [
    {
     "output_type": "stream",
     "name": "stdout",
     "text": "<class 'pandas.core.frame.DataFrame'>\nInt64Index: 30624 entries, 0 to 83514\nData columns (total 7 columns):\n #   Column            Non-Null Count  Dtype  \n---  ------            --------------  -----  \n 0   Year              30624 non-null  object \n 1   Sex               30624 non-null  object \n 2   Age               30624 non-null  object \n 3   Education         30624 non-null  object \n 4   Income and taxes  30624 non-null  object \n 5   Unit              30624 non-null  object \n 6   Value             30624 non-null  float64\ndtypes: float64(1), object(6)\nmemory usage: 1.9+ MB\n"
    }
   ],
   "source": [
    "df.info()"
   ]
  },
  {
   "cell_type": "code",
   "execution_count": 106,
   "metadata": {},
   "outputs": [],
   "source": [
    "# to csv\n",
    "data_path = config.c_income_data / 'income_by_education_sex_age_1990_2018.csv'\n",
    "df.to_csv(data_path, index=False)"
   ]
  },
  {
   "cell_type": "markdown",
   "metadata": {},
   "source": [
    "# income_by_municipality_1990_2019"
   ]
  },
  {
   "cell_type": "code",
   "execution_count": 109,
   "metadata": {},
   "outputs": [
    {
     "output_type": "execute_result",
     "data": {
      "text/plain": "                   Income                        Unit    Sex  \\\n0     Total annual income                Mean - total  Total   \n1     Total annual income                Mean - total  Total   \n2     Total annual income                Mean - total  Total   \n3     Total annual income                Mean - total  Total   \n4     Total annual income                Mean - total  Total   \n...                   ...                         ...    ...   \n2623    Disposable income  Standard deviation - total  Women   \n2624    Disposable income  Standard deviation - total  Women   \n2625    Disposable income  Standard deviation - total  Women   \n2626    Disposable income  Standard deviation - total  Women   \n2627    Disposable income  Standard deviation - total  Women   \n\n                       Municipality  1990  1991  1992  1993  1994  1995  ...  \\\n0                             Total  1116  1223  1235  1236  1271  1339  ...   \n1                         Reykjavík  1126  1242  1253  1253  1286  1350  ...   \n2                         Kópavogur  1128  1238  1254  1252  1302  1373  ...   \n3                     Seltjarnarnes  1299  1448  1485  1466  1527  1604  ...   \n4                          Garðabær  1301  1435  1446  1430  1472  1543  ...   \n...                             ...   ...   ...   ...   ...   ...   ...  ...   \n2623           Sveitarfélagið Ölfus   320   362   403   377   379   462  ...   \n2624  Grímsnes- og Grafningshreppur   385   422  1311   472   301   307  ...   \n2625    Skeiða- og Gnúpverjahreppur   281   329   340   386   372   417  ...   \n2626                  Bláskógabyggð   305   341   389   545   391   610  ...   \n2627                    Flóahreppur   276   302   304   308   272   305  ...   \n\n      2010  2011  2012  2013  2014  2015   2016  2017  2018  2019  \n0     4018  4315  4522  4781  5088  5405   5910  6418  6641  6871  \n1     4044  4319  4536  4852  5138  5429   5916  6466  6719  6877  \n2     4301  4630  4809  5056  5444  5760   6422  6902  7156  7357  \n3     4867  5313  5445  5705  6072  6646   7967  8128  8485  8796  \n4     4852  5288  5484  5887  6226  6821   7441  8176  8358  8694  \n...    ...   ...   ...   ...   ...   ...    ...   ...   ...   ...  \n2623  1282  1749  2209  1489  1529  1728  36774  6799  2161  2351  \n2624  1237  1160  1759  1451  1408  1838   1611  2448  2229  2970  \n2625  1232  1264  3381  1979  1953  2169   2409  4710  1876  2663  \n2626  1416  1466  1278  1437  1398  2783   1915  8181  2771  7005  \n2627  1726  1461  1386  1556  1605  1755   1705  2821  2895  2517  \n\n[2628 rows x 34 columns]",
      "text/html": "<div>\n<style scoped>\n    .dataframe tbody tr th:only-of-type {\n        vertical-align: middle;\n    }\n\n    .dataframe tbody tr th {\n        vertical-align: top;\n    }\n\n    .dataframe thead th {\n        text-align: right;\n    }\n</style>\n<table border=\"1\" class=\"dataframe\">\n  <thead>\n    <tr style=\"text-align: right;\">\n      <th></th>\n      <th>Income</th>\n      <th>Unit</th>\n      <th>Sex</th>\n      <th>Municipality</th>\n      <th>1990</th>\n      <th>1991</th>\n      <th>1992</th>\n      <th>1993</th>\n      <th>1994</th>\n      <th>1995</th>\n      <th>...</th>\n      <th>2010</th>\n      <th>2011</th>\n      <th>2012</th>\n      <th>2013</th>\n      <th>2014</th>\n      <th>2015</th>\n      <th>2016</th>\n      <th>2017</th>\n      <th>2018</th>\n      <th>2019</th>\n    </tr>\n  </thead>\n  <tbody>\n    <tr>\n      <th>0</th>\n      <td>Total annual income</td>\n      <td>Mean - total</td>\n      <td>Total</td>\n      <td>Total</td>\n      <td>1116</td>\n      <td>1223</td>\n      <td>1235</td>\n      <td>1236</td>\n      <td>1271</td>\n      <td>1339</td>\n      <td>...</td>\n      <td>4018</td>\n      <td>4315</td>\n      <td>4522</td>\n      <td>4781</td>\n      <td>5088</td>\n      <td>5405</td>\n      <td>5910</td>\n      <td>6418</td>\n      <td>6641</td>\n      <td>6871</td>\n    </tr>\n    <tr>\n      <th>1</th>\n      <td>Total annual income</td>\n      <td>Mean - total</td>\n      <td>Total</td>\n      <td>Reykjavík</td>\n      <td>1126</td>\n      <td>1242</td>\n      <td>1253</td>\n      <td>1253</td>\n      <td>1286</td>\n      <td>1350</td>\n      <td>...</td>\n      <td>4044</td>\n      <td>4319</td>\n      <td>4536</td>\n      <td>4852</td>\n      <td>5138</td>\n      <td>5429</td>\n      <td>5916</td>\n      <td>6466</td>\n      <td>6719</td>\n      <td>6877</td>\n    </tr>\n    <tr>\n      <th>2</th>\n      <td>Total annual income</td>\n      <td>Mean - total</td>\n      <td>Total</td>\n      <td>Kópavogur</td>\n      <td>1128</td>\n      <td>1238</td>\n      <td>1254</td>\n      <td>1252</td>\n      <td>1302</td>\n      <td>1373</td>\n      <td>...</td>\n      <td>4301</td>\n      <td>4630</td>\n      <td>4809</td>\n      <td>5056</td>\n      <td>5444</td>\n      <td>5760</td>\n      <td>6422</td>\n      <td>6902</td>\n      <td>7156</td>\n      <td>7357</td>\n    </tr>\n    <tr>\n      <th>3</th>\n      <td>Total annual income</td>\n      <td>Mean - total</td>\n      <td>Total</td>\n      <td>Seltjarnarnes</td>\n      <td>1299</td>\n      <td>1448</td>\n      <td>1485</td>\n      <td>1466</td>\n      <td>1527</td>\n      <td>1604</td>\n      <td>...</td>\n      <td>4867</td>\n      <td>5313</td>\n      <td>5445</td>\n      <td>5705</td>\n      <td>6072</td>\n      <td>6646</td>\n      <td>7967</td>\n      <td>8128</td>\n      <td>8485</td>\n      <td>8796</td>\n    </tr>\n    <tr>\n      <th>4</th>\n      <td>Total annual income</td>\n      <td>Mean - total</td>\n      <td>Total</td>\n      <td>Garðabær</td>\n      <td>1301</td>\n      <td>1435</td>\n      <td>1446</td>\n      <td>1430</td>\n      <td>1472</td>\n      <td>1543</td>\n      <td>...</td>\n      <td>4852</td>\n      <td>5288</td>\n      <td>5484</td>\n      <td>5887</td>\n      <td>6226</td>\n      <td>6821</td>\n      <td>7441</td>\n      <td>8176</td>\n      <td>8358</td>\n      <td>8694</td>\n    </tr>\n    <tr>\n      <th>...</th>\n      <td>...</td>\n      <td>...</td>\n      <td>...</td>\n      <td>...</td>\n      <td>...</td>\n      <td>...</td>\n      <td>...</td>\n      <td>...</td>\n      <td>...</td>\n      <td>...</td>\n      <td>...</td>\n      <td>...</td>\n      <td>...</td>\n      <td>...</td>\n      <td>...</td>\n      <td>...</td>\n      <td>...</td>\n      <td>...</td>\n      <td>...</td>\n      <td>...</td>\n      <td>...</td>\n    </tr>\n    <tr>\n      <th>2623</th>\n      <td>Disposable income</td>\n      <td>Standard deviation - total</td>\n      <td>Women</td>\n      <td>Sveitarfélagið Ölfus</td>\n      <td>320</td>\n      <td>362</td>\n      <td>403</td>\n      <td>377</td>\n      <td>379</td>\n      <td>462</td>\n      <td>...</td>\n      <td>1282</td>\n      <td>1749</td>\n      <td>2209</td>\n      <td>1489</td>\n      <td>1529</td>\n      <td>1728</td>\n      <td>36774</td>\n      <td>6799</td>\n      <td>2161</td>\n      <td>2351</td>\n    </tr>\n    <tr>\n      <th>2624</th>\n      <td>Disposable income</td>\n      <td>Standard deviation - total</td>\n      <td>Women</td>\n      <td>Grímsnes- og Grafningshreppur</td>\n      <td>385</td>\n      <td>422</td>\n      <td>1311</td>\n      <td>472</td>\n      <td>301</td>\n      <td>307</td>\n      <td>...</td>\n      <td>1237</td>\n      <td>1160</td>\n      <td>1759</td>\n      <td>1451</td>\n      <td>1408</td>\n      <td>1838</td>\n      <td>1611</td>\n      <td>2448</td>\n      <td>2229</td>\n      <td>2970</td>\n    </tr>\n    <tr>\n      <th>2625</th>\n      <td>Disposable income</td>\n      <td>Standard deviation - total</td>\n      <td>Women</td>\n      <td>Skeiða- og Gnúpverjahreppur</td>\n      <td>281</td>\n      <td>329</td>\n      <td>340</td>\n      <td>386</td>\n      <td>372</td>\n      <td>417</td>\n      <td>...</td>\n      <td>1232</td>\n      <td>1264</td>\n      <td>3381</td>\n      <td>1979</td>\n      <td>1953</td>\n      <td>2169</td>\n      <td>2409</td>\n      <td>4710</td>\n      <td>1876</td>\n      <td>2663</td>\n    </tr>\n    <tr>\n      <th>2626</th>\n      <td>Disposable income</td>\n      <td>Standard deviation - total</td>\n      <td>Women</td>\n      <td>Bláskógabyggð</td>\n      <td>305</td>\n      <td>341</td>\n      <td>389</td>\n      <td>545</td>\n      <td>391</td>\n      <td>610</td>\n      <td>...</td>\n      <td>1416</td>\n      <td>1466</td>\n      <td>1278</td>\n      <td>1437</td>\n      <td>1398</td>\n      <td>2783</td>\n      <td>1915</td>\n      <td>8181</td>\n      <td>2771</td>\n      <td>7005</td>\n    </tr>\n    <tr>\n      <th>2627</th>\n      <td>Disposable income</td>\n      <td>Standard deviation - total</td>\n      <td>Women</td>\n      <td>Flóahreppur</td>\n      <td>276</td>\n      <td>302</td>\n      <td>304</td>\n      <td>308</td>\n      <td>272</td>\n      <td>305</td>\n      <td>...</td>\n      <td>1726</td>\n      <td>1461</td>\n      <td>1386</td>\n      <td>1556</td>\n      <td>1605</td>\n      <td>1755</td>\n      <td>1705</td>\n      <td>2821</td>\n      <td>2895</td>\n      <td>2517</td>\n    </tr>\n  </tbody>\n</table>\n<p>2628 rows × 34 columns</p>\n</div>"
     },
     "metadata": {},
     "execution_count": 109
    }
   ],
   "source": [
    "df = pd.read_csv(config.r_income_data / 'income_by_municipality_1990_2019.csv', encoding='ISO-8859-1')\n",
    "df"
   ]
  },
  {
   "cell_type": "code",
   "execution_count": 111,
   "metadata": {},
   "outputs": [
    {
     "output_type": "execute_result",
     "data": {
      "text/plain": "                    Income                        Unit    Sex  \\\n0      Total annual income                Mean - total  Total   \n1      Total annual income                Mean - total  Total   \n2      Total annual income                Mean - total  Total   \n3      Total annual income                Mean - total  Total   \n4      Total annual income                Mean - total  Total   \n...                    ...                         ...    ...   \n78835    Disposable income  Standard deviation - total  Women   \n78836    Disposable income  Standard deviation - total  Women   \n78837    Disposable income  Standard deviation - total  Women   \n78838    Disposable income  Standard deviation - total  Women   \n78839    Disposable income  Standard deviation - total  Women   \n\n                        Municipality  Year  Value  \n0                              Total  1990   1116  \n1                          Reykjavík  1990   1126  \n2                          Kópavogur  1990   1128  \n3                      Seltjarnarnes  1990   1299  \n4                           Garðabær  1990   1301  \n...                              ...   ...    ...  \n78835           Sveitarfélagið Ölfus  2019   2351  \n78836  Grímsnes- og Grafningshreppur  2019   2970  \n78837    Skeiða- og Gnúpverjahreppur  2019   2663  \n78838                  Bláskógabyggð  2019   7005  \n78839                    Flóahreppur  2019   2517  \n\n[78840 rows x 6 columns]",
      "text/html": "<div>\n<style scoped>\n    .dataframe tbody tr th:only-of-type {\n        vertical-align: middle;\n    }\n\n    .dataframe tbody tr th {\n        vertical-align: top;\n    }\n\n    .dataframe thead th {\n        text-align: right;\n    }\n</style>\n<table border=\"1\" class=\"dataframe\">\n  <thead>\n    <tr style=\"text-align: right;\">\n      <th></th>\n      <th>Income</th>\n      <th>Unit</th>\n      <th>Sex</th>\n      <th>Municipality</th>\n      <th>Year</th>\n      <th>Value</th>\n    </tr>\n  </thead>\n  <tbody>\n    <tr>\n      <th>0</th>\n      <td>Total annual income</td>\n      <td>Mean - total</td>\n      <td>Total</td>\n      <td>Total</td>\n      <td>1990</td>\n      <td>1116</td>\n    </tr>\n    <tr>\n      <th>1</th>\n      <td>Total annual income</td>\n      <td>Mean - total</td>\n      <td>Total</td>\n      <td>Reykjavík</td>\n      <td>1990</td>\n      <td>1126</td>\n    </tr>\n    <tr>\n      <th>2</th>\n      <td>Total annual income</td>\n      <td>Mean - total</td>\n      <td>Total</td>\n      <td>Kópavogur</td>\n      <td>1990</td>\n      <td>1128</td>\n    </tr>\n    <tr>\n      <th>3</th>\n      <td>Total annual income</td>\n      <td>Mean - total</td>\n      <td>Total</td>\n      <td>Seltjarnarnes</td>\n      <td>1990</td>\n      <td>1299</td>\n    </tr>\n    <tr>\n      <th>4</th>\n      <td>Total annual income</td>\n      <td>Mean - total</td>\n      <td>Total</td>\n      <td>Garðabær</td>\n      <td>1990</td>\n      <td>1301</td>\n    </tr>\n    <tr>\n      <th>...</th>\n      <td>...</td>\n      <td>...</td>\n      <td>...</td>\n      <td>...</td>\n      <td>...</td>\n      <td>...</td>\n    </tr>\n    <tr>\n      <th>78835</th>\n      <td>Disposable income</td>\n      <td>Standard deviation - total</td>\n      <td>Women</td>\n      <td>Sveitarfélagið Ölfus</td>\n      <td>2019</td>\n      <td>2351</td>\n    </tr>\n    <tr>\n      <th>78836</th>\n      <td>Disposable income</td>\n      <td>Standard deviation - total</td>\n      <td>Women</td>\n      <td>Grímsnes- og Grafningshreppur</td>\n      <td>2019</td>\n      <td>2970</td>\n    </tr>\n    <tr>\n      <th>78837</th>\n      <td>Disposable income</td>\n      <td>Standard deviation - total</td>\n      <td>Women</td>\n      <td>Skeiða- og Gnúpverjahreppur</td>\n      <td>2019</td>\n      <td>2663</td>\n    </tr>\n    <tr>\n      <th>78838</th>\n      <td>Disposable income</td>\n      <td>Standard deviation - total</td>\n      <td>Women</td>\n      <td>Bláskógabyggð</td>\n      <td>2019</td>\n      <td>7005</td>\n    </tr>\n    <tr>\n      <th>78839</th>\n      <td>Disposable income</td>\n      <td>Standard deviation - total</td>\n      <td>Women</td>\n      <td>Flóahreppur</td>\n      <td>2019</td>\n      <td>2517</td>\n    </tr>\n  </tbody>\n</table>\n<p>78840 rows × 6 columns</p>\n</div>"
     },
     "metadata": {},
     "execution_count": 111
    }
   ],
   "source": [
    "df = pd.melt(df, id_vars=['Income', 'Unit', 'Sex', 'Municipality'], var_name='Year', value_name='Value')\n",
    "df"
   ]
  },
  {
   "cell_type": "code",
   "execution_count": 116,
   "metadata": {
    "tags": []
   },
   "outputs": [
    {
     "output_type": "execute_result",
     "data": {
      "text/plain": "                    Income                        Unit    Sex  \\\n0      Total annual income                Mean - total  Total   \n1      Total annual income                Mean - total  Total   \n2      Total annual income                Mean - total  Total   \n3      Total annual income                Mean - total  Total   \n4      Total annual income                Mean - total  Total   \n...                    ...                         ...    ...   \n78835    Disposable income  Standard deviation - total  Women   \n78836    Disposable income  Standard deviation - total  Women   \n78837    Disposable income  Standard deviation - total  Women   \n78838    Disposable income  Standard deviation - total  Women   \n78839    Disposable income  Standard deviation - total  Women   \n\n                        Municipality  Year    Value  \n0                              Total  1990  1116000  \n1                          Reykjavík  1990  1126000  \n2                          Kópavogur  1990  1128000  \n3                      Seltjarnarnes  1990  1299000  \n4                           Garðabær  1990  1301000  \n...                              ...   ...      ...  \n78835           Sveitarfélagið Ölfus  2019  2351000  \n78836  Grímsnes- og Grafningshreppur  2019  2970000  \n78837    Skeiða- og Gnúpverjahreppur  2019  2663000  \n78838                  Bláskógabyggð  2019  7005000  \n78839                    Flóahreppur  2019  2517000  \n\n[78840 rows x 6 columns]",
      "text/html": "<div>\n<style scoped>\n    .dataframe tbody tr th:only-of-type {\n        vertical-align: middle;\n    }\n\n    .dataframe tbody tr th {\n        vertical-align: top;\n    }\n\n    .dataframe thead th {\n        text-align: right;\n    }\n</style>\n<table border=\"1\" class=\"dataframe\">\n  <thead>\n    <tr style=\"text-align: right;\">\n      <th></th>\n      <th>Income</th>\n      <th>Unit</th>\n      <th>Sex</th>\n      <th>Municipality</th>\n      <th>Year</th>\n      <th>Value</th>\n    </tr>\n  </thead>\n  <tbody>\n    <tr>\n      <th>0</th>\n      <td>Total annual income</td>\n      <td>Mean - total</td>\n      <td>Total</td>\n      <td>Total</td>\n      <td>1990</td>\n      <td>1116000</td>\n    </tr>\n    <tr>\n      <th>1</th>\n      <td>Total annual income</td>\n      <td>Mean - total</td>\n      <td>Total</td>\n      <td>Reykjavík</td>\n      <td>1990</td>\n      <td>1126000</td>\n    </tr>\n    <tr>\n      <th>2</th>\n      <td>Total annual income</td>\n      <td>Mean - total</td>\n      <td>Total</td>\n      <td>Kópavogur</td>\n      <td>1990</td>\n      <td>1128000</td>\n    </tr>\n    <tr>\n      <th>3</th>\n      <td>Total annual income</td>\n      <td>Mean - total</td>\n      <td>Total</td>\n      <td>Seltjarnarnes</td>\n      <td>1990</td>\n      <td>1299000</td>\n    </tr>\n    <tr>\n      <th>4</th>\n      <td>Total annual income</td>\n      <td>Mean - total</td>\n      <td>Total</td>\n      <td>Garðabær</td>\n      <td>1990</td>\n      <td>1301000</td>\n    </tr>\n    <tr>\n      <th>...</th>\n      <td>...</td>\n      <td>...</td>\n      <td>...</td>\n      <td>...</td>\n      <td>...</td>\n      <td>...</td>\n    </tr>\n    <tr>\n      <th>78835</th>\n      <td>Disposable income</td>\n      <td>Standard deviation - total</td>\n      <td>Women</td>\n      <td>Sveitarfélagið Ölfus</td>\n      <td>2019</td>\n      <td>2351000</td>\n    </tr>\n    <tr>\n      <th>78836</th>\n      <td>Disposable income</td>\n      <td>Standard deviation - total</td>\n      <td>Women</td>\n      <td>Grímsnes- og Grafningshreppur</td>\n      <td>2019</td>\n      <td>2970000</td>\n    </tr>\n    <tr>\n      <th>78837</th>\n      <td>Disposable income</td>\n      <td>Standard deviation - total</td>\n      <td>Women</td>\n      <td>Skeiða- og Gnúpverjahreppur</td>\n      <td>2019</td>\n      <td>2663000</td>\n    </tr>\n    <tr>\n      <th>78838</th>\n      <td>Disposable income</td>\n      <td>Standard deviation - total</td>\n      <td>Women</td>\n      <td>Bláskógabyggð</td>\n      <td>2019</td>\n      <td>7005000</td>\n    </tr>\n    <tr>\n      <th>78839</th>\n      <td>Disposable income</td>\n      <td>Standard deviation - total</td>\n      <td>Women</td>\n      <td>Flóahreppur</td>\n      <td>2019</td>\n      <td>2517000</td>\n    </tr>\n  </tbody>\n</table>\n<p>78840 rows × 6 columns</p>\n</div>"
     },
     "metadata": {},
     "execution_count": 116
    }
   ],
   "source": [
    "# format value\n",
    "df['Value'] = df.Value.apply(lambda x: x*1000)\n",
    "df"
   ]
  },
  {
   "cell_type": "code",
   "execution_count": 117,
   "metadata": {},
   "outputs": [],
   "source": [
    "# to csv\n",
    "data_path = config.c_income_data / 'income_by_municipality_1990_2019.csv'\n",
    "df.to_csv(data_path, index=False)"
   ]
  },
  {
   "cell_type": "markdown",
   "metadata": {},
   "source": [
    "# risk_of_poverty_2004_2018.csv"
   ]
  },
  {
   "cell_type": "code",
   "execution_count": 118,
   "metadata": {},
   "outputs": [
    {
     "output_type": "execute_result",
     "data": {
      "text/plain": "     Year    Sex              Age  Rate of individuals (%)  \\\n0    2004  Total            Total                     10.0   \n1    2004  Total   0-15 years old                     11.8   \n2    2004  Total  16-24 years old                     14.7   \n3    2004  Total  25-34 years old                     10.8   \n4    2004  Total  35-44 years old                      9.1   \n..    ...    ...              ...                      ...   \n355  2018   Male  25-34 years old                     12.3   \n356  2018   Male  35-44 years old                      9.5   \n357  2018   Male  45-54 years old                      6.0   \n358  2018   Male  55-64 years old                      9.4   \n359  2018   Male   65 + years old                      5.8   \n\n     Rate lower bounds (%)  Rate upper bounds (%)  Number of individuals  \\\n0                      9.3                   10.8                  28100   \n1                     10.3                   13.3                   8186   \n2                     12.4                   17.1                   5313   \n3                      8.8                   13.1                   4201   \n4                      7.4                   11.0                   3763   \n..                     ...                    ...                    ...   \n355                    8.7                   16.6                   3274   \n356                    6.5                   13.3                   2175   \n357                    3.5                    9.4                   1268   \n358                    5.7                   14.4                   2049   \n359                    3.1                    9.6                   1384   \n\n     Number lower bounds  Number upper bounds  \n0                  26034                30260  \n1                   7188                 9259  \n2                   4500                 6202  \n3                   3411                 5090  \n4                   3059                 4557  \n..                   ...                  ...  \n355                 2324                 4416  \n356                 1483                 3031  \n357                  737                 1989  \n358                 1233                 3122  \n359                  737                 2305  \n\n[360 rows x 9 columns]",
      "text/html": "<div>\n<style scoped>\n    .dataframe tbody tr th:only-of-type {\n        vertical-align: middle;\n    }\n\n    .dataframe tbody tr th {\n        vertical-align: top;\n    }\n\n    .dataframe thead th {\n        text-align: right;\n    }\n</style>\n<table border=\"1\" class=\"dataframe\">\n  <thead>\n    <tr style=\"text-align: right;\">\n      <th></th>\n      <th>Year</th>\n      <th>Sex</th>\n      <th>Age</th>\n      <th>Rate of individuals (%)</th>\n      <th>Rate lower bounds (%)</th>\n      <th>Rate upper bounds (%)</th>\n      <th>Number of individuals</th>\n      <th>Number lower bounds</th>\n      <th>Number upper bounds</th>\n    </tr>\n  </thead>\n  <tbody>\n    <tr>\n      <th>0</th>\n      <td>2004</td>\n      <td>Total</td>\n      <td>Total</td>\n      <td>10.0</td>\n      <td>9.3</td>\n      <td>10.8</td>\n      <td>28100</td>\n      <td>26034</td>\n      <td>30260</td>\n    </tr>\n    <tr>\n      <th>1</th>\n      <td>2004</td>\n      <td>Total</td>\n      <td>0-15 years old</td>\n      <td>11.8</td>\n      <td>10.3</td>\n      <td>13.3</td>\n      <td>8186</td>\n      <td>7188</td>\n      <td>9259</td>\n    </tr>\n    <tr>\n      <th>2</th>\n      <td>2004</td>\n      <td>Total</td>\n      <td>16-24 years old</td>\n      <td>14.7</td>\n      <td>12.4</td>\n      <td>17.1</td>\n      <td>5313</td>\n      <td>4500</td>\n      <td>6202</td>\n    </tr>\n    <tr>\n      <th>3</th>\n      <td>2004</td>\n      <td>Total</td>\n      <td>25-34 years old</td>\n      <td>10.8</td>\n      <td>8.8</td>\n      <td>13.1</td>\n      <td>4201</td>\n      <td>3411</td>\n      <td>5090</td>\n    </tr>\n    <tr>\n      <th>4</th>\n      <td>2004</td>\n      <td>Total</td>\n      <td>35-44 years old</td>\n      <td>9.1</td>\n      <td>7.4</td>\n      <td>11.0</td>\n      <td>3763</td>\n      <td>3059</td>\n      <td>4557</td>\n    </tr>\n    <tr>\n      <th>...</th>\n      <td>...</td>\n      <td>...</td>\n      <td>...</td>\n      <td>...</td>\n      <td>...</td>\n      <td>...</td>\n      <td>...</td>\n      <td>...</td>\n      <td>...</td>\n    </tr>\n    <tr>\n      <th>355</th>\n      <td>2018</td>\n      <td>Male</td>\n      <td>25-34 years old</td>\n      <td>12.3</td>\n      <td>8.7</td>\n      <td>16.6</td>\n      <td>3274</td>\n      <td>2324</td>\n      <td>4416</td>\n    </tr>\n    <tr>\n      <th>356</th>\n      <td>2018</td>\n      <td>Male</td>\n      <td>35-44 years old</td>\n      <td>9.5</td>\n      <td>6.5</td>\n      <td>13.3</td>\n      <td>2175</td>\n      <td>1483</td>\n      <td>3031</td>\n    </tr>\n    <tr>\n      <th>357</th>\n      <td>2018</td>\n      <td>Male</td>\n      <td>45-54 years old</td>\n      <td>6.0</td>\n      <td>3.5</td>\n      <td>9.4</td>\n      <td>1268</td>\n      <td>737</td>\n      <td>1989</td>\n    </tr>\n    <tr>\n      <th>358</th>\n      <td>2018</td>\n      <td>Male</td>\n      <td>55-64 years old</td>\n      <td>9.4</td>\n      <td>5.7</td>\n      <td>14.4</td>\n      <td>2049</td>\n      <td>1233</td>\n      <td>3122</td>\n    </tr>\n    <tr>\n      <th>359</th>\n      <td>2018</td>\n      <td>Male</td>\n      <td>65 + years old</td>\n      <td>5.8</td>\n      <td>3.1</td>\n      <td>9.6</td>\n      <td>1384</td>\n      <td>737</td>\n      <td>2305</td>\n    </tr>\n  </tbody>\n</table>\n<p>360 rows × 9 columns</p>\n</div>"
     },
     "metadata": {},
     "execution_count": 118
    }
   ],
   "source": [
    "df = pd.read_csv(config.r_income_data / 'risk_of_poverty_2004_2018.csv')\n",
    "df"
   ]
  },
  {
   "cell_type": "code",
   "execution_count": 120,
   "metadata": {},
   "outputs": [
    {
     "output_type": "execute_result",
     "data": {
      "text/plain": "      Year    Sex              Age                     Unit   Value\n0     2004  Total            Total  Rate of individuals (%)    10.0\n1     2004  Total   0-15 years old  Rate of individuals (%)    11.8\n2     2004  Total  16-24 years old  Rate of individuals (%)    14.7\n3     2004  Total  25-34 years old  Rate of individuals (%)    10.8\n4     2004  Total  35-44 years old  Rate of individuals (%)     9.1\n...    ...    ...              ...                      ...     ...\n2155  2018   Male  25-34 years old      Number upper bounds  4416.0\n2156  2018   Male  35-44 years old      Number upper bounds  3031.0\n2157  2018   Male  45-54 years old      Number upper bounds  1989.0\n2158  2018   Male  55-64 years old      Number upper bounds  3122.0\n2159  2018   Male   65 + years old      Number upper bounds  2305.0\n\n[2160 rows x 5 columns]",
      "text/html": "<div>\n<style scoped>\n    .dataframe tbody tr th:only-of-type {\n        vertical-align: middle;\n    }\n\n    .dataframe tbody tr th {\n        vertical-align: top;\n    }\n\n    .dataframe thead th {\n        text-align: right;\n    }\n</style>\n<table border=\"1\" class=\"dataframe\">\n  <thead>\n    <tr style=\"text-align: right;\">\n      <th></th>\n      <th>Year</th>\n      <th>Sex</th>\n      <th>Age</th>\n      <th>Unit</th>\n      <th>Value</th>\n    </tr>\n  </thead>\n  <tbody>\n    <tr>\n      <th>0</th>\n      <td>2004</td>\n      <td>Total</td>\n      <td>Total</td>\n      <td>Rate of individuals (%)</td>\n      <td>10.0</td>\n    </tr>\n    <tr>\n      <th>1</th>\n      <td>2004</td>\n      <td>Total</td>\n      <td>0-15 years old</td>\n      <td>Rate of individuals (%)</td>\n      <td>11.8</td>\n    </tr>\n    <tr>\n      <th>2</th>\n      <td>2004</td>\n      <td>Total</td>\n      <td>16-24 years old</td>\n      <td>Rate of individuals (%)</td>\n      <td>14.7</td>\n    </tr>\n    <tr>\n      <th>3</th>\n      <td>2004</td>\n      <td>Total</td>\n      <td>25-34 years old</td>\n      <td>Rate of individuals (%)</td>\n      <td>10.8</td>\n    </tr>\n    <tr>\n      <th>4</th>\n      <td>2004</td>\n      <td>Total</td>\n      <td>35-44 years old</td>\n      <td>Rate of individuals (%)</td>\n      <td>9.1</td>\n    </tr>\n    <tr>\n      <th>...</th>\n      <td>...</td>\n      <td>...</td>\n      <td>...</td>\n      <td>...</td>\n      <td>...</td>\n    </tr>\n    <tr>\n      <th>2155</th>\n      <td>2018</td>\n      <td>Male</td>\n      <td>25-34 years old</td>\n      <td>Number upper bounds</td>\n      <td>4416.0</td>\n    </tr>\n    <tr>\n      <th>2156</th>\n      <td>2018</td>\n      <td>Male</td>\n      <td>35-44 years old</td>\n      <td>Number upper bounds</td>\n      <td>3031.0</td>\n    </tr>\n    <tr>\n      <th>2157</th>\n      <td>2018</td>\n      <td>Male</td>\n      <td>45-54 years old</td>\n      <td>Number upper bounds</td>\n      <td>1989.0</td>\n    </tr>\n    <tr>\n      <th>2158</th>\n      <td>2018</td>\n      <td>Male</td>\n      <td>55-64 years old</td>\n      <td>Number upper bounds</td>\n      <td>3122.0</td>\n    </tr>\n    <tr>\n      <th>2159</th>\n      <td>2018</td>\n      <td>Male</td>\n      <td>65 + years old</td>\n      <td>Number upper bounds</td>\n      <td>2305.0</td>\n    </tr>\n  </tbody>\n</table>\n<p>2160 rows × 5 columns</p>\n</div>"
     },
     "metadata": {},
     "execution_count": 120
    }
   ],
   "source": [
    "df = pd.melt(df, id_vars=['Year', 'Sex', 'Age'], var_name='Unit', value_name='Value')\n",
    "df"
   ]
  },
  {
   "cell_type": "code",
   "execution_count": 121,
   "metadata": {
    "tags": []
   },
   "outputs": [
    {
     "output_type": "stream",
     "name": "stdout",
     "text": "<class 'pandas.core.frame.DataFrame'>\nRangeIndex: 2160 entries, 0 to 2159\nData columns (total 5 columns):\n #   Column  Non-Null Count  Dtype  \n---  ------  --------------  -----  \n 0   Year    2160 non-null   int64  \n 1   Sex     2160 non-null   object \n 2   Age     2160 non-null   object \n 3   Unit    2160 non-null   object \n 4   Value   2160 non-null   float64\ndtypes: float64(1), int64(1), object(3)\nmemory usage: 84.5+ KB\n"
    }
   ],
   "source": [
    "df.info()"
   ]
  },
  {
   "cell_type": "code",
   "execution_count": 122,
   "metadata": {},
   "outputs": [],
   "source": [
    "# formot year as str\n",
    "df.Year = df.Year.astype(str)"
   ]
  },
  {
   "cell_type": "code",
   "execution_count": 123,
   "metadata": {},
   "outputs": [],
   "source": [
    "# to csv\n",
    "data_path = config.c_income_data / 'risk_of_poverty_2004_2018.csv'\n",
    "df.to_csv(data_path, index=False)"
   ]
  },
  {
   "cell_type": "markdown",
   "metadata": {},
   "source": [
    "# youth_median_monthly_inc_2005_2017.csv"
   ]
  },
  {
   "cell_type": "code",
   "execution_count": 124,
   "metadata": {},
   "outputs": [
    {
     "output_type": "execute_result",
     "data": {
      "text/plain": "    Year  5 years and younger Boys  5 years and younger Girls  \\\n0   2005                     11000                      11000   \n1   2006                     12000                      12000   \n2   2007                     13000                      13000   \n3   2008                     14000                      14000   \n4   2009                     15000                      15000   \n5   2010                     16000                      16000   \n6   2011                     16000                      16000   \n7   2012                     17000                      17000   \n8   2013                     18000                      18000   \n9   2014                     18000                      18000   \n10  2015                     19000                      18000   \n11  2016                     19000                      19000   \n12  2017                     19000                      19000   \n\n    6 - 12 years old Boys  6 - 12 years old Girls  \\\n0                   11000                   10000   \n1                   12000                   12000   \n2                   13000                   13000   \n3                   14000                   14000   \n4                   15000                   15000   \n5                   16000                   16000   \n6                   16000                   16000   \n7                   17000                   17000   \n8                   18000                   18000   \n9                   18000                   18000   \n10                  18000                   19000   \n11                  19000                   19000   \n12                  19000                   19000   \n\n    13 years old and older Boys  13 years old and older Girls  \n0                         45000                         44000  \n1                         50000                         48000  \n2                         57000                         51000  \n3                         55000                         50000  \n4                         49000                         48000  \n5                         53000                         53000  \n6                         52000                         56000  \n7                         58000                         62000  \n8                         60000                         63000  \n9                         63000                         67000  \n10                        72000                         72000  \n11                        79000                         78000  \n12                        84000                         80000  ",
      "text/html": "<div>\n<style scoped>\n    .dataframe tbody tr th:only-of-type {\n        vertical-align: middle;\n    }\n\n    .dataframe tbody tr th {\n        vertical-align: top;\n    }\n\n    .dataframe thead th {\n        text-align: right;\n    }\n</style>\n<table border=\"1\" class=\"dataframe\">\n  <thead>\n    <tr style=\"text-align: right;\">\n      <th></th>\n      <th>Year</th>\n      <th>5 years and younger Boys</th>\n      <th>5 years and younger Girls</th>\n      <th>6 - 12 years old Boys</th>\n      <th>6 - 12 years old Girls</th>\n      <th>13 years old and older Boys</th>\n      <th>13 years old and older Girls</th>\n    </tr>\n  </thead>\n  <tbody>\n    <tr>\n      <th>0</th>\n      <td>2005</td>\n      <td>11000</td>\n      <td>11000</td>\n      <td>11000</td>\n      <td>10000</td>\n      <td>45000</td>\n      <td>44000</td>\n    </tr>\n    <tr>\n      <th>1</th>\n      <td>2006</td>\n      <td>12000</td>\n      <td>12000</td>\n      <td>12000</td>\n      <td>12000</td>\n      <td>50000</td>\n      <td>48000</td>\n    </tr>\n    <tr>\n      <th>2</th>\n      <td>2007</td>\n      <td>13000</td>\n      <td>13000</td>\n      <td>13000</td>\n      <td>13000</td>\n      <td>57000</td>\n      <td>51000</td>\n    </tr>\n    <tr>\n      <th>3</th>\n      <td>2008</td>\n      <td>14000</td>\n      <td>14000</td>\n      <td>14000</td>\n      <td>14000</td>\n      <td>55000</td>\n      <td>50000</td>\n    </tr>\n    <tr>\n      <th>4</th>\n      <td>2009</td>\n      <td>15000</td>\n      <td>15000</td>\n      <td>15000</td>\n      <td>15000</td>\n      <td>49000</td>\n      <td>48000</td>\n    </tr>\n    <tr>\n      <th>5</th>\n      <td>2010</td>\n      <td>16000</td>\n      <td>16000</td>\n      <td>16000</td>\n      <td>16000</td>\n      <td>53000</td>\n      <td>53000</td>\n    </tr>\n    <tr>\n      <th>6</th>\n      <td>2011</td>\n      <td>16000</td>\n      <td>16000</td>\n      <td>16000</td>\n      <td>16000</td>\n      <td>52000</td>\n      <td>56000</td>\n    </tr>\n    <tr>\n      <th>7</th>\n      <td>2012</td>\n      <td>17000</td>\n      <td>17000</td>\n      <td>17000</td>\n      <td>17000</td>\n      <td>58000</td>\n      <td>62000</td>\n    </tr>\n    <tr>\n      <th>8</th>\n      <td>2013</td>\n      <td>18000</td>\n      <td>18000</td>\n      <td>18000</td>\n      <td>18000</td>\n      <td>60000</td>\n      <td>63000</td>\n    </tr>\n    <tr>\n      <th>9</th>\n      <td>2014</td>\n      <td>18000</td>\n      <td>18000</td>\n      <td>18000</td>\n      <td>18000</td>\n      <td>63000</td>\n      <td>67000</td>\n    </tr>\n    <tr>\n      <th>10</th>\n      <td>2015</td>\n      <td>19000</td>\n      <td>18000</td>\n      <td>18000</td>\n      <td>19000</td>\n      <td>72000</td>\n      <td>72000</td>\n    </tr>\n    <tr>\n      <th>11</th>\n      <td>2016</td>\n      <td>19000</td>\n      <td>19000</td>\n      <td>19000</td>\n      <td>19000</td>\n      <td>79000</td>\n      <td>78000</td>\n    </tr>\n    <tr>\n      <th>12</th>\n      <td>2017</td>\n      <td>19000</td>\n      <td>19000</td>\n      <td>19000</td>\n      <td>19000</td>\n      <td>84000</td>\n      <td>80000</td>\n    </tr>\n  </tbody>\n</table>\n</div>"
     },
     "metadata": {},
     "execution_count": 124
    }
   ],
   "source": [
    "df = pd.read_csv(config.r_income_data / 'youth_median_monthly_inc_2005_2017.csv')\n",
    "df"
   ]
  },
  {
   "cell_type": "code",
   "execution_count": null,
   "metadata": {},
   "outputs": [],
   "source": [
    "# need boys/girls dimension, age dimension, median_monthly_inc measure"
   ]
  },
  {
   "cell_type": "code",
   "execution_count": 126,
   "metadata": {},
   "outputs": [
    {
     "output_type": "execute_result",
     "data": {
      "text/plain": "    Year                           Sex  median_monthly_inc\n0   2005      5 years and younger Boys               11000\n1   2006      5 years and younger Boys               12000\n2   2007      5 years and younger Boys               13000\n3   2008      5 years and younger Boys               14000\n4   2009      5 years and younger Boys               15000\n..   ...                           ...                 ...\n73  2013  13 years old and older Girls               63000\n74  2014  13 years old and older Girls               67000\n75  2015  13 years old and older Girls               72000\n76  2016  13 years old and older Girls               78000\n77  2017  13 years old and older Girls               80000\n\n[78 rows x 3 columns]",
      "text/html": "<div>\n<style scoped>\n    .dataframe tbody tr th:only-of-type {\n        vertical-align: middle;\n    }\n\n    .dataframe tbody tr th {\n        vertical-align: top;\n    }\n\n    .dataframe thead th {\n        text-align: right;\n    }\n</style>\n<table border=\"1\" class=\"dataframe\">\n  <thead>\n    <tr style=\"text-align: right;\">\n      <th></th>\n      <th>Year</th>\n      <th>Sex</th>\n      <th>median_monthly_inc</th>\n    </tr>\n  </thead>\n  <tbody>\n    <tr>\n      <th>0</th>\n      <td>2005</td>\n      <td>5 years and younger Boys</td>\n      <td>11000</td>\n    </tr>\n    <tr>\n      <th>1</th>\n      <td>2006</td>\n      <td>5 years and younger Boys</td>\n      <td>12000</td>\n    </tr>\n    <tr>\n      <th>2</th>\n      <td>2007</td>\n      <td>5 years and younger Boys</td>\n      <td>13000</td>\n    </tr>\n    <tr>\n      <th>3</th>\n      <td>2008</td>\n      <td>5 years and younger Boys</td>\n      <td>14000</td>\n    </tr>\n    <tr>\n      <th>4</th>\n      <td>2009</td>\n      <td>5 years and younger Boys</td>\n      <td>15000</td>\n    </tr>\n    <tr>\n      <th>...</th>\n      <td>...</td>\n      <td>...</td>\n      <td>...</td>\n    </tr>\n    <tr>\n      <th>73</th>\n      <td>2013</td>\n      <td>13 years old and older Girls</td>\n      <td>63000</td>\n    </tr>\n    <tr>\n      <th>74</th>\n      <td>2014</td>\n      <td>13 years old and older Girls</td>\n      <td>67000</td>\n    </tr>\n    <tr>\n      <th>75</th>\n      <td>2015</td>\n      <td>13 years old and older Girls</td>\n      <td>72000</td>\n    </tr>\n    <tr>\n      <th>76</th>\n      <td>2016</td>\n      <td>13 years old and older Girls</td>\n      <td>78000</td>\n    </tr>\n    <tr>\n      <th>77</th>\n      <td>2017</td>\n      <td>13 years old and older Girls</td>\n      <td>80000</td>\n    </tr>\n  </tbody>\n</table>\n<p>78 rows × 3 columns</p>\n</div>"
     },
     "metadata": {},
     "execution_count": 126
    }
   ],
   "source": [
    "df = pd.melt(df, id_vars='Year', var_name='Sex', value_name='median_monthly_inc')\n",
    "df"
   ]
  },
  {
   "cell_type": "code",
   "execution_count": 127,
   "metadata": {},
   "outputs": [
    {
     "output_type": "execute_result",
     "data": {
      "text/plain": "    Year                           Sex  median_monthly_inc  \\\n0   2005      5 years and younger Boys               11000   \n1   2006      5 years and younger Boys               12000   \n2   2007      5 years and younger Boys               13000   \n3   2008      5 years and younger Boys               14000   \n4   2009      5 years and younger Boys               15000   \n..   ...                           ...                 ...   \n73  2013  13 years old and older Girls               63000   \n74  2014  13 years old and older Girls               67000   \n75  2015  13 years old and older Girls               72000   \n76  2016  13 years old and older Girls               78000   \n77  2017  13 years old and older Girls               80000   \n\n                       Age  \n0      5 years and younger  \n1      5 years and younger  \n2      5 years and younger  \n3      5 years and younger  \n4      5 years and younger  \n..                     ...  \n73  13 years old and older  \n74  13 years old and older  \n75  13 years old and older  \n76  13 years old and older  \n77  13 years old and older  \n\n[78 rows x 4 columns]",
      "text/html": "<div>\n<style scoped>\n    .dataframe tbody tr th:only-of-type {\n        vertical-align: middle;\n    }\n\n    .dataframe tbody tr th {\n        vertical-align: top;\n    }\n\n    .dataframe thead th {\n        text-align: right;\n    }\n</style>\n<table border=\"1\" class=\"dataframe\">\n  <thead>\n    <tr style=\"text-align: right;\">\n      <th></th>\n      <th>Year</th>\n      <th>Sex</th>\n      <th>median_monthly_inc</th>\n      <th>Age</th>\n    </tr>\n  </thead>\n  <tbody>\n    <tr>\n      <th>0</th>\n      <td>2005</td>\n      <td>5 years and younger Boys</td>\n      <td>11000</td>\n      <td>5 years and younger</td>\n    </tr>\n    <tr>\n      <th>1</th>\n      <td>2006</td>\n      <td>5 years and younger Boys</td>\n      <td>12000</td>\n      <td>5 years and younger</td>\n    </tr>\n    <tr>\n      <th>2</th>\n      <td>2007</td>\n      <td>5 years and younger Boys</td>\n      <td>13000</td>\n      <td>5 years and younger</td>\n    </tr>\n    <tr>\n      <th>3</th>\n      <td>2008</td>\n      <td>5 years and younger Boys</td>\n      <td>14000</td>\n      <td>5 years and younger</td>\n    </tr>\n    <tr>\n      <th>4</th>\n      <td>2009</td>\n      <td>5 years and younger Boys</td>\n      <td>15000</td>\n      <td>5 years and younger</td>\n    </tr>\n    <tr>\n      <th>...</th>\n      <td>...</td>\n      <td>...</td>\n      <td>...</td>\n      <td>...</td>\n    </tr>\n    <tr>\n      <th>73</th>\n      <td>2013</td>\n      <td>13 years old and older Girls</td>\n      <td>63000</td>\n      <td>13 years old and older</td>\n    </tr>\n    <tr>\n      <th>74</th>\n      <td>2014</td>\n      <td>13 years old and older Girls</td>\n      <td>67000</td>\n      <td>13 years old and older</td>\n    </tr>\n    <tr>\n      <th>75</th>\n      <td>2015</td>\n      <td>13 years old and older Girls</td>\n      <td>72000</td>\n      <td>13 years old and older</td>\n    </tr>\n    <tr>\n      <th>76</th>\n      <td>2016</td>\n      <td>13 years old and older Girls</td>\n      <td>78000</td>\n      <td>13 years old and older</td>\n    </tr>\n    <tr>\n      <th>77</th>\n      <td>2017</td>\n      <td>13 years old and older Girls</td>\n      <td>80000</td>\n      <td>13 years old and older</td>\n    </tr>\n  </tbody>\n</table>\n<p>78 rows × 4 columns</p>\n</div>"
     },
     "metadata": {},
     "execution_count": 127
    }
   ],
   "source": [
    "# create age column\n",
    "def get_age(cat):\n",
    "    split_words = cat.split()\n",
    "    split_words.pop(-1) # remove sex\n",
    "    age = ' '.join(split_words)\n",
    "    return(age)\n",
    "\n",
    "df['Age'] = df.Sex.apply(get_age)\n",
    "df"
   ]
  },
  {
   "cell_type": "code",
   "execution_count": 128,
   "metadata": {},
   "outputs": [
    {
     "output_type": "execute_result",
     "data": {
      "text/plain": "    Year    Sex  median_monthly_inc                     Age\n0   2005   Boys               11000     5 years and younger\n1   2006   Boys               12000     5 years and younger\n2   2007   Boys               13000     5 years and younger\n3   2008   Boys               14000     5 years and younger\n4   2009   Boys               15000     5 years and younger\n..   ...    ...                 ...                     ...\n73  2013  Girls               63000  13 years old and older\n74  2014  Girls               67000  13 years old and older\n75  2015  Girls               72000  13 years old and older\n76  2016  Girls               78000  13 years old and older\n77  2017  Girls               80000  13 years old and older\n\n[78 rows x 4 columns]",
      "text/html": "<div>\n<style scoped>\n    .dataframe tbody tr th:only-of-type {\n        vertical-align: middle;\n    }\n\n    .dataframe tbody tr th {\n        vertical-align: top;\n    }\n\n    .dataframe thead th {\n        text-align: right;\n    }\n</style>\n<table border=\"1\" class=\"dataframe\">\n  <thead>\n    <tr style=\"text-align: right;\">\n      <th></th>\n      <th>Year</th>\n      <th>Sex</th>\n      <th>median_monthly_inc</th>\n      <th>Age</th>\n    </tr>\n  </thead>\n  <tbody>\n    <tr>\n      <th>0</th>\n      <td>2005</td>\n      <td>Boys</td>\n      <td>11000</td>\n      <td>5 years and younger</td>\n    </tr>\n    <tr>\n      <th>1</th>\n      <td>2006</td>\n      <td>Boys</td>\n      <td>12000</td>\n      <td>5 years and younger</td>\n    </tr>\n    <tr>\n      <th>2</th>\n      <td>2007</td>\n      <td>Boys</td>\n      <td>13000</td>\n      <td>5 years and younger</td>\n    </tr>\n    <tr>\n      <th>3</th>\n      <td>2008</td>\n      <td>Boys</td>\n      <td>14000</td>\n      <td>5 years and younger</td>\n    </tr>\n    <tr>\n      <th>4</th>\n      <td>2009</td>\n      <td>Boys</td>\n      <td>15000</td>\n      <td>5 years and younger</td>\n    </tr>\n    <tr>\n      <th>...</th>\n      <td>...</td>\n      <td>...</td>\n      <td>...</td>\n      <td>...</td>\n    </tr>\n    <tr>\n      <th>73</th>\n      <td>2013</td>\n      <td>Girls</td>\n      <td>63000</td>\n      <td>13 years old and older</td>\n    </tr>\n    <tr>\n      <th>74</th>\n      <td>2014</td>\n      <td>Girls</td>\n      <td>67000</td>\n      <td>13 years old and older</td>\n    </tr>\n    <tr>\n      <th>75</th>\n      <td>2015</td>\n      <td>Girls</td>\n      <td>72000</td>\n      <td>13 years old and older</td>\n    </tr>\n    <tr>\n      <th>76</th>\n      <td>2016</td>\n      <td>Girls</td>\n      <td>78000</td>\n      <td>13 years old and older</td>\n    </tr>\n    <tr>\n      <th>77</th>\n      <td>2017</td>\n      <td>Girls</td>\n      <td>80000</td>\n      <td>13 years old and older</td>\n    </tr>\n  </tbody>\n</table>\n<p>78 rows × 4 columns</p>\n</div>"
     },
     "metadata": {},
     "execution_count": 128
    }
   ],
   "source": [
    "# format sex column\n",
    "def get_sex(cat):\n",
    "    split_words = cat.split()\n",
    "    sex = split_words.pop(-1)\n",
    "    return(sex)\n",
    "\n",
    "df.Sex = df.Sex.apply(get_sex)\n",
    "df"
   ]
  },
  {
   "cell_type": "code",
   "execution_count": 129,
   "metadata": {},
   "outputs": [
    {
     "output_type": "execute_result",
     "data": {
      "text/plain": "    Year    Sex                     Age  median_monthly_inc\n0   2005   Boys     5 years and younger               11000\n1   2006   Boys     5 years and younger               12000\n2   2007   Boys     5 years and younger               13000\n3   2008   Boys     5 years and younger               14000\n4   2009   Boys     5 years and younger               15000\n..   ...    ...                     ...                 ...\n73  2013  Girls  13 years old and older               63000\n74  2014  Girls  13 years old and older               67000\n75  2015  Girls  13 years old and older               72000\n76  2016  Girls  13 years old and older               78000\n77  2017  Girls  13 years old and older               80000\n\n[78 rows x 4 columns]",
      "text/html": "<div>\n<style scoped>\n    .dataframe tbody tr th:only-of-type {\n        vertical-align: middle;\n    }\n\n    .dataframe tbody tr th {\n        vertical-align: top;\n    }\n\n    .dataframe thead th {\n        text-align: right;\n    }\n</style>\n<table border=\"1\" class=\"dataframe\">\n  <thead>\n    <tr style=\"text-align: right;\">\n      <th></th>\n      <th>Year</th>\n      <th>Sex</th>\n      <th>Age</th>\n      <th>median_monthly_inc</th>\n    </tr>\n  </thead>\n  <tbody>\n    <tr>\n      <th>0</th>\n      <td>2005</td>\n      <td>Boys</td>\n      <td>5 years and younger</td>\n      <td>11000</td>\n    </tr>\n    <tr>\n      <th>1</th>\n      <td>2006</td>\n      <td>Boys</td>\n      <td>5 years and younger</td>\n      <td>12000</td>\n    </tr>\n    <tr>\n      <th>2</th>\n      <td>2007</td>\n      <td>Boys</td>\n      <td>5 years and younger</td>\n      <td>13000</td>\n    </tr>\n    <tr>\n      <th>3</th>\n      <td>2008</td>\n      <td>Boys</td>\n      <td>5 years and younger</td>\n      <td>14000</td>\n    </tr>\n    <tr>\n      <th>4</th>\n      <td>2009</td>\n      <td>Boys</td>\n      <td>5 years and younger</td>\n      <td>15000</td>\n    </tr>\n    <tr>\n      <th>...</th>\n      <td>...</td>\n      <td>...</td>\n      <td>...</td>\n      <td>...</td>\n    </tr>\n    <tr>\n      <th>73</th>\n      <td>2013</td>\n      <td>Girls</td>\n      <td>13 years old and older</td>\n      <td>63000</td>\n    </tr>\n    <tr>\n      <th>74</th>\n      <td>2014</td>\n      <td>Girls</td>\n      <td>13 years old and older</td>\n      <td>67000</td>\n    </tr>\n    <tr>\n      <th>75</th>\n      <td>2015</td>\n      <td>Girls</td>\n      <td>13 years old and older</td>\n      <td>72000</td>\n    </tr>\n    <tr>\n      <th>76</th>\n      <td>2016</td>\n      <td>Girls</td>\n      <td>13 years old and older</td>\n      <td>78000</td>\n    </tr>\n    <tr>\n      <th>77</th>\n      <td>2017</td>\n      <td>Girls</td>\n      <td>13 years old and older</td>\n      <td>80000</td>\n    </tr>\n  </tbody>\n</table>\n<p>78 rows × 4 columns</p>\n</div>"
     },
     "metadata": {},
     "execution_count": 129
    }
   ],
   "source": [
    "df = df[['Year', 'Sex', 'Age', 'median_monthly_inc']]\n",
    "df"
   ]
  },
  {
   "cell_type": "code",
   "execution_count": 130,
   "metadata": {},
   "outputs": [],
   "source": [
    "# to csv\n",
    "data_path = config.c_income_data / 'youth_median_monthly_inc_2005_2017.csv'\n",
    "df.to_csv(data_path, index=False)"
   ]
  }
 ]
}