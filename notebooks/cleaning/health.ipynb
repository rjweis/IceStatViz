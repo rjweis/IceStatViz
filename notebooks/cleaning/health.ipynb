{
 "metadata": {
  "language_info": {
   "codemirror_mode": {
    "name": "ipython",
    "version": 3
   },
   "file_extension": ".py",
   "mimetype": "text/x-python",
   "name": "python",
   "nbconvert_exporter": "python",
   "pygments_lexer": "ipython3",
   "version": "3.8.5-final"
  },
  "orig_nbformat": 2,
  "kernelspec": {
   "name": "python_defaultSpec_1599761137396",
   "display_name": "Python 3.8.5 64-bit ('icestaviz': conda)"
  }
 },
 "nbformat": 4,
 "nbformat_minor": 2,
 "cells": [
  {
   "cell_type": "code",
   "execution_count": 1,
   "metadata": {},
   "outputs": [],
   "source": [
    "import mypathsetup\n",
    "import config\n",
    "import pandas as pd"
   ]
  },
  {
   "cell_type": "markdown",
   "metadata": {},
   "source": [
    "# alcohol_1980_2018"
   ]
  },
  {
   "cell_type": "code",
   "execution_count": 2,
   "metadata": {},
   "outputs": [
    {
     "output_type": "execute_result",
     "data": {
      "text/plain": "                      Litres of pure alcohol  Year  Total  Beer  Wine  Spirits\n0                      Litres per inhabitant  1980   3.14     .  0.91     2.23\n1                      Litres per inhabitant  1981   3.16     .  0.94     2.22\n2                      Litres per inhabitant  1982   3.11     .  1.01     2.10\n3                      Litres per inhabitant  1983   3.22     .  1.13     2.09\n4                      Litres per inhabitant  1984   3.28     .  1.07     2.21\n..                                       ...   ...    ...   ...   ...      ...\n73  Litres per inhabitant 15 years and older  2014   7.01  3.87  2.02     1.13\n74  Litres per inhabitant 15 years and older  2015   7.66  4.26  2.15     1.25\n75  Litres per inhabitant 15 years and older  2016   7.50  4.24  2.09     1.16\n76  Litres per inhabitant 15 years and older  2017   7.75  4.42  2.14     1.19\n77  Litres per inhabitant 15 years and older  2018   7.72  4.39  2.11     1.22\n\n[78 rows x 6 columns]",
      "text/html": "<div>\n<style scoped>\n    .dataframe tbody tr th:only-of-type {\n        vertical-align: middle;\n    }\n\n    .dataframe tbody tr th {\n        vertical-align: top;\n    }\n\n    .dataframe thead th {\n        text-align: right;\n    }\n</style>\n<table border=\"1\" class=\"dataframe\">\n  <thead>\n    <tr style=\"text-align: right;\">\n      <th></th>\n      <th>Litres of pure alcohol</th>\n      <th>Year</th>\n      <th>Total</th>\n      <th>Beer</th>\n      <th>Wine</th>\n      <th>Spirits</th>\n    </tr>\n  </thead>\n  <tbody>\n    <tr>\n      <th>0</th>\n      <td>Litres per inhabitant</td>\n      <td>1980</td>\n      <td>3.14</td>\n      <td>.</td>\n      <td>0.91</td>\n      <td>2.23</td>\n    </tr>\n    <tr>\n      <th>1</th>\n      <td>Litres per inhabitant</td>\n      <td>1981</td>\n      <td>3.16</td>\n      <td>.</td>\n      <td>0.94</td>\n      <td>2.22</td>\n    </tr>\n    <tr>\n      <th>2</th>\n      <td>Litres per inhabitant</td>\n      <td>1982</td>\n      <td>3.11</td>\n      <td>.</td>\n      <td>1.01</td>\n      <td>2.10</td>\n    </tr>\n    <tr>\n      <th>3</th>\n      <td>Litres per inhabitant</td>\n      <td>1983</td>\n      <td>3.22</td>\n      <td>.</td>\n      <td>1.13</td>\n      <td>2.09</td>\n    </tr>\n    <tr>\n      <th>4</th>\n      <td>Litres per inhabitant</td>\n      <td>1984</td>\n      <td>3.28</td>\n      <td>.</td>\n      <td>1.07</td>\n      <td>2.21</td>\n    </tr>\n    <tr>\n      <th>...</th>\n      <td>...</td>\n      <td>...</td>\n      <td>...</td>\n      <td>...</td>\n      <td>...</td>\n      <td>...</td>\n    </tr>\n    <tr>\n      <th>73</th>\n      <td>Litres per inhabitant 15 years and older</td>\n      <td>2014</td>\n      <td>7.01</td>\n      <td>3.87</td>\n      <td>2.02</td>\n      <td>1.13</td>\n    </tr>\n    <tr>\n      <th>74</th>\n      <td>Litres per inhabitant 15 years and older</td>\n      <td>2015</td>\n      <td>7.66</td>\n      <td>4.26</td>\n      <td>2.15</td>\n      <td>1.25</td>\n    </tr>\n    <tr>\n      <th>75</th>\n      <td>Litres per inhabitant 15 years and older</td>\n      <td>2016</td>\n      <td>7.50</td>\n      <td>4.24</td>\n      <td>2.09</td>\n      <td>1.16</td>\n    </tr>\n    <tr>\n      <th>76</th>\n      <td>Litres per inhabitant 15 years and older</td>\n      <td>2017</td>\n      <td>7.75</td>\n      <td>4.42</td>\n      <td>2.14</td>\n      <td>1.19</td>\n    </tr>\n    <tr>\n      <th>77</th>\n      <td>Litres per inhabitant 15 years and older</td>\n      <td>2018</td>\n      <td>7.72</td>\n      <td>4.39</td>\n      <td>2.11</td>\n      <td>1.22</td>\n    </tr>\n  </tbody>\n</table>\n<p>78 rows × 6 columns</p>\n</div>"
     },
     "metadata": {},
     "execution_count": 2
    }
   ],
   "source": [
    "df = pd.read_csv(config.r_health_data / 'alcohol_1980_2018.csv')\n",
    "df"
   ]
  },
  {
   "cell_type": "code",
   "execution_count": 3,
   "metadata": {},
   "outputs": [
    {
     "output_type": "execute_result",
     "data": {
      "text/plain": "array(['Litres per inhabitant',\n       'Litres per inhabitant 15 years and older'], dtype=object)"
     },
     "metadata": {},
     "execution_count": 3
    }
   ],
   "source": [
    "df['Litres of pure alcohol'].unique()"
   ]
  },
  {
   "cell_type": "code",
   "execution_count": 4,
   "metadata": {},
   "outputs": [
    {
     "output_type": "execute_result",
     "data": {
      "text/plain": "   pop_vs_15+  Year  Total  Beer  Wine  Spirits\n0   total_pop  1980   3.14     .  0.91     2.23\n1   total_pop  1981   3.16     .  0.94     2.22\n2   total_pop  1982   3.11     .  1.01     2.10\n3   total_pop  1983   3.22     .  1.13     2.09\n4   total_pop  1984   3.28     .  1.07     2.21\n..        ...   ...    ...   ...   ...      ...\n73        15+  2014   7.01  3.87  2.02     1.13\n74        15+  2015   7.66  4.26  2.15     1.25\n75        15+  2016   7.50  4.24  2.09     1.16\n76        15+  2017   7.75  4.42  2.14     1.19\n77        15+  2018   7.72  4.39  2.11     1.22\n\n[78 rows x 6 columns]",
      "text/html": "<div>\n<style scoped>\n    .dataframe tbody tr th:only-of-type {\n        vertical-align: middle;\n    }\n\n    .dataframe tbody tr th {\n        vertical-align: top;\n    }\n\n    .dataframe thead th {\n        text-align: right;\n    }\n</style>\n<table border=\"1\" class=\"dataframe\">\n  <thead>\n    <tr style=\"text-align: right;\">\n      <th></th>\n      <th>pop_vs_15+</th>\n      <th>Year</th>\n      <th>Total</th>\n      <th>Beer</th>\n      <th>Wine</th>\n      <th>Spirits</th>\n    </tr>\n  </thead>\n  <tbody>\n    <tr>\n      <th>0</th>\n      <td>total_pop</td>\n      <td>1980</td>\n      <td>3.14</td>\n      <td>.</td>\n      <td>0.91</td>\n      <td>2.23</td>\n    </tr>\n    <tr>\n      <th>1</th>\n      <td>total_pop</td>\n      <td>1981</td>\n      <td>3.16</td>\n      <td>.</td>\n      <td>0.94</td>\n      <td>2.22</td>\n    </tr>\n    <tr>\n      <th>2</th>\n      <td>total_pop</td>\n      <td>1982</td>\n      <td>3.11</td>\n      <td>.</td>\n      <td>1.01</td>\n      <td>2.10</td>\n    </tr>\n    <tr>\n      <th>3</th>\n      <td>total_pop</td>\n      <td>1983</td>\n      <td>3.22</td>\n      <td>.</td>\n      <td>1.13</td>\n      <td>2.09</td>\n    </tr>\n    <tr>\n      <th>4</th>\n      <td>total_pop</td>\n      <td>1984</td>\n      <td>3.28</td>\n      <td>.</td>\n      <td>1.07</td>\n      <td>2.21</td>\n    </tr>\n    <tr>\n      <th>...</th>\n      <td>...</td>\n      <td>...</td>\n      <td>...</td>\n      <td>...</td>\n      <td>...</td>\n      <td>...</td>\n    </tr>\n    <tr>\n      <th>73</th>\n      <td>15+</td>\n      <td>2014</td>\n      <td>7.01</td>\n      <td>3.87</td>\n      <td>2.02</td>\n      <td>1.13</td>\n    </tr>\n    <tr>\n      <th>74</th>\n      <td>15+</td>\n      <td>2015</td>\n      <td>7.66</td>\n      <td>4.26</td>\n      <td>2.15</td>\n      <td>1.25</td>\n    </tr>\n    <tr>\n      <th>75</th>\n      <td>15+</td>\n      <td>2016</td>\n      <td>7.50</td>\n      <td>4.24</td>\n      <td>2.09</td>\n      <td>1.16</td>\n    </tr>\n    <tr>\n      <th>76</th>\n      <td>15+</td>\n      <td>2017</td>\n      <td>7.75</td>\n      <td>4.42</td>\n      <td>2.14</td>\n      <td>1.19</td>\n    </tr>\n    <tr>\n      <th>77</th>\n      <td>15+</td>\n      <td>2018</td>\n      <td>7.72</td>\n      <td>4.39</td>\n      <td>2.11</td>\n      <td>1.22</td>\n    </tr>\n  </tbody>\n</table>\n<p>78 rows × 6 columns</p>\n</div>"
     },
     "metadata": {},
     "execution_count": 4
    }
   ],
   "source": [
    "# rename litres of pure alc categories\n",
    "def rename_cat(cat):\n",
    "    if cat == 'Litres per inhabitant':\n",
    "        return('total_pop')\n",
    "    if cat == 'Litres per inhabitant 15 years and older':\n",
    "        return('15+')\n",
    "\n",
    "df = df.rename(columns={'Litres of pure alcohol': 'pop_vs_15+'})\n",
    "\n",
    "df['pop_vs_15+'] = df['pop_vs_15+'].apply(rename_cat)\n",
    "\n",
    "df"
   ]
  },
  {
   "cell_type": "code",
   "execution_count": 5,
   "metadata": {},
   "outputs": [
    {
     "output_type": "execute_result",
     "data": {
      "text/plain": "   pop_vs_15+  Year  all_alc  Beer  Wine  Spirits\n0   total_pop  1980     3.14     .  0.91     2.23\n1   total_pop  1981     3.16     .  0.94     2.22\n2   total_pop  1982     3.11     .  1.01     2.10\n3   total_pop  1983     3.22     .  1.13     2.09\n4   total_pop  1984     3.28     .  1.07     2.21\n..        ...   ...      ...   ...   ...      ...\n73        15+  2014     7.01  3.87  2.02     1.13\n74        15+  2015     7.66  4.26  2.15     1.25\n75        15+  2016     7.50  4.24  2.09     1.16\n76        15+  2017     7.75  4.42  2.14     1.19\n77        15+  2018     7.72  4.39  2.11     1.22\n\n[78 rows x 6 columns]",
      "text/html": "<div>\n<style scoped>\n    .dataframe tbody tr th:only-of-type {\n        vertical-align: middle;\n    }\n\n    .dataframe tbody tr th {\n        vertical-align: top;\n    }\n\n    .dataframe thead th {\n        text-align: right;\n    }\n</style>\n<table border=\"1\" class=\"dataframe\">\n  <thead>\n    <tr style=\"text-align: right;\">\n      <th></th>\n      <th>pop_vs_15+</th>\n      <th>Year</th>\n      <th>all_alc</th>\n      <th>Beer</th>\n      <th>Wine</th>\n      <th>Spirits</th>\n    </tr>\n  </thead>\n  <tbody>\n    <tr>\n      <th>0</th>\n      <td>total_pop</td>\n      <td>1980</td>\n      <td>3.14</td>\n      <td>.</td>\n      <td>0.91</td>\n      <td>2.23</td>\n    </tr>\n    <tr>\n      <th>1</th>\n      <td>total_pop</td>\n      <td>1981</td>\n      <td>3.16</td>\n      <td>.</td>\n      <td>0.94</td>\n      <td>2.22</td>\n    </tr>\n    <tr>\n      <th>2</th>\n      <td>total_pop</td>\n      <td>1982</td>\n      <td>3.11</td>\n      <td>.</td>\n      <td>1.01</td>\n      <td>2.10</td>\n    </tr>\n    <tr>\n      <th>3</th>\n      <td>total_pop</td>\n      <td>1983</td>\n      <td>3.22</td>\n      <td>.</td>\n      <td>1.13</td>\n      <td>2.09</td>\n    </tr>\n    <tr>\n      <th>4</th>\n      <td>total_pop</td>\n      <td>1984</td>\n      <td>3.28</td>\n      <td>.</td>\n      <td>1.07</td>\n      <td>2.21</td>\n    </tr>\n    <tr>\n      <th>...</th>\n      <td>...</td>\n      <td>...</td>\n      <td>...</td>\n      <td>...</td>\n      <td>...</td>\n      <td>...</td>\n    </tr>\n    <tr>\n      <th>73</th>\n      <td>15+</td>\n      <td>2014</td>\n      <td>7.01</td>\n      <td>3.87</td>\n      <td>2.02</td>\n      <td>1.13</td>\n    </tr>\n    <tr>\n      <th>74</th>\n      <td>15+</td>\n      <td>2015</td>\n      <td>7.66</td>\n      <td>4.26</td>\n      <td>2.15</td>\n      <td>1.25</td>\n    </tr>\n    <tr>\n      <th>75</th>\n      <td>15+</td>\n      <td>2016</td>\n      <td>7.50</td>\n      <td>4.24</td>\n      <td>2.09</td>\n      <td>1.16</td>\n    </tr>\n    <tr>\n      <th>76</th>\n      <td>15+</td>\n      <td>2017</td>\n      <td>7.75</td>\n      <td>4.42</td>\n      <td>2.14</td>\n      <td>1.19</td>\n    </tr>\n    <tr>\n      <th>77</th>\n      <td>15+</td>\n      <td>2018</td>\n      <td>7.72</td>\n      <td>4.39</td>\n      <td>2.11</td>\n      <td>1.22</td>\n    </tr>\n  </tbody>\n</table>\n<p>78 rows × 6 columns</p>\n</div>"
     },
     "metadata": {},
     "execution_count": 5
    }
   ],
   "source": [
    "df = df.rename(columns={'Total': 'all_alc'})\n",
    "df"
   ]
  },
  {
   "cell_type": "code",
   "execution_count": 7,
   "metadata": {},
   "outputs": [
    {
     "output_type": "execute_result",
     "data": {
      "text/plain": "    pop_vs_15+  Year alc_category liters_per_inhabitant\n0    total_pop  1980      all_alc                  3.14\n1    total_pop  1981      all_alc                  3.16\n2    total_pop  1982      all_alc                  3.11\n3    total_pop  1983      all_alc                  3.22\n4    total_pop  1984      all_alc                  3.28\n..         ...   ...          ...                   ...\n307        15+  2014      Spirits                  1.13\n308        15+  2015      Spirits                  1.25\n309        15+  2016      Spirits                  1.16\n310        15+  2017      Spirits                  1.19\n311        15+  2018      Spirits                  1.22\n\n[312 rows x 4 columns]",
      "text/html": "<div>\n<style scoped>\n    .dataframe tbody tr th:only-of-type {\n        vertical-align: middle;\n    }\n\n    .dataframe tbody tr th {\n        vertical-align: top;\n    }\n\n    .dataframe thead th {\n        text-align: right;\n    }\n</style>\n<table border=\"1\" class=\"dataframe\">\n  <thead>\n    <tr style=\"text-align: right;\">\n      <th></th>\n      <th>pop_vs_15+</th>\n      <th>Year</th>\n      <th>alc_category</th>\n      <th>liters_per_inhabitant</th>\n    </tr>\n  </thead>\n  <tbody>\n    <tr>\n      <th>0</th>\n      <td>total_pop</td>\n      <td>1980</td>\n      <td>all_alc</td>\n      <td>3.14</td>\n    </tr>\n    <tr>\n      <th>1</th>\n      <td>total_pop</td>\n      <td>1981</td>\n      <td>all_alc</td>\n      <td>3.16</td>\n    </tr>\n    <tr>\n      <th>2</th>\n      <td>total_pop</td>\n      <td>1982</td>\n      <td>all_alc</td>\n      <td>3.11</td>\n    </tr>\n    <tr>\n      <th>3</th>\n      <td>total_pop</td>\n      <td>1983</td>\n      <td>all_alc</td>\n      <td>3.22</td>\n    </tr>\n    <tr>\n      <th>4</th>\n      <td>total_pop</td>\n      <td>1984</td>\n      <td>all_alc</td>\n      <td>3.28</td>\n    </tr>\n    <tr>\n      <th>...</th>\n      <td>...</td>\n      <td>...</td>\n      <td>...</td>\n      <td>...</td>\n    </tr>\n    <tr>\n      <th>307</th>\n      <td>15+</td>\n      <td>2014</td>\n      <td>Spirits</td>\n      <td>1.13</td>\n    </tr>\n    <tr>\n      <th>308</th>\n      <td>15+</td>\n      <td>2015</td>\n      <td>Spirits</td>\n      <td>1.25</td>\n    </tr>\n    <tr>\n      <th>309</th>\n      <td>15+</td>\n      <td>2016</td>\n      <td>Spirits</td>\n      <td>1.16</td>\n    </tr>\n    <tr>\n      <th>310</th>\n      <td>15+</td>\n      <td>2017</td>\n      <td>Spirits</td>\n      <td>1.19</td>\n    </tr>\n    <tr>\n      <th>311</th>\n      <td>15+</td>\n      <td>2018</td>\n      <td>Spirits</td>\n      <td>1.22</td>\n    </tr>\n  </tbody>\n</table>\n<p>312 rows × 4 columns</p>\n</div>"
     },
     "metadata": {},
     "execution_count": 7
    }
   ],
   "source": [
    "df = pd.melt(df, id_vars=['pop_vs_15+', 'Year'], var_name='alc_category', value_name='liters_per_inhabitant')\n",
    "df"
   ]
  },
  {
   "cell_type": "code",
   "execution_count": 8,
   "metadata": {},
   "outputs": [],
   "source": [
    "# to csv\n",
    "data_path = config.c_health_data / 'alcohol_1980_2018.csv'\n",
    "df.to_csv(data_path, index=False)"
   ]
  },
  {
   "cell_type": "markdown",
   "metadata": {},
   "source": [
    "# good_health_2004_2018"
   ]
  },
  {
   "cell_type": "code",
   "execution_count": 9,
   "metadata": {},
   "outputs": [
    {
     "output_type": "execute_result",
     "data": {
      "text/plain": "     Year    Sex        Income quintiles  Proportion of individuals (%)  \\\n0    2004  Total                   Total                           78.7   \n1    2004  Total   Bottom quintile 1-20%                           68.6   \n2    2004  Total  Second quintile 21-40%                           74.4   \n3    2004  Total   Third quintile 41-60%                           80.3   \n4    2004  Total  Fourth quintile 61-80%                           83.1   \n..    ...    ...                     ...                            ...   \n265  2018  Males   Bottom quintile 1-20%                           71.2   \n266  2018  Males  Second quintile 21-40%                           75.5   \n267  2018  Males   Third quintile 41-60%                           81.8   \n268  2018  Males  Fourth quintile 61-80%                           83.6   \n269  2018  Males    Top quintile 81-100%                           88.5   \n\n     Proportion lower bounds (%)  Proportion upper bounds (%)  \n0                           77.1                         80.2  \n1                           64.7                         72.4  \n2                           70.6                         78.1  \n3                           76.8                         83.6  \n4                           79.8                         86.0  \n..                           ...                          ...  \n265                         65.4                         76.6  \n266                         70.2                         80.3  \n267                         77.0                         86.0  \n268                         79.1                         87.6  \n269                         84.8                         91.6  \n\n[270 rows x 6 columns]",
      "text/html": "<div>\n<style scoped>\n    .dataframe tbody tr th:only-of-type {\n        vertical-align: middle;\n    }\n\n    .dataframe tbody tr th {\n        vertical-align: top;\n    }\n\n    .dataframe thead th {\n        text-align: right;\n    }\n</style>\n<table border=\"1\" class=\"dataframe\">\n  <thead>\n    <tr style=\"text-align: right;\">\n      <th></th>\n      <th>Year</th>\n      <th>Sex</th>\n      <th>Income quintiles</th>\n      <th>Proportion of individuals (%)</th>\n      <th>Proportion lower bounds (%)</th>\n      <th>Proportion upper bounds (%)</th>\n    </tr>\n  </thead>\n  <tbody>\n    <tr>\n      <th>0</th>\n      <td>2004</td>\n      <td>Total</td>\n      <td>Total</td>\n      <td>78.7</td>\n      <td>77.1</td>\n      <td>80.2</td>\n    </tr>\n    <tr>\n      <th>1</th>\n      <td>2004</td>\n      <td>Total</td>\n      <td>Bottom quintile 1-20%</td>\n      <td>68.6</td>\n      <td>64.7</td>\n      <td>72.4</td>\n    </tr>\n    <tr>\n      <th>2</th>\n      <td>2004</td>\n      <td>Total</td>\n      <td>Second quintile 21-40%</td>\n      <td>74.4</td>\n      <td>70.6</td>\n      <td>78.1</td>\n    </tr>\n    <tr>\n      <th>3</th>\n      <td>2004</td>\n      <td>Total</td>\n      <td>Third quintile 41-60%</td>\n      <td>80.3</td>\n      <td>76.8</td>\n      <td>83.6</td>\n    </tr>\n    <tr>\n      <th>4</th>\n      <td>2004</td>\n      <td>Total</td>\n      <td>Fourth quintile 61-80%</td>\n      <td>83.1</td>\n      <td>79.8</td>\n      <td>86.0</td>\n    </tr>\n    <tr>\n      <th>...</th>\n      <td>...</td>\n      <td>...</td>\n      <td>...</td>\n      <td>...</td>\n      <td>...</td>\n      <td>...</td>\n    </tr>\n    <tr>\n      <th>265</th>\n      <td>2018</td>\n      <td>Males</td>\n      <td>Bottom quintile 1-20%</td>\n      <td>71.2</td>\n      <td>65.4</td>\n      <td>76.6</td>\n    </tr>\n    <tr>\n      <th>266</th>\n      <td>2018</td>\n      <td>Males</td>\n      <td>Second quintile 21-40%</td>\n      <td>75.5</td>\n      <td>70.2</td>\n      <td>80.3</td>\n    </tr>\n    <tr>\n      <th>267</th>\n      <td>2018</td>\n      <td>Males</td>\n      <td>Third quintile 41-60%</td>\n      <td>81.8</td>\n      <td>77.0</td>\n      <td>86.0</td>\n    </tr>\n    <tr>\n      <th>268</th>\n      <td>2018</td>\n      <td>Males</td>\n      <td>Fourth quintile 61-80%</td>\n      <td>83.6</td>\n      <td>79.1</td>\n      <td>87.6</td>\n    </tr>\n    <tr>\n      <th>269</th>\n      <td>2018</td>\n      <td>Males</td>\n      <td>Top quintile 81-100%</td>\n      <td>88.5</td>\n      <td>84.8</td>\n      <td>91.6</td>\n    </tr>\n  </tbody>\n</table>\n<p>270 rows × 6 columns</p>\n</div>"
     },
     "metadata": {},
     "execution_count": 9
    }
   ],
   "source": [
    "df = pd.read_csv(config.r_health_data / 'good_health_2004_2018.csv')\n",
    "df"
   ]
  },
  {
   "cell_type": "code",
   "execution_count": 10,
   "metadata": {},
   "outputs": [
    {
     "output_type": "execute_result",
     "data": {
      "text/plain": "     Year    Sex        Income quintiles  Proportion of individuals (%)  \\\n0    2004  Total                   Total                          0.787   \n1    2004  Total   Bottom quintile 1-20%                          0.686   \n2    2004  Total  Second quintile 21-40%                          0.744   \n3    2004  Total   Third quintile 41-60%                          0.803   \n4    2004  Total  Fourth quintile 61-80%                          0.831   \n..    ...    ...                     ...                            ...   \n265  2018  Males   Bottom quintile 1-20%                          0.712   \n266  2018  Males  Second quintile 21-40%                          0.755   \n267  2018  Males   Third quintile 41-60%                          0.818   \n268  2018  Males  Fourth quintile 61-80%                          0.836   \n269  2018  Males    Top quintile 81-100%                          0.885   \n\n     Proportion lower bounds (%)  Proportion upper bounds (%)  \n0                          0.771                        0.802  \n1                          0.647                        0.724  \n2                          0.706                        0.781  \n3                          0.768                        0.836  \n4                          0.798                        0.860  \n..                           ...                          ...  \n265                        0.654                        0.766  \n266                        0.702                        0.803  \n267                        0.770                        0.860  \n268                        0.791                        0.876  \n269                        0.848                        0.916  \n\n[270 rows x 6 columns]",
      "text/html": "<div>\n<style scoped>\n    .dataframe tbody tr th:only-of-type {\n        vertical-align: middle;\n    }\n\n    .dataframe tbody tr th {\n        vertical-align: top;\n    }\n\n    .dataframe thead th {\n        text-align: right;\n    }\n</style>\n<table border=\"1\" class=\"dataframe\">\n  <thead>\n    <tr style=\"text-align: right;\">\n      <th></th>\n      <th>Year</th>\n      <th>Sex</th>\n      <th>Income quintiles</th>\n      <th>Proportion of individuals (%)</th>\n      <th>Proportion lower bounds (%)</th>\n      <th>Proportion upper bounds (%)</th>\n    </tr>\n  </thead>\n  <tbody>\n    <tr>\n      <th>0</th>\n      <td>2004</td>\n      <td>Total</td>\n      <td>Total</td>\n      <td>0.787</td>\n      <td>0.771</td>\n      <td>0.802</td>\n    </tr>\n    <tr>\n      <th>1</th>\n      <td>2004</td>\n      <td>Total</td>\n      <td>Bottom quintile 1-20%</td>\n      <td>0.686</td>\n      <td>0.647</td>\n      <td>0.724</td>\n    </tr>\n    <tr>\n      <th>2</th>\n      <td>2004</td>\n      <td>Total</td>\n      <td>Second quintile 21-40%</td>\n      <td>0.744</td>\n      <td>0.706</td>\n      <td>0.781</td>\n    </tr>\n    <tr>\n      <th>3</th>\n      <td>2004</td>\n      <td>Total</td>\n      <td>Third quintile 41-60%</td>\n      <td>0.803</td>\n      <td>0.768</td>\n      <td>0.836</td>\n    </tr>\n    <tr>\n      <th>4</th>\n      <td>2004</td>\n      <td>Total</td>\n      <td>Fourth quintile 61-80%</td>\n      <td>0.831</td>\n      <td>0.798</td>\n      <td>0.860</td>\n    </tr>\n    <tr>\n      <th>...</th>\n      <td>...</td>\n      <td>...</td>\n      <td>...</td>\n      <td>...</td>\n      <td>...</td>\n      <td>...</td>\n    </tr>\n    <tr>\n      <th>265</th>\n      <td>2018</td>\n      <td>Males</td>\n      <td>Bottom quintile 1-20%</td>\n      <td>0.712</td>\n      <td>0.654</td>\n      <td>0.766</td>\n    </tr>\n    <tr>\n      <th>266</th>\n      <td>2018</td>\n      <td>Males</td>\n      <td>Second quintile 21-40%</td>\n      <td>0.755</td>\n      <td>0.702</td>\n      <td>0.803</td>\n    </tr>\n    <tr>\n      <th>267</th>\n      <td>2018</td>\n      <td>Males</td>\n      <td>Third quintile 41-60%</td>\n      <td>0.818</td>\n      <td>0.770</td>\n      <td>0.860</td>\n    </tr>\n    <tr>\n      <th>268</th>\n      <td>2018</td>\n      <td>Males</td>\n      <td>Fourth quintile 61-80%</td>\n      <td>0.836</td>\n      <td>0.791</td>\n      <td>0.876</td>\n    </tr>\n    <tr>\n      <th>269</th>\n      <td>2018</td>\n      <td>Males</td>\n      <td>Top quintile 81-100%</td>\n      <td>0.885</td>\n      <td>0.848</td>\n      <td>0.916</td>\n    </tr>\n  </tbody>\n</table>\n<p>270 rows × 6 columns</p>\n</div>"
     },
     "metadata": {},
     "execution_count": 10
    }
   ],
   "source": [
    "# format percents\n",
    "for col in df.columns:\n",
    "    if 'Proportion' in col:\n",
    "        df[col] = df[col].apply(lambda x: round(x / 100, ndigits=3))\n",
    "\n",
    "df"
   ]
  },
  {
   "cell_type": "code",
   "execution_count": 12,
   "metadata": {},
   "outputs": [
    {
     "output_type": "execute_result",
     "data": {
      "text/plain": "     Year    Sex        Income quintiles                           unit  \\\n0    2004  Total                   Total  Proportion of individuals (%)   \n1    2004  Total   Bottom quintile 1-20%  Proportion of individuals (%)   \n2    2004  Total  Second quintile 21-40%  Proportion of individuals (%)   \n3    2004  Total   Third quintile 41-60%  Proportion of individuals (%)   \n4    2004  Total  Fourth quintile 61-80%  Proportion of individuals (%)   \n..    ...    ...                     ...                            ...   \n805  2018  Males   Bottom quintile 1-20%    Proportion upper bounds (%)   \n806  2018  Males  Second quintile 21-40%    Proportion upper bounds (%)   \n807  2018  Males   Third quintile 41-60%    Proportion upper bounds (%)   \n808  2018  Males  Fourth quintile 61-80%    Proportion upper bounds (%)   \n809  2018  Males    Top quintile 81-100%    Proportion upper bounds (%)   \n\n     percent  \n0      0.787  \n1      0.686  \n2      0.744  \n3      0.803  \n4      0.831  \n..       ...  \n805    0.766  \n806    0.803  \n807    0.860  \n808    0.876  \n809    0.916  \n\n[810 rows x 5 columns]",
      "text/html": "<div>\n<style scoped>\n    .dataframe tbody tr th:only-of-type {\n        vertical-align: middle;\n    }\n\n    .dataframe tbody tr th {\n        vertical-align: top;\n    }\n\n    .dataframe thead th {\n        text-align: right;\n    }\n</style>\n<table border=\"1\" class=\"dataframe\">\n  <thead>\n    <tr style=\"text-align: right;\">\n      <th></th>\n      <th>Year</th>\n      <th>Sex</th>\n      <th>Income quintiles</th>\n      <th>unit</th>\n      <th>percent</th>\n    </tr>\n  </thead>\n  <tbody>\n    <tr>\n      <th>0</th>\n      <td>2004</td>\n      <td>Total</td>\n      <td>Total</td>\n      <td>Proportion of individuals (%)</td>\n      <td>0.787</td>\n    </tr>\n    <tr>\n      <th>1</th>\n      <td>2004</td>\n      <td>Total</td>\n      <td>Bottom quintile 1-20%</td>\n      <td>Proportion of individuals (%)</td>\n      <td>0.686</td>\n    </tr>\n    <tr>\n      <th>2</th>\n      <td>2004</td>\n      <td>Total</td>\n      <td>Second quintile 21-40%</td>\n      <td>Proportion of individuals (%)</td>\n      <td>0.744</td>\n    </tr>\n    <tr>\n      <th>3</th>\n      <td>2004</td>\n      <td>Total</td>\n      <td>Third quintile 41-60%</td>\n      <td>Proportion of individuals (%)</td>\n      <td>0.803</td>\n    </tr>\n    <tr>\n      <th>4</th>\n      <td>2004</td>\n      <td>Total</td>\n      <td>Fourth quintile 61-80%</td>\n      <td>Proportion of individuals (%)</td>\n      <td>0.831</td>\n    </tr>\n    <tr>\n      <th>...</th>\n      <td>...</td>\n      <td>...</td>\n      <td>...</td>\n      <td>...</td>\n      <td>...</td>\n    </tr>\n    <tr>\n      <th>805</th>\n      <td>2018</td>\n      <td>Males</td>\n      <td>Bottom quintile 1-20%</td>\n      <td>Proportion upper bounds (%)</td>\n      <td>0.766</td>\n    </tr>\n    <tr>\n      <th>806</th>\n      <td>2018</td>\n      <td>Males</td>\n      <td>Second quintile 21-40%</td>\n      <td>Proportion upper bounds (%)</td>\n      <td>0.803</td>\n    </tr>\n    <tr>\n      <th>807</th>\n      <td>2018</td>\n      <td>Males</td>\n      <td>Third quintile 41-60%</td>\n      <td>Proportion upper bounds (%)</td>\n      <td>0.860</td>\n    </tr>\n    <tr>\n      <th>808</th>\n      <td>2018</td>\n      <td>Males</td>\n      <td>Fourth quintile 61-80%</td>\n      <td>Proportion upper bounds (%)</td>\n      <td>0.876</td>\n    </tr>\n    <tr>\n      <th>809</th>\n      <td>2018</td>\n      <td>Males</td>\n      <td>Top quintile 81-100%</td>\n      <td>Proportion upper bounds (%)</td>\n      <td>0.916</td>\n    </tr>\n  </tbody>\n</table>\n<p>810 rows × 5 columns</p>\n</div>"
     },
     "metadata": {},
     "execution_count": 12
    }
   ],
   "source": [
    "df = pd.melt(df, id_vars=['Year', 'Sex', 'Income quintiles'], var_name='unit', value_name='percent')\n",
    "df"
   ]
  },
  {
   "cell_type": "code",
   "execution_count": 13,
   "metadata": {},
   "outputs": [],
   "source": [
    "df.Year = df.Year.astype(str)"
   ]
  },
  {
   "cell_type": "code",
   "execution_count": 14,
   "metadata": {},
   "outputs": [],
   "source": [
    "# to csv\n",
    "data_path = config.c_health_data / 'good_health_2004_2018.csv'\n",
    "df.to_csv(data_path, index=False)"
   ]
  },
  {
   "cell_type": "markdown",
   "metadata": {},
   "source": [
    "# smoking_1989_2018"
   ]
  },
  {
   "cell_type": "code",
   "execution_count": 15,
   "metadata": {},
   "outputs": [
    {
     "output_type": "execute_result",
     "data": {
      "text/plain": "         Sex          Age         Smoking habits   1989   1990   1991   1992  \\\n0      Total  18-29 years                  Total  100.0  100.0  100.0  100.0   \n1      Total  18-29 years      Have never smoked   48.6   50.5   53.1   54.1   \n2      Total  18-29 years        Stopped smoking   14.5   13.9   12.1   12.3   \n3      Total  18-29 years  Smoke less than daily    3.8    4.4    3.6    4.9   \n4      Total  18-29 years            Smoke daily   33.1   31.2   31.2   28.8   \n..       ...          ...                    ...    ...    ...    ...    ...   \n130  Females  18-89 years                  Total  100.0  100.0  100.0  100.0   \n131  Females  18-89 years      Have never smoked   39.0   43.9   44.0   42.4   \n132  Females  18-89 years        Stopped smoking   23.8   22.3   23.1   23.6   \n133  Females  18-89 years  Smoke less than daily    3.5    3.2    2.8    3.4   \n134  Females  18-89 years            Smoke daily   33.7   30.5   30.0   30.6   \n\n      1993   1994   1995  ...   2009   2010   2011   2012   2013   2014  \\\n0    100.0  100.0  100.0  ...  100.0  100.0  100.0  100.0  100.0  100.0   \n1     58.9   52.3   54.6  ...   58.8   62.2   65.7   63.8   64.0   66.7   \n2     12.1   13.9   12.3  ...   19.4   18.2   19.0   14.0   16.8   18.8   \n3      3.0    4.8    7.3  ...    4.9    6.3    6.1    4.8    8.8    4.0   \n4     26.0   29.0   25.8  ...   16.9   13.4    9.2   17.3   10.4   10.6   \n..     ...    ...    ...  ...    ...    ...    ...    ...    ...    ...   \n130  100.0  100.0  100.0  ...  100.0  100.0  100.0  100.0  100.0  100.0   \n131   45.2   44.0   43.1  ...   47.7   48.5   47.3   50.4   46.1   47.6   \n132   24.3   25.6   23.9  ...   33.6   33.1   33.8   32.9   36.1   35.3   \n133    2.9    3.6    5.6  ...    3.0    4.1    4.3    3.9    5.3    4.1   \n134   27.7   26.8   27.5  ...   15.7   14.3   14.6   12.8   12.5   13.0   \n\n      2015   2016   2017   2018  \n0    100.0  100.0  100.0  100.0  \n1     69.7   70.3   72.7   72.0  \n2     20.0   17.0   16.3   15.2  \n3      3.6    5.3    3.8    6.7  \n4      6.8    7.4    7.2    6.0  \n..     ...    ...    ...    ...  \n130  100.0  100.0  100.0  100.0  \n131   49.8   48.6   50.4   54.3  \n132   36.2   36.7   36.8   33.2  \n133    3.1    3.9    3.0    3.3  \n134   10.9   10.9    9.7    9.1  \n\n[135 rows x 33 columns]",
      "text/html": "<div>\n<style scoped>\n    .dataframe tbody tr th:only-of-type {\n        vertical-align: middle;\n    }\n\n    .dataframe tbody tr th {\n        vertical-align: top;\n    }\n\n    .dataframe thead th {\n        text-align: right;\n    }\n</style>\n<table border=\"1\" class=\"dataframe\">\n  <thead>\n    <tr style=\"text-align: right;\">\n      <th></th>\n      <th>Sex</th>\n      <th>Age</th>\n      <th>Smoking habits</th>\n      <th>1989</th>\n      <th>1990</th>\n      <th>1991</th>\n      <th>1992</th>\n      <th>1993</th>\n      <th>1994</th>\n      <th>1995</th>\n      <th>...</th>\n      <th>2009</th>\n      <th>2010</th>\n      <th>2011</th>\n      <th>2012</th>\n      <th>2013</th>\n      <th>2014</th>\n      <th>2015</th>\n      <th>2016</th>\n      <th>2017</th>\n      <th>2018</th>\n    </tr>\n  </thead>\n  <tbody>\n    <tr>\n      <th>0</th>\n      <td>Total</td>\n      <td>18-29 years</td>\n      <td>Total</td>\n      <td>100.0</td>\n      <td>100.0</td>\n      <td>100.0</td>\n      <td>100.0</td>\n      <td>100.0</td>\n      <td>100.0</td>\n      <td>100.0</td>\n      <td>...</td>\n      <td>100.0</td>\n      <td>100.0</td>\n      <td>100.0</td>\n      <td>100.0</td>\n      <td>100.0</td>\n      <td>100.0</td>\n      <td>100.0</td>\n      <td>100.0</td>\n      <td>100.0</td>\n      <td>100.0</td>\n    </tr>\n    <tr>\n      <th>1</th>\n      <td>Total</td>\n      <td>18-29 years</td>\n      <td>Have never smoked</td>\n      <td>48.6</td>\n      <td>50.5</td>\n      <td>53.1</td>\n      <td>54.1</td>\n      <td>58.9</td>\n      <td>52.3</td>\n      <td>54.6</td>\n      <td>...</td>\n      <td>58.8</td>\n      <td>62.2</td>\n      <td>65.7</td>\n      <td>63.8</td>\n      <td>64.0</td>\n      <td>66.7</td>\n      <td>69.7</td>\n      <td>70.3</td>\n      <td>72.7</td>\n      <td>72.0</td>\n    </tr>\n    <tr>\n      <th>2</th>\n      <td>Total</td>\n      <td>18-29 years</td>\n      <td>Stopped smoking</td>\n      <td>14.5</td>\n      <td>13.9</td>\n      <td>12.1</td>\n      <td>12.3</td>\n      <td>12.1</td>\n      <td>13.9</td>\n      <td>12.3</td>\n      <td>...</td>\n      <td>19.4</td>\n      <td>18.2</td>\n      <td>19.0</td>\n      <td>14.0</td>\n      <td>16.8</td>\n      <td>18.8</td>\n      <td>20.0</td>\n      <td>17.0</td>\n      <td>16.3</td>\n      <td>15.2</td>\n    </tr>\n    <tr>\n      <th>3</th>\n      <td>Total</td>\n      <td>18-29 years</td>\n      <td>Smoke less than daily</td>\n      <td>3.8</td>\n      <td>4.4</td>\n      <td>3.6</td>\n      <td>4.9</td>\n      <td>3.0</td>\n      <td>4.8</td>\n      <td>7.3</td>\n      <td>...</td>\n      <td>4.9</td>\n      <td>6.3</td>\n      <td>6.1</td>\n      <td>4.8</td>\n      <td>8.8</td>\n      <td>4.0</td>\n      <td>3.6</td>\n      <td>5.3</td>\n      <td>3.8</td>\n      <td>6.7</td>\n    </tr>\n    <tr>\n      <th>4</th>\n      <td>Total</td>\n      <td>18-29 years</td>\n      <td>Smoke daily</td>\n      <td>33.1</td>\n      <td>31.2</td>\n      <td>31.2</td>\n      <td>28.8</td>\n      <td>26.0</td>\n      <td>29.0</td>\n      <td>25.8</td>\n      <td>...</td>\n      <td>16.9</td>\n      <td>13.4</td>\n      <td>9.2</td>\n      <td>17.3</td>\n      <td>10.4</td>\n      <td>10.6</td>\n      <td>6.8</td>\n      <td>7.4</td>\n      <td>7.2</td>\n      <td>6.0</td>\n    </tr>\n    <tr>\n      <th>...</th>\n      <td>...</td>\n      <td>...</td>\n      <td>...</td>\n      <td>...</td>\n      <td>...</td>\n      <td>...</td>\n      <td>...</td>\n      <td>...</td>\n      <td>...</td>\n      <td>...</td>\n      <td>...</td>\n      <td>...</td>\n      <td>...</td>\n      <td>...</td>\n      <td>...</td>\n      <td>...</td>\n      <td>...</td>\n      <td>...</td>\n      <td>...</td>\n      <td>...</td>\n      <td>...</td>\n    </tr>\n    <tr>\n      <th>130</th>\n      <td>Females</td>\n      <td>18-89 years</td>\n      <td>Total</td>\n      <td>100.0</td>\n      <td>100.0</td>\n      <td>100.0</td>\n      <td>100.0</td>\n      <td>100.0</td>\n      <td>100.0</td>\n      <td>100.0</td>\n      <td>...</td>\n      <td>100.0</td>\n      <td>100.0</td>\n      <td>100.0</td>\n      <td>100.0</td>\n      <td>100.0</td>\n      <td>100.0</td>\n      <td>100.0</td>\n      <td>100.0</td>\n      <td>100.0</td>\n      <td>100.0</td>\n    </tr>\n    <tr>\n      <th>131</th>\n      <td>Females</td>\n      <td>18-89 years</td>\n      <td>Have never smoked</td>\n      <td>39.0</td>\n      <td>43.9</td>\n      <td>44.0</td>\n      <td>42.4</td>\n      <td>45.2</td>\n      <td>44.0</td>\n      <td>43.1</td>\n      <td>...</td>\n      <td>47.7</td>\n      <td>48.5</td>\n      <td>47.3</td>\n      <td>50.4</td>\n      <td>46.1</td>\n      <td>47.6</td>\n      <td>49.8</td>\n      <td>48.6</td>\n      <td>50.4</td>\n      <td>54.3</td>\n    </tr>\n    <tr>\n      <th>132</th>\n      <td>Females</td>\n      <td>18-89 years</td>\n      <td>Stopped smoking</td>\n      <td>23.8</td>\n      <td>22.3</td>\n      <td>23.1</td>\n      <td>23.6</td>\n      <td>24.3</td>\n      <td>25.6</td>\n      <td>23.9</td>\n      <td>...</td>\n      <td>33.6</td>\n      <td>33.1</td>\n      <td>33.8</td>\n      <td>32.9</td>\n      <td>36.1</td>\n      <td>35.3</td>\n      <td>36.2</td>\n      <td>36.7</td>\n      <td>36.8</td>\n      <td>33.2</td>\n    </tr>\n    <tr>\n      <th>133</th>\n      <td>Females</td>\n      <td>18-89 years</td>\n      <td>Smoke less than daily</td>\n      <td>3.5</td>\n      <td>3.2</td>\n      <td>2.8</td>\n      <td>3.4</td>\n      <td>2.9</td>\n      <td>3.6</td>\n      <td>5.6</td>\n      <td>...</td>\n      <td>3.0</td>\n      <td>4.1</td>\n      <td>4.3</td>\n      <td>3.9</td>\n      <td>5.3</td>\n      <td>4.1</td>\n      <td>3.1</td>\n      <td>3.9</td>\n      <td>3.0</td>\n      <td>3.3</td>\n    </tr>\n    <tr>\n      <th>134</th>\n      <td>Females</td>\n      <td>18-89 years</td>\n      <td>Smoke daily</td>\n      <td>33.7</td>\n      <td>30.5</td>\n      <td>30.0</td>\n      <td>30.6</td>\n      <td>27.7</td>\n      <td>26.8</td>\n      <td>27.5</td>\n      <td>...</td>\n      <td>15.7</td>\n      <td>14.3</td>\n      <td>14.6</td>\n      <td>12.8</td>\n      <td>12.5</td>\n      <td>13.0</td>\n      <td>10.9</td>\n      <td>10.9</td>\n      <td>9.7</td>\n      <td>9.1</td>\n    </tr>\n  </tbody>\n</table>\n<p>135 rows × 33 columns</p>\n</div>"
     },
     "metadata": {},
     "execution_count": 15
    }
   ],
   "source": [
    "df = pd.read_csv(config.r_health_data / 'smoking_1989_2018.csv')\n",
    "df"
   ]
  },
  {
   "cell_type": "code",
   "execution_count": 16,
   "metadata": {},
   "outputs": [
    {
     "output_type": "execute_result",
     "data": {
      "text/plain": "         Sex    Age         Smoking habits   1989   1990   1991   1992   1993  \\\n0      Total  18-29                  Total  100.0  100.0  100.0  100.0  100.0   \n1      Total  18-29      Have never smoked   48.6   50.5   53.1   54.1   58.9   \n2      Total  18-29        Stopped smoking   14.5   13.9   12.1   12.3   12.1   \n3      Total  18-29  Smoke less than daily    3.8    4.4    3.6    4.9    3.0   \n4      Total  18-29            Smoke daily   33.1   31.2   31.2   28.8   26.0   \n..       ...    ...                    ...    ...    ...    ...    ...    ...   \n130  Females  18-89                  Total  100.0  100.0  100.0  100.0  100.0   \n131  Females  18-89      Have never smoked   39.0   43.9   44.0   42.4   45.2   \n132  Females  18-89        Stopped smoking   23.8   22.3   23.1   23.6   24.3   \n133  Females  18-89  Smoke less than daily    3.5    3.2    2.8    3.4    2.9   \n134  Females  18-89            Smoke daily   33.7   30.5   30.0   30.6   27.7   \n\n      1994   1995  ...   2009   2010   2011   2012   2013   2014   2015  \\\n0    100.0  100.0  ...  100.0  100.0  100.0  100.0  100.0  100.0  100.0   \n1     52.3   54.6  ...   58.8   62.2   65.7   63.8   64.0   66.7   69.7   \n2     13.9   12.3  ...   19.4   18.2   19.0   14.0   16.8   18.8   20.0   \n3      4.8    7.3  ...    4.9    6.3    6.1    4.8    8.8    4.0    3.6   \n4     29.0   25.8  ...   16.9   13.4    9.2   17.3   10.4   10.6    6.8   \n..     ...    ...  ...    ...    ...    ...    ...    ...    ...    ...   \n130  100.0  100.0  ...  100.0  100.0  100.0  100.0  100.0  100.0  100.0   \n131   44.0   43.1  ...   47.7   48.5   47.3   50.4   46.1   47.6   49.8   \n132   25.6   23.9  ...   33.6   33.1   33.8   32.9   36.1   35.3   36.2   \n133    3.6    5.6  ...    3.0    4.1    4.3    3.9    5.3    4.1    3.1   \n134   26.8   27.5  ...   15.7   14.3   14.6   12.8   12.5   13.0   10.9   \n\n      2016   2017   2018  \n0    100.0  100.0  100.0  \n1     70.3   72.7   72.0  \n2     17.0   16.3   15.2  \n3      5.3    3.8    6.7  \n4      7.4    7.2    6.0  \n..     ...    ...    ...  \n130  100.0  100.0  100.0  \n131   48.6   50.4   54.3  \n132   36.7   36.8   33.2  \n133    3.9    3.0    3.3  \n134   10.9    9.7    9.1  \n\n[135 rows x 33 columns]",
      "text/html": "<div>\n<style scoped>\n    .dataframe tbody tr th:only-of-type {\n        vertical-align: middle;\n    }\n\n    .dataframe tbody tr th {\n        vertical-align: top;\n    }\n\n    .dataframe thead th {\n        text-align: right;\n    }\n</style>\n<table border=\"1\" class=\"dataframe\">\n  <thead>\n    <tr style=\"text-align: right;\">\n      <th></th>\n      <th>Sex</th>\n      <th>Age</th>\n      <th>Smoking habits</th>\n      <th>1989</th>\n      <th>1990</th>\n      <th>1991</th>\n      <th>1992</th>\n      <th>1993</th>\n      <th>1994</th>\n      <th>1995</th>\n      <th>...</th>\n      <th>2009</th>\n      <th>2010</th>\n      <th>2011</th>\n      <th>2012</th>\n      <th>2013</th>\n      <th>2014</th>\n      <th>2015</th>\n      <th>2016</th>\n      <th>2017</th>\n      <th>2018</th>\n    </tr>\n  </thead>\n  <tbody>\n    <tr>\n      <th>0</th>\n      <td>Total</td>\n      <td>18-29</td>\n      <td>Total</td>\n      <td>100.0</td>\n      <td>100.0</td>\n      <td>100.0</td>\n      <td>100.0</td>\n      <td>100.0</td>\n      <td>100.0</td>\n      <td>100.0</td>\n      <td>...</td>\n      <td>100.0</td>\n      <td>100.0</td>\n      <td>100.0</td>\n      <td>100.0</td>\n      <td>100.0</td>\n      <td>100.0</td>\n      <td>100.0</td>\n      <td>100.0</td>\n      <td>100.0</td>\n      <td>100.0</td>\n    </tr>\n    <tr>\n      <th>1</th>\n      <td>Total</td>\n      <td>18-29</td>\n      <td>Have never smoked</td>\n      <td>48.6</td>\n      <td>50.5</td>\n      <td>53.1</td>\n      <td>54.1</td>\n      <td>58.9</td>\n      <td>52.3</td>\n      <td>54.6</td>\n      <td>...</td>\n      <td>58.8</td>\n      <td>62.2</td>\n      <td>65.7</td>\n      <td>63.8</td>\n      <td>64.0</td>\n      <td>66.7</td>\n      <td>69.7</td>\n      <td>70.3</td>\n      <td>72.7</td>\n      <td>72.0</td>\n    </tr>\n    <tr>\n      <th>2</th>\n      <td>Total</td>\n      <td>18-29</td>\n      <td>Stopped smoking</td>\n      <td>14.5</td>\n      <td>13.9</td>\n      <td>12.1</td>\n      <td>12.3</td>\n      <td>12.1</td>\n      <td>13.9</td>\n      <td>12.3</td>\n      <td>...</td>\n      <td>19.4</td>\n      <td>18.2</td>\n      <td>19.0</td>\n      <td>14.0</td>\n      <td>16.8</td>\n      <td>18.8</td>\n      <td>20.0</td>\n      <td>17.0</td>\n      <td>16.3</td>\n      <td>15.2</td>\n    </tr>\n    <tr>\n      <th>3</th>\n      <td>Total</td>\n      <td>18-29</td>\n      <td>Smoke less than daily</td>\n      <td>3.8</td>\n      <td>4.4</td>\n      <td>3.6</td>\n      <td>4.9</td>\n      <td>3.0</td>\n      <td>4.8</td>\n      <td>7.3</td>\n      <td>...</td>\n      <td>4.9</td>\n      <td>6.3</td>\n      <td>6.1</td>\n      <td>4.8</td>\n      <td>8.8</td>\n      <td>4.0</td>\n      <td>3.6</td>\n      <td>5.3</td>\n      <td>3.8</td>\n      <td>6.7</td>\n    </tr>\n    <tr>\n      <th>4</th>\n      <td>Total</td>\n      <td>18-29</td>\n      <td>Smoke daily</td>\n      <td>33.1</td>\n      <td>31.2</td>\n      <td>31.2</td>\n      <td>28.8</td>\n      <td>26.0</td>\n      <td>29.0</td>\n      <td>25.8</td>\n      <td>...</td>\n      <td>16.9</td>\n      <td>13.4</td>\n      <td>9.2</td>\n      <td>17.3</td>\n      <td>10.4</td>\n      <td>10.6</td>\n      <td>6.8</td>\n      <td>7.4</td>\n      <td>7.2</td>\n      <td>6.0</td>\n    </tr>\n    <tr>\n      <th>...</th>\n      <td>...</td>\n      <td>...</td>\n      <td>...</td>\n      <td>...</td>\n      <td>...</td>\n      <td>...</td>\n      <td>...</td>\n      <td>...</td>\n      <td>...</td>\n      <td>...</td>\n      <td>...</td>\n      <td>...</td>\n      <td>...</td>\n      <td>...</td>\n      <td>...</td>\n      <td>...</td>\n      <td>...</td>\n      <td>...</td>\n      <td>...</td>\n      <td>...</td>\n      <td>...</td>\n    </tr>\n    <tr>\n      <th>130</th>\n      <td>Females</td>\n      <td>18-89</td>\n      <td>Total</td>\n      <td>100.0</td>\n      <td>100.0</td>\n      <td>100.0</td>\n      <td>100.0</td>\n      <td>100.0</td>\n      <td>100.0</td>\n      <td>100.0</td>\n      <td>...</td>\n      <td>100.0</td>\n      <td>100.0</td>\n      <td>100.0</td>\n      <td>100.0</td>\n      <td>100.0</td>\n      <td>100.0</td>\n      <td>100.0</td>\n      <td>100.0</td>\n      <td>100.0</td>\n      <td>100.0</td>\n    </tr>\n    <tr>\n      <th>131</th>\n      <td>Females</td>\n      <td>18-89</td>\n      <td>Have never smoked</td>\n      <td>39.0</td>\n      <td>43.9</td>\n      <td>44.0</td>\n      <td>42.4</td>\n      <td>45.2</td>\n      <td>44.0</td>\n      <td>43.1</td>\n      <td>...</td>\n      <td>47.7</td>\n      <td>48.5</td>\n      <td>47.3</td>\n      <td>50.4</td>\n      <td>46.1</td>\n      <td>47.6</td>\n      <td>49.8</td>\n      <td>48.6</td>\n      <td>50.4</td>\n      <td>54.3</td>\n    </tr>\n    <tr>\n      <th>132</th>\n      <td>Females</td>\n      <td>18-89</td>\n      <td>Stopped smoking</td>\n      <td>23.8</td>\n      <td>22.3</td>\n      <td>23.1</td>\n      <td>23.6</td>\n      <td>24.3</td>\n      <td>25.6</td>\n      <td>23.9</td>\n      <td>...</td>\n      <td>33.6</td>\n      <td>33.1</td>\n      <td>33.8</td>\n      <td>32.9</td>\n      <td>36.1</td>\n      <td>35.3</td>\n      <td>36.2</td>\n      <td>36.7</td>\n      <td>36.8</td>\n      <td>33.2</td>\n    </tr>\n    <tr>\n      <th>133</th>\n      <td>Females</td>\n      <td>18-89</td>\n      <td>Smoke less than daily</td>\n      <td>3.5</td>\n      <td>3.2</td>\n      <td>2.8</td>\n      <td>3.4</td>\n      <td>2.9</td>\n      <td>3.6</td>\n      <td>5.6</td>\n      <td>...</td>\n      <td>3.0</td>\n      <td>4.1</td>\n      <td>4.3</td>\n      <td>3.9</td>\n      <td>5.3</td>\n      <td>4.1</td>\n      <td>3.1</td>\n      <td>3.9</td>\n      <td>3.0</td>\n      <td>3.3</td>\n    </tr>\n    <tr>\n      <th>134</th>\n      <td>Females</td>\n      <td>18-89</td>\n      <td>Smoke daily</td>\n      <td>33.7</td>\n      <td>30.5</td>\n      <td>30.0</td>\n      <td>30.6</td>\n      <td>27.7</td>\n      <td>26.8</td>\n      <td>27.5</td>\n      <td>...</td>\n      <td>15.7</td>\n      <td>14.3</td>\n      <td>14.6</td>\n      <td>12.8</td>\n      <td>12.5</td>\n      <td>13.0</td>\n      <td>10.9</td>\n      <td>10.9</td>\n      <td>9.7</td>\n      <td>9.1</td>\n    </tr>\n  </tbody>\n</table>\n<p>135 rows × 33 columns</p>\n</div>"
     },
     "metadata": {},
     "execution_count": 16
    }
   ],
   "source": [
    "# format age column by removing 'years'\n",
    "df.Age = df.Age.apply(lambda x: x.split()[0])\n",
    "df"
   ]
  },
  {
   "cell_type": "code",
   "execution_count": 17,
   "metadata": {},
   "outputs": [
    {
     "output_type": "execute_result",
     "data": {
      "text/plain": "         Sex    Age         Smoking habits  1989  1990  1991  1992  1993  \\\n1      Total  18-29      Have never smoked  48.6  50.5  53.1  54.1  58.9   \n2      Total  18-29        Stopped smoking  14.5  13.9  12.1  12.3  12.1   \n3      Total  18-29  Smoke less than daily   3.8   4.4   3.6   4.9   3.0   \n4      Total  18-29            Smoke daily  33.1  31.2  31.2  28.8  26.0   \n6      Total  30-39      Have never smoked  27.2  33.4  31.8  31.3  37.0   \n..       ...    ...                    ...   ...   ...   ...   ...   ...   \n129  Females  18-79            Smoke daily  33.8  30.6  30.9  31.5  28.4   \n131  Females  18-89      Have never smoked  39.0  43.9  44.0  42.4  45.2   \n132  Females  18-89        Stopped smoking  23.8  22.3  23.1  23.6  24.3   \n133  Females  18-89  Smoke less than daily   3.5   3.2   2.8   3.4   2.9   \n134  Females  18-89            Smoke daily  33.7  30.5  30.0  30.6  27.7   \n\n     1994  1995  ...  2009  2010  2011  2012  2013  2014  2015  2016  2017  \\\n1    52.3  54.6  ...  58.8  62.2  65.7  63.8  64.0  66.7  69.7  70.3  72.7   \n2    13.9  12.3  ...  19.4  18.2  19.0  14.0  16.8  18.8  20.0  17.0  16.3   \n3     4.8   7.3  ...   4.9   6.3   6.1   4.8   8.8   4.0   3.6   5.3   3.8   \n4    29.0  25.8  ...  16.9  13.4   9.2  17.3  10.4  10.6   6.8   7.4   7.2   \n6    35.1  36.7  ...  59.1  59.4  55.6  57.5  54.8  51.9  54.4  54.9  59.1   \n..    ...   ...  ...   ...   ...   ...   ...   ...   ...   ...   ...   ...   \n129  27.1  27.8  ...  16.2  14.5  14.7  12.8  12.8  13.1  11.1  10.9   9.8   \n131  44.0  43.1  ...  47.7  48.5  47.3  50.4  46.1  47.6  49.8  48.6  50.4   \n132  25.6  23.9  ...  33.6  33.1  33.8  32.9  36.1  35.3  36.2  36.7  36.8   \n133   3.6   5.6  ...   3.0   4.1   4.3   3.9   5.3   4.1   3.1   3.9   3.0   \n134  26.8  27.5  ...  15.7  14.3  14.6  12.8  12.5  13.0  10.9  10.9   9.7   \n\n     2018  \n1    72.0  \n2    15.2  \n3     6.7  \n4     6.0  \n6    59.5  \n..    ...  \n129   9.3  \n131  54.3  \n132  33.2  \n133   3.3  \n134   9.1  \n\n[108 rows x 33 columns]",
      "text/html": "<div>\n<style scoped>\n    .dataframe tbody tr th:only-of-type {\n        vertical-align: middle;\n    }\n\n    .dataframe tbody tr th {\n        vertical-align: top;\n    }\n\n    .dataframe thead th {\n        text-align: right;\n    }\n</style>\n<table border=\"1\" class=\"dataframe\">\n  <thead>\n    <tr style=\"text-align: right;\">\n      <th></th>\n      <th>Sex</th>\n      <th>Age</th>\n      <th>Smoking habits</th>\n      <th>1989</th>\n      <th>1990</th>\n      <th>1991</th>\n      <th>1992</th>\n      <th>1993</th>\n      <th>1994</th>\n      <th>1995</th>\n      <th>...</th>\n      <th>2009</th>\n      <th>2010</th>\n      <th>2011</th>\n      <th>2012</th>\n      <th>2013</th>\n      <th>2014</th>\n      <th>2015</th>\n      <th>2016</th>\n      <th>2017</th>\n      <th>2018</th>\n    </tr>\n  </thead>\n  <tbody>\n    <tr>\n      <th>1</th>\n      <td>Total</td>\n      <td>18-29</td>\n      <td>Have never smoked</td>\n      <td>48.6</td>\n      <td>50.5</td>\n      <td>53.1</td>\n      <td>54.1</td>\n      <td>58.9</td>\n      <td>52.3</td>\n      <td>54.6</td>\n      <td>...</td>\n      <td>58.8</td>\n      <td>62.2</td>\n      <td>65.7</td>\n      <td>63.8</td>\n      <td>64.0</td>\n      <td>66.7</td>\n      <td>69.7</td>\n      <td>70.3</td>\n      <td>72.7</td>\n      <td>72.0</td>\n    </tr>\n    <tr>\n      <th>2</th>\n      <td>Total</td>\n      <td>18-29</td>\n      <td>Stopped smoking</td>\n      <td>14.5</td>\n      <td>13.9</td>\n      <td>12.1</td>\n      <td>12.3</td>\n      <td>12.1</td>\n      <td>13.9</td>\n      <td>12.3</td>\n      <td>...</td>\n      <td>19.4</td>\n      <td>18.2</td>\n      <td>19.0</td>\n      <td>14.0</td>\n      <td>16.8</td>\n      <td>18.8</td>\n      <td>20.0</td>\n      <td>17.0</td>\n      <td>16.3</td>\n      <td>15.2</td>\n    </tr>\n    <tr>\n      <th>3</th>\n      <td>Total</td>\n      <td>18-29</td>\n      <td>Smoke less than daily</td>\n      <td>3.8</td>\n      <td>4.4</td>\n      <td>3.6</td>\n      <td>4.9</td>\n      <td>3.0</td>\n      <td>4.8</td>\n      <td>7.3</td>\n      <td>...</td>\n      <td>4.9</td>\n      <td>6.3</td>\n      <td>6.1</td>\n      <td>4.8</td>\n      <td>8.8</td>\n      <td>4.0</td>\n      <td>3.6</td>\n      <td>5.3</td>\n      <td>3.8</td>\n      <td>6.7</td>\n    </tr>\n    <tr>\n      <th>4</th>\n      <td>Total</td>\n      <td>18-29</td>\n      <td>Smoke daily</td>\n      <td>33.1</td>\n      <td>31.2</td>\n      <td>31.2</td>\n      <td>28.8</td>\n      <td>26.0</td>\n      <td>29.0</td>\n      <td>25.8</td>\n      <td>...</td>\n      <td>16.9</td>\n      <td>13.4</td>\n      <td>9.2</td>\n      <td>17.3</td>\n      <td>10.4</td>\n      <td>10.6</td>\n      <td>6.8</td>\n      <td>7.4</td>\n      <td>7.2</td>\n      <td>6.0</td>\n    </tr>\n    <tr>\n      <th>6</th>\n      <td>Total</td>\n      <td>30-39</td>\n      <td>Have never smoked</td>\n      <td>27.2</td>\n      <td>33.4</td>\n      <td>31.8</td>\n      <td>31.3</td>\n      <td>37.0</td>\n      <td>35.1</td>\n      <td>36.7</td>\n      <td>...</td>\n      <td>59.1</td>\n      <td>59.4</td>\n      <td>55.6</td>\n      <td>57.5</td>\n      <td>54.8</td>\n      <td>51.9</td>\n      <td>54.4</td>\n      <td>54.9</td>\n      <td>59.1</td>\n      <td>59.5</td>\n    </tr>\n    <tr>\n      <th>...</th>\n      <td>...</td>\n      <td>...</td>\n      <td>...</td>\n      <td>...</td>\n      <td>...</td>\n      <td>...</td>\n      <td>...</td>\n      <td>...</td>\n      <td>...</td>\n      <td>...</td>\n      <td>...</td>\n      <td>...</td>\n      <td>...</td>\n      <td>...</td>\n      <td>...</td>\n      <td>...</td>\n      <td>...</td>\n      <td>...</td>\n      <td>...</td>\n      <td>...</td>\n      <td>...</td>\n    </tr>\n    <tr>\n      <th>129</th>\n      <td>Females</td>\n      <td>18-79</td>\n      <td>Smoke daily</td>\n      <td>33.8</td>\n      <td>30.6</td>\n      <td>30.9</td>\n      <td>31.5</td>\n      <td>28.4</td>\n      <td>27.1</td>\n      <td>27.8</td>\n      <td>...</td>\n      <td>16.2</td>\n      <td>14.5</td>\n      <td>14.7</td>\n      <td>12.8</td>\n      <td>12.8</td>\n      <td>13.1</td>\n      <td>11.1</td>\n      <td>10.9</td>\n      <td>9.8</td>\n      <td>9.3</td>\n    </tr>\n    <tr>\n      <th>131</th>\n      <td>Females</td>\n      <td>18-89</td>\n      <td>Have never smoked</td>\n      <td>39.0</td>\n      <td>43.9</td>\n      <td>44.0</td>\n      <td>42.4</td>\n      <td>45.2</td>\n      <td>44.0</td>\n      <td>43.1</td>\n      <td>...</td>\n      <td>47.7</td>\n      <td>48.5</td>\n      <td>47.3</td>\n      <td>50.4</td>\n      <td>46.1</td>\n      <td>47.6</td>\n      <td>49.8</td>\n      <td>48.6</td>\n      <td>50.4</td>\n      <td>54.3</td>\n    </tr>\n    <tr>\n      <th>132</th>\n      <td>Females</td>\n      <td>18-89</td>\n      <td>Stopped smoking</td>\n      <td>23.8</td>\n      <td>22.3</td>\n      <td>23.1</td>\n      <td>23.6</td>\n      <td>24.3</td>\n      <td>25.6</td>\n      <td>23.9</td>\n      <td>...</td>\n      <td>33.6</td>\n      <td>33.1</td>\n      <td>33.8</td>\n      <td>32.9</td>\n      <td>36.1</td>\n      <td>35.3</td>\n      <td>36.2</td>\n      <td>36.7</td>\n      <td>36.8</td>\n      <td>33.2</td>\n    </tr>\n    <tr>\n      <th>133</th>\n      <td>Females</td>\n      <td>18-89</td>\n      <td>Smoke less than daily</td>\n      <td>3.5</td>\n      <td>3.2</td>\n      <td>2.8</td>\n      <td>3.4</td>\n      <td>2.9</td>\n      <td>3.6</td>\n      <td>5.6</td>\n      <td>...</td>\n      <td>3.0</td>\n      <td>4.1</td>\n      <td>4.3</td>\n      <td>3.9</td>\n      <td>5.3</td>\n      <td>4.1</td>\n      <td>3.1</td>\n      <td>3.9</td>\n      <td>3.0</td>\n      <td>3.3</td>\n    </tr>\n    <tr>\n      <th>134</th>\n      <td>Females</td>\n      <td>18-89</td>\n      <td>Smoke daily</td>\n      <td>33.7</td>\n      <td>30.5</td>\n      <td>30.0</td>\n      <td>30.6</td>\n      <td>27.7</td>\n      <td>26.8</td>\n      <td>27.5</td>\n      <td>...</td>\n      <td>15.7</td>\n      <td>14.3</td>\n      <td>14.6</td>\n      <td>12.8</td>\n      <td>12.5</td>\n      <td>13.0</td>\n      <td>10.9</td>\n      <td>10.9</td>\n      <td>9.7</td>\n      <td>9.1</td>\n    </tr>\n  </tbody>\n</table>\n<p>108 rows × 33 columns</p>\n</div>"
     },
     "metadata": {},
     "execution_count": 17
    }
   ],
   "source": [
    "# remove rows where smoking habits == 'Total' because it is redundant\n",
    "df = df[df['Smoking habits'] != 'Total']\n",
    "df"
   ]
  },
  {
   "cell_type": "code",
   "execution_count": 19,
   "metadata": {},
   "outputs": [
    {
     "output_type": "execute_result",
     "data": {
      "text/plain": "          Sex    Age         Smoking habits  Year  percent\n0       Total  18-29      Have never smoked  1989     48.6\n1       Total  18-29        Stopped smoking  1989     14.5\n2       Total  18-29  Smoke less than daily  1989      3.8\n3       Total  18-29            Smoke daily  1989     33.1\n4       Total  30-39      Have never smoked  1989     27.2\n...       ...    ...                    ...   ...      ...\n3235  Females  18-79            Smoke daily  2018      9.3\n3236  Females  18-89      Have never smoked  2018     54.3\n3237  Females  18-89        Stopped smoking  2018     33.2\n3238  Females  18-89  Smoke less than daily  2018      3.3\n3239  Females  18-89            Smoke daily  2018      9.1\n\n[3240 rows x 5 columns]",
      "text/html": "<div>\n<style scoped>\n    .dataframe tbody tr th:only-of-type {\n        vertical-align: middle;\n    }\n\n    .dataframe tbody tr th {\n        vertical-align: top;\n    }\n\n    .dataframe thead th {\n        text-align: right;\n    }\n</style>\n<table border=\"1\" class=\"dataframe\">\n  <thead>\n    <tr style=\"text-align: right;\">\n      <th></th>\n      <th>Sex</th>\n      <th>Age</th>\n      <th>Smoking habits</th>\n      <th>Year</th>\n      <th>percent</th>\n    </tr>\n  </thead>\n  <tbody>\n    <tr>\n      <th>0</th>\n      <td>Total</td>\n      <td>18-29</td>\n      <td>Have never smoked</td>\n      <td>1989</td>\n      <td>48.6</td>\n    </tr>\n    <tr>\n      <th>1</th>\n      <td>Total</td>\n      <td>18-29</td>\n      <td>Stopped smoking</td>\n      <td>1989</td>\n      <td>14.5</td>\n    </tr>\n    <tr>\n      <th>2</th>\n      <td>Total</td>\n      <td>18-29</td>\n      <td>Smoke less than daily</td>\n      <td>1989</td>\n      <td>3.8</td>\n    </tr>\n    <tr>\n      <th>3</th>\n      <td>Total</td>\n      <td>18-29</td>\n      <td>Smoke daily</td>\n      <td>1989</td>\n      <td>33.1</td>\n    </tr>\n    <tr>\n      <th>4</th>\n      <td>Total</td>\n      <td>30-39</td>\n      <td>Have never smoked</td>\n      <td>1989</td>\n      <td>27.2</td>\n    </tr>\n    <tr>\n      <th>...</th>\n      <td>...</td>\n      <td>...</td>\n      <td>...</td>\n      <td>...</td>\n      <td>...</td>\n    </tr>\n    <tr>\n      <th>3235</th>\n      <td>Females</td>\n      <td>18-79</td>\n      <td>Smoke daily</td>\n      <td>2018</td>\n      <td>9.3</td>\n    </tr>\n    <tr>\n      <th>3236</th>\n      <td>Females</td>\n      <td>18-89</td>\n      <td>Have never smoked</td>\n      <td>2018</td>\n      <td>54.3</td>\n    </tr>\n    <tr>\n      <th>3237</th>\n      <td>Females</td>\n      <td>18-89</td>\n      <td>Stopped smoking</td>\n      <td>2018</td>\n      <td>33.2</td>\n    </tr>\n    <tr>\n      <th>3238</th>\n      <td>Females</td>\n      <td>18-89</td>\n      <td>Smoke less than daily</td>\n      <td>2018</td>\n      <td>3.3</td>\n    </tr>\n    <tr>\n      <th>3239</th>\n      <td>Females</td>\n      <td>18-89</td>\n      <td>Smoke daily</td>\n      <td>2018</td>\n      <td>9.1</td>\n    </tr>\n  </tbody>\n</table>\n<p>3240 rows × 5 columns</p>\n</div>"
     },
     "metadata": {},
     "execution_count": 19
    }
   ],
   "source": [
    "df = pd.melt(df, id_vars=['Sex', 'Age', 'Smoking habits'], var_name='Year', value_name='percent')\n",
    "df"
   ]
  },
  {
   "cell_type": "code",
   "execution_count": 20,
   "metadata": {},
   "outputs": [
    {
     "output_type": "execute_result",
     "data": {
      "text/plain": "          Sex    Age         Smoking habits  Year  percent\n0       Total  18-29      Have never smoked  1989    0.486\n1       Total  18-29        Stopped smoking  1989    0.145\n2       Total  18-29  Smoke less than daily  1989    0.038\n3       Total  18-29            Smoke daily  1989    0.331\n4       Total  30-39      Have never smoked  1989    0.272\n...       ...    ...                    ...   ...      ...\n3235  Females  18-79            Smoke daily  2018    0.093\n3236  Females  18-89      Have never smoked  2018    0.543\n3237  Females  18-89        Stopped smoking  2018    0.332\n3238  Females  18-89  Smoke less than daily  2018    0.033\n3239  Females  18-89            Smoke daily  2018    0.091\n\n[3240 rows x 5 columns]",
      "text/html": "<div>\n<style scoped>\n    .dataframe tbody tr th:only-of-type {\n        vertical-align: middle;\n    }\n\n    .dataframe tbody tr th {\n        vertical-align: top;\n    }\n\n    .dataframe thead th {\n        text-align: right;\n    }\n</style>\n<table border=\"1\" class=\"dataframe\">\n  <thead>\n    <tr style=\"text-align: right;\">\n      <th></th>\n      <th>Sex</th>\n      <th>Age</th>\n      <th>Smoking habits</th>\n      <th>Year</th>\n      <th>percent</th>\n    </tr>\n  </thead>\n  <tbody>\n    <tr>\n      <th>0</th>\n      <td>Total</td>\n      <td>18-29</td>\n      <td>Have never smoked</td>\n      <td>1989</td>\n      <td>0.486</td>\n    </tr>\n    <tr>\n      <th>1</th>\n      <td>Total</td>\n      <td>18-29</td>\n      <td>Stopped smoking</td>\n      <td>1989</td>\n      <td>0.145</td>\n    </tr>\n    <tr>\n      <th>2</th>\n      <td>Total</td>\n      <td>18-29</td>\n      <td>Smoke less than daily</td>\n      <td>1989</td>\n      <td>0.038</td>\n    </tr>\n    <tr>\n      <th>3</th>\n      <td>Total</td>\n      <td>18-29</td>\n      <td>Smoke daily</td>\n      <td>1989</td>\n      <td>0.331</td>\n    </tr>\n    <tr>\n      <th>4</th>\n      <td>Total</td>\n      <td>30-39</td>\n      <td>Have never smoked</td>\n      <td>1989</td>\n      <td>0.272</td>\n    </tr>\n    <tr>\n      <th>...</th>\n      <td>...</td>\n      <td>...</td>\n      <td>...</td>\n      <td>...</td>\n      <td>...</td>\n    </tr>\n    <tr>\n      <th>3235</th>\n      <td>Females</td>\n      <td>18-79</td>\n      <td>Smoke daily</td>\n      <td>2018</td>\n      <td>0.093</td>\n    </tr>\n    <tr>\n      <th>3236</th>\n      <td>Females</td>\n      <td>18-89</td>\n      <td>Have never smoked</td>\n      <td>2018</td>\n      <td>0.543</td>\n    </tr>\n    <tr>\n      <th>3237</th>\n      <td>Females</td>\n      <td>18-89</td>\n      <td>Stopped smoking</td>\n      <td>2018</td>\n      <td>0.332</td>\n    </tr>\n    <tr>\n      <th>3238</th>\n      <td>Females</td>\n      <td>18-89</td>\n      <td>Smoke less than daily</td>\n      <td>2018</td>\n      <td>0.033</td>\n    </tr>\n    <tr>\n      <th>3239</th>\n      <td>Females</td>\n      <td>18-89</td>\n      <td>Smoke daily</td>\n      <td>2018</td>\n      <td>0.091</td>\n    </tr>\n  </tbody>\n</table>\n<p>3240 rows × 5 columns</p>\n</div>"
     },
     "metadata": {},
     "execution_count": 20
    }
   ],
   "source": [
    "# format percent col\n",
    "df.percent = df.percent.apply(lambda x: round(x / 100, ndigits=3))\n",
    "df"
   ]
  },
  {
   "cell_type": "code",
   "execution_count": 22,
   "metadata": {},
   "outputs": [],
   "source": [
    "# to csv\n",
    "data_path = config.c_health_data / 'smoking_1989_2018.csv'\n",
    "df.to_csv(data_path, index=False)"
   ]
  },
  {
   "cell_type": "markdown",
   "metadata": {},
   "source": [
    "# unmet_health_need_2007_2018\n"
   ]
  },
  {
   "cell_type": "code",
   "execution_count": 23,
   "metadata": {},
   "outputs": [
    {
     "output_type": "execute_result",
     "data": {
      "text/plain": "      Year         Reason               Health services    Sex  \\\n0     2007          Total                       Dentist  Total   \n1     2007          Total                       Dentist  Total   \n2     2007          Total                       Dentist  Total   \n3     2007          Total                       Dentist  Total   \n4     2007          Total                       Dentist  Total   \n...    ...            ...                           ...    ...   \n1291  2018  Other reasons  Doctor or medical specialist  Males   \n1292  2018  Other reasons  Doctor or medical specialist  Males   \n1293  2018  Other reasons  Doctor or medical specialist  Males   \n1294  2018  Other reasons  Doctor or medical specialist  Males   \n1295  2018  Other reasons  Doctor or medical specialist  Males   \n\n            Income quintiles  Proportion of individuals (%)  \\\n0                      Total                            7.4   \n1      Bottom quintile 1-20%                           11.3   \n2     Second quintile 21-40%                            7.6   \n3      Third quintile 41-60%                            5.5   \n4     Fourth quintile 61-80%                            7.2   \n...                      ...                            ...   \n1291   Bottom quintile 1-20%                            7.3   \n1292  Second quintile 21-40%                            4.9   \n1293   Third quintile 41-60%                            4.4   \n1294  Fourth quintile 61-80%                            4.6   \n1295    Top quintile 81-100%                            2.3   \n\n      Proportion lower bounds (%)  Proportion upper bounds (%)  \n0                             6.5                          8.4  \n1                             8.9                         14.3  \n2                             5.7                         10.2  \n3                             3.9                          7.8  \n4                             5.3                          9.6  \n...                           ...                          ...  \n1291                          4.6                         11.4  \n1292                          2.8                          8.3  \n1293                          2.5                          7.5  \n1294                          2.7                          7.9  \n1295                          1.1                          4.9  \n\n[1296 rows x 8 columns]",
      "text/html": "<div>\n<style scoped>\n    .dataframe tbody tr th:only-of-type {\n        vertical-align: middle;\n    }\n\n    .dataframe tbody tr th {\n        vertical-align: top;\n    }\n\n    .dataframe thead th {\n        text-align: right;\n    }\n</style>\n<table border=\"1\" class=\"dataframe\">\n  <thead>\n    <tr style=\"text-align: right;\">\n      <th></th>\n      <th>Year</th>\n      <th>Reason</th>\n      <th>Health services</th>\n      <th>Sex</th>\n      <th>Income quintiles</th>\n      <th>Proportion of individuals (%)</th>\n      <th>Proportion lower bounds (%)</th>\n      <th>Proportion upper bounds (%)</th>\n    </tr>\n  </thead>\n  <tbody>\n    <tr>\n      <th>0</th>\n      <td>2007</td>\n      <td>Total</td>\n      <td>Dentist</td>\n      <td>Total</td>\n      <td>Total</td>\n      <td>7.4</td>\n      <td>6.5</td>\n      <td>8.4</td>\n    </tr>\n    <tr>\n      <th>1</th>\n      <td>2007</td>\n      <td>Total</td>\n      <td>Dentist</td>\n      <td>Total</td>\n      <td>Bottom quintile 1-20%</td>\n      <td>11.3</td>\n      <td>8.9</td>\n      <td>14.3</td>\n    </tr>\n    <tr>\n      <th>2</th>\n      <td>2007</td>\n      <td>Total</td>\n      <td>Dentist</td>\n      <td>Total</td>\n      <td>Second quintile 21-40%</td>\n      <td>7.6</td>\n      <td>5.7</td>\n      <td>10.2</td>\n    </tr>\n    <tr>\n      <th>3</th>\n      <td>2007</td>\n      <td>Total</td>\n      <td>Dentist</td>\n      <td>Total</td>\n      <td>Third quintile 41-60%</td>\n      <td>5.5</td>\n      <td>3.9</td>\n      <td>7.8</td>\n    </tr>\n    <tr>\n      <th>4</th>\n      <td>2007</td>\n      <td>Total</td>\n      <td>Dentist</td>\n      <td>Total</td>\n      <td>Fourth quintile 61-80%</td>\n      <td>7.2</td>\n      <td>5.3</td>\n      <td>9.6</td>\n    </tr>\n    <tr>\n      <th>...</th>\n      <td>...</td>\n      <td>...</td>\n      <td>...</td>\n      <td>...</td>\n      <td>...</td>\n      <td>...</td>\n      <td>...</td>\n      <td>...</td>\n    </tr>\n    <tr>\n      <th>1291</th>\n      <td>2018</td>\n      <td>Other reasons</td>\n      <td>Doctor or medical specialist</td>\n      <td>Males</td>\n      <td>Bottom quintile 1-20%</td>\n      <td>7.3</td>\n      <td>4.6</td>\n      <td>11.4</td>\n    </tr>\n    <tr>\n      <th>1292</th>\n      <td>2018</td>\n      <td>Other reasons</td>\n      <td>Doctor or medical specialist</td>\n      <td>Males</td>\n      <td>Second quintile 21-40%</td>\n      <td>4.9</td>\n      <td>2.8</td>\n      <td>8.3</td>\n    </tr>\n    <tr>\n      <th>1293</th>\n      <td>2018</td>\n      <td>Other reasons</td>\n      <td>Doctor or medical specialist</td>\n      <td>Males</td>\n      <td>Third quintile 41-60%</td>\n      <td>4.4</td>\n      <td>2.5</td>\n      <td>7.5</td>\n    </tr>\n    <tr>\n      <th>1294</th>\n      <td>2018</td>\n      <td>Other reasons</td>\n      <td>Doctor or medical specialist</td>\n      <td>Males</td>\n      <td>Fourth quintile 61-80%</td>\n      <td>4.6</td>\n      <td>2.7</td>\n      <td>7.9</td>\n    </tr>\n    <tr>\n      <th>1295</th>\n      <td>2018</td>\n      <td>Other reasons</td>\n      <td>Doctor or medical specialist</td>\n      <td>Males</td>\n      <td>Top quintile 81-100%</td>\n      <td>2.3</td>\n      <td>1.1</td>\n      <td>4.9</td>\n    </tr>\n  </tbody>\n</table>\n<p>1296 rows × 8 columns</p>\n</div>"
     },
     "metadata": {},
     "execution_count": 23
    }
   ],
   "source": [
    "df = pd.read_csv(config.r_health_data / 'unmet_health_need_2007_2018.csv')\n",
    "df"
   ]
  },
  {
   "cell_type": "code",
   "execution_count": 26,
   "metadata": {},
   "outputs": [
    {
     "output_type": "execute_result",
     "data": {
      "text/plain": "      Year         Reason               Health services    Sex  \\\n0     2007          Total                       Dentist  Total   \n1     2007          Total                       Dentist  Total   \n2     2007          Total                       Dentist  Total   \n3     2007          Total                       Dentist  Total   \n4     2007          Total                       Dentist  Total   \n...    ...            ...                           ...    ...   \n3883  2018  Other reasons  Doctor or medical specialist  Males   \n3884  2018  Other reasons  Doctor or medical specialist  Males   \n3885  2018  Other reasons  Doctor or medical specialist  Males   \n3886  2018  Other reasons  Doctor or medical specialist  Males   \n3887  2018  Other reasons  Doctor or medical specialist  Males   \n\n            Income quintiles                           unit  percent  \n0                      Total  Proportion of individuals (%)      7.4  \n1      Bottom quintile 1-20%  Proportion of individuals (%)     11.3  \n2     Second quintile 21-40%  Proportion of individuals (%)      7.6  \n3      Third quintile 41-60%  Proportion of individuals (%)      5.5  \n4     Fourth quintile 61-80%  Proportion of individuals (%)      7.2  \n...                      ...                            ...      ...  \n3883   Bottom quintile 1-20%    Proportion upper bounds (%)     11.4  \n3884  Second quintile 21-40%    Proportion upper bounds (%)      8.3  \n3885   Third quintile 41-60%    Proportion upper bounds (%)      7.5  \n3886  Fourth quintile 61-80%    Proportion upper bounds (%)      7.9  \n3887    Top quintile 81-100%    Proportion upper bounds (%)      4.9  \n\n[3888 rows x 7 columns]",
      "text/html": "<div>\n<style scoped>\n    .dataframe tbody tr th:only-of-type {\n        vertical-align: middle;\n    }\n\n    .dataframe tbody tr th {\n        vertical-align: top;\n    }\n\n    .dataframe thead th {\n        text-align: right;\n    }\n</style>\n<table border=\"1\" class=\"dataframe\">\n  <thead>\n    <tr style=\"text-align: right;\">\n      <th></th>\n      <th>Year</th>\n      <th>Reason</th>\n      <th>Health services</th>\n      <th>Sex</th>\n      <th>Income quintiles</th>\n      <th>unit</th>\n      <th>percent</th>\n    </tr>\n  </thead>\n  <tbody>\n    <tr>\n      <th>0</th>\n      <td>2007</td>\n      <td>Total</td>\n      <td>Dentist</td>\n      <td>Total</td>\n      <td>Total</td>\n      <td>Proportion of individuals (%)</td>\n      <td>7.4</td>\n    </tr>\n    <tr>\n      <th>1</th>\n      <td>2007</td>\n      <td>Total</td>\n      <td>Dentist</td>\n      <td>Total</td>\n      <td>Bottom quintile 1-20%</td>\n      <td>Proportion of individuals (%)</td>\n      <td>11.3</td>\n    </tr>\n    <tr>\n      <th>2</th>\n      <td>2007</td>\n      <td>Total</td>\n      <td>Dentist</td>\n      <td>Total</td>\n      <td>Second quintile 21-40%</td>\n      <td>Proportion of individuals (%)</td>\n      <td>7.6</td>\n    </tr>\n    <tr>\n      <th>3</th>\n      <td>2007</td>\n      <td>Total</td>\n      <td>Dentist</td>\n      <td>Total</td>\n      <td>Third quintile 41-60%</td>\n      <td>Proportion of individuals (%)</td>\n      <td>5.5</td>\n    </tr>\n    <tr>\n      <th>4</th>\n      <td>2007</td>\n      <td>Total</td>\n      <td>Dentist</td>\n      <td>Total</td>\n      <td>Fourth quintile 61-80%</td>\n      <td>Proportion of individuals (%)</td>\n      <td>7.2</td>\n    </tr>\n    <tr>\n      <th>...</th>\n      <td>...</td>\n      <td>...</td>\n      <td>...</td>\n      <td>...</td>\n      <td>...</td>\n      <td>...</td>\n      <td>...</td>\n    </tr>\n    <tr>\n      <th>3883</th>\n      <td>2018</td>\n      <td>Other reasons</td>\n      <td>Doctor or medical specialist</td>\n      <td>Males</td>\n      <td>Bottom quintile 1-20%</td>\n      <td>Proportion upper bounds (%)</td>\n      <td>11.4</td>\n    </tr>\n    <tr>\n      <th>3884</th>\n      <td>2018</td>\n      <td>Other reasons</td>\n      <td>Doctor or medical specialist</td>\n      <td>Males</td>\n      <td>Second quintile 21-40%</td>\n      <td>Proportion upper bounds (%)</td>\n      <td>8.3</td>\n    </tr>\n    <tr>\n      <th>3885</th>\n      <td>2018</td>\n      <td>Other reasons</td>\n      <td>Doctor or medical specialist</td>\n      <td>Males</td>\n      <td>Third quintile 41-60%</td>\n      <td>Proportion upper bounds (%)</td>\n      <td>7.5</td>\n    </tr>\n    <tr>\n      <th>3886</th>\n      <td>2018</td>\n      <td>Other reasons</td>\n      <td>Doctor or medical specialist</td>\n      <td>Males</td>\n      <td>Fourth quintile 61-80%</td>\n      <td>Proportion upper bounds (%)</td>\n      <td>7.9</td>\n    </tr>\n    <tr>\n      <th>3887</th>\n      <td>2018</td>\n      <td>Other reasons</td>\n      <td>Doctor or medical specialist</td>\n      <td>Males</td>\n      <td>Top quintile 81-100%</td>\n      <td>Proportion upper bounds (%)</td>\n      <td>4.9</td>\n    </tr>\n  </tbody>\n</table>\n<p>3888 rows × 7 columns</p>\n</div>"
     },
     "metadata": {},
     "execution_count": 26
    }
   ],
   "source": [
    "df = pd.melt(df, id_vars=['Year', 'Reason', 'Health services', 'Sex', 'Income quintiles'], var_name='unit', value_name='percent')\n",
    "df"
   ]
  },
  {
   "cell_type": "code",
   "execution_count": 28,
   "metadata": {},
   "outputs": [],
   "source": [
    "# to csv\n",
    "data_path = config.c_health_data / 'unmet_health_need_2007_2018.csv'\n",
    "df.to_csv(data_path, index=False)"
   ]
  }
 ]
}